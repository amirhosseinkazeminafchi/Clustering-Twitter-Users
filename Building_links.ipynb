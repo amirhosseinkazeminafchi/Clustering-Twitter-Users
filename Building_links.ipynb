{
 "cells": [
  {
   "cell_type": "code",
   "execution_count": 253,
   "metadata": {},
   "outputs": [],
   "source": [
    "import pandas as pd \n",
    "import os \n",
    "import numpy as np \n",
    "import pickle "
   ]
  },
  {
   "cell_type": "code",
   "execution_count": 254,
   "metadata": {},
   "outputs": [
    {
     "data": {
      "text/plain": [
       "['for_exploration.ipynb',\n",
       " 'art_topic_distribution.csv',\n",
       " 'user_tweet_pair.csv',\n",
       " '.DS_Store',\n",
       " 'user_tweet_topic.csv',\n",
       " 'art_info_w_topic.csv',\n",
       " 'linksWIP.csv',\n",
       " 'art_info1.csv',\n",
       " 'unq_links_2.pkl',\n",
       " 'unique_user_topic_distribution.csv',\n",
       " 'unq_links_1.pkl',\n",
       " 'unq_links_1_2.pkl',\n",
       " 'unq_links.pkl',\n",
       " 'user_tweet.gexf',\n",
       " 'nytposts_readyforarticle.csv',\n",
       " 'linksFinal.csv',\n",
       " '.ipynb_checkpoints',\n",
       " 'user_topic.gexf',\n",
       " 'unq_links_2_2.pkl',\n",
       " 'links.pkl',\n",
       " 'unique_users.csv',\n",
       " 'user_topic100.gexf']"
      ]
     },
     "execution_count": 254,
     "metadata": {},
     "output_type": "execute_result"
    }
   ],
   "source": [
    "os.listdir('data_collection/data')"
   ]
  },
  {
   "cell_type": "code",
   "execution_count": 3,
   "metadata": {},
   "outputs": [
    {
     "data": {
      "text/html": [
       "<div>\n",
       "<style scoped>\n",
       "    .dataframe tbody tr th:only-of-type {\n",
       "        vertical-align: middle;\n",
       "    }\n",
       "\n",
       "    .dataframe tbody tr th {\n",
       "        vertical-align: top;\n",
       "    }\n",
       "\n",
       "    .dataframe thead th {\n",
       "        text-align: right;\n",
       "    }\n",
       "</style>\n",
       "<table border=\"1\" class=\"dataframe\">\n",
       "  <thead>\n",
       "    <tr style=\"text-align: right;\">\n",
       "      <th></th>\n",
       "      <th>Unnamed: 0</th>\n",
       "      <th>user_id</th>\n",
       "      <th>screen_name</th>\n",
       "      <th>location</th>\n",
       "      <th>retweet_list</th>\n",
       "      <th>retweet_count</th>\n",
       "    </tr>\n",
       "  </thead>\n",
       "  <tbody>\n",
       "    <tr>\n",
       "      <th>0</th>\n",
       "      <td>0</td>\n",
       "      <td>55651793</td>\n",
       "      <td>['JSullivanIII']</td>\n",
       "      <td>['Queens, NYC']</td>\n",
       "      <td>[1097372619848986625, 1096157615225212933, 109...</td>\n",
       "      <td>18</td>\n",
       "    </tr>\n",
       "    <tr>\n",
       "      <th>1</th>\n",
       "      <td>1</td>\n",
       "      <td>191972027</td>\n",
       "      <td>['ojessen']</td>\n",
       "      <td>['Kiel']</td>\n",
       "      <td>[1097372619848986625, 1096696739128578048, 109...</td>\n",
       "      <td>8</td>\n",
       "    </tr>\n",
       "    <tr>\n",
       "      <th>2</th>\n",
       "      <td>2</td>\n",
       "      <td>22681390</td>\n",
       "      <td>['leehlawrence']</td>\n",
       "      <td>['']</td>\n",
       "      <td>[1097372619848986625, 1097368941842837506, 109...</td>\n",
       "      <td>4</td>\n",
       "    </tr>\n",
       "    <tr>\n",
       "      <th>3</th>\n",
       "      <td>3</td>\n",
       "      <td>897359310308622336</td>\n",
       "      <td>['enaliyuddin']</td>\n",
       "      <td>['Yogyakarta, Indonesia']</td>\n",
       "      <td>[1097372619848986625, 1093800374614585344]</td>\n",
       "      <td>2</td>\n",
       "    </tr>\n",
       "    <tr>\n",
       "      <th>4</th>\n",
       "      <td>4</td>\n",
       "      <td>4141824748</td>\n",
       "      <td>['eleftheria20464']</td>\n",
       "      <td>['']</td>\n",
       "      <td>[1097372619848986625, 1097364848890007552, 109...</td>\n",
       "      <td>72</td>\n",
       "    </tr>\n",
       "  </tbody>\n",
       "</table>\n",
       "</div>"
      ],
      "text/plain": [
       "   Unnamed: 0             user_id          screen_name  \\\n",
       "0           0            55651793     ['JSullivanIII']   \n",
       "1           1           191972027          ['ojessen']   \n",
       "2           2            22681390     ['leehlawrence']   \n",
       "3           3  897359310308622336      ['enaliyuddin']   \n",
       "4           4          4141824748  ['eleftheria20464']   \n",
       "\n",
       "                    location  \\\n",
       "0            ['Queens, NYC']   \n",
       "1                   ['Kiel']   \n",
       "2                       ['']   \n",
       "3  ['Yogyakarta, Indonesia']   \n",
       "4                       ['']   \n",
       "\n",
       "                                        retweet_list  retweet_count  \n",
       "0  [1097372619848986625, 1096157615225212933, 109...             18  \n",
       "1  [1097372619848986625, 1096696739128578048, 109...              8  \n",
       "2  [1097372619848986625, 1097368941842837506, 109...              4  \n",
       "3         [1097372619848986625, 1093800374614585344]              2  \n",
       "4  [1097372619848986625, 1097364848890007552, 109...             72  "
      ]
     },
     "execution_count": 3,
     "metadata": {},
     "output_type": "execute_result"
    }
   ],
   "source": [
    "users = pd.read_csv('data_collection/data/unique_users.csv')\n",
    "users.head()"
   ]
  },
  {
   "cell_type": "code",
   "execution_count": 128,
   "metadata": {
    "scrolled": true
   },
   "outputs": [
    {
     "data": {
      "text/html": [
       "<div>\n",
       "<style scoped>\n",
       "    .dataframe tbody tr th:only-of-type {\n",
       "        vertical-align: middle;\n",
       "    }\n",
       "\n",
       "    .dataframe tbody tr th {\n",
       "        vertical-align: top;\n",
       "    }\n",
       "\n",
       "    .dataframe thead th {\n",
       "        text-align: right;\n",
       "    }\n",
       "</style>\n",
       "<table border=\"1\" class=\"dataframe\">\n",
       "  <thead>\n",
       "    <tr style=\"text-align: right;\">\n",
       "      <th></th>\n",
       "      <th>Unnamed: 0</th>\n",
       "      <th>user_id</th>\n",
       "      <th>screen_name</th>\n",
       "      <th>location</th>\n",
       "      <th>tweet_id</th>\n",
       "    </tr>\n",
       "  </thead>\n",
       "  <tbody>\n",
       "    <tr>\n",
       "      <th>0</th>\n",
       "      <td>0</td>\n",
       "      <td>55651793</td>\n",
       "      <td>JSullivanIII</td>\n",
       "      <td>Queens, NYC</td>\n",
       "      <td>1097372619848986625</td>\n",
       "    </tr>\n",
       "    <tr>\n",
       "      <th>1</th>\n",
       "      <td>1</td>\n",
       "      <td>191972027</td>\n",
       "      <td>ojessen</td>\n",
       "      <td>Kiel</td>\n",
       "      <td>1097372619848986625</td>\n",
       "    </tr>\n",
       "    <tr>\n",
       "      <th>2</th>\n",
       "      <td>2</td>\n",
       "      <td>22681390</td>\n",
       "      <td>leehlawrence</td>\n",
       "      <td>NaN</td>\n",
       "      <td>1097372619848986625</td>\n",
       "    </tr>\n",
       "    <tr>\n",
       "      <th>3</th>\n",
       "      <td>3</td>\n",
       "      <td>897359310308622336</td>\n",
       "      <td>enaliyuddin</td>\n",
       "      <td>Yogyakarta, Indonesia</td>\n",
       "      <td>1097372619848986625</td>\n",
       "    </tr>\n",
       "    <tr>\n",
       "      <th>4</th>\n",
       "      <td>4</td>\n",
       "      <td>4141824748</td>\n",
       "      <td>eleftheria20464</td>\n",
       "      <td>NaN</td>\n",
       "      <td>1097372619848986625</td>\n",
       "    </tr>\n",
       "  </tbody>\n",
       "</table>\n",
       "</div>"
      ],
      "text/plain": [
       "   Unnamed: 0             user_id      screen_name               location  \\\n",
       "0           0            55651793     JSullivanIII            Queens, NYC   \n",
       "1           1           191972027          ojessen                   Kiel   \n",
       "2           2            22681390     leehlawrence                    NaN   \n",
       "3           3  897359310308622336      enaliyuddin  Yogyakarta, Indonesia   \n",
       "4           4          4141824748  eleftheria20464                    NaN   \n",
       "\n",
       "              tweet_id  \n",
       "0  1097372619848986625  \n",
       "1  1097372619848986625  \n",
       "2  1097372619848986625  \n",
       "3  1097372619848986625  \n",
       "4  1097372619848986625  "
      ]
     },
     "execution_count": 128,
     "metadata": {},
     "output_type": "execute_result"
    }
   ],
   "source": [
    "user_tweet = pd.read_csv('data_collection/data/user_tweet_pair.csv')\n",
    "user_tweet.head()"
   ]
  },
  {
   "cell_type": "markdown",
   "metadata": {},
   "source": [
    "### Adding weight to individual users \n",
    "For each tweet,  If t = total retweets\n",
    "\n",
    "Then each of the twitter users who retweeted an article is assigned a weight of  1/t for that particulr tweet. "
   ]
  },
  {
   "cell_type": "code",
   "execution_count": null,
   "metadata": {},
   "outputs": [],
   "source": []
  },
  {
   "cell_type": "code",
   "execution_count": 129,
   "metadata": {},
   "outputs": [],
   "source": [
    "#grouping by tweet_id\n",
    "df = user_tweet.groupby('tweet_id').count()\n",
    "df.reset_index(inplace=True)"
   ]
  },
  {
   "cell_type": "code",
   "execution_count": 75,
   "metadata": {},
   "outputs": [
    {
     "data": {
      "text/plain": [
       "(89, 5)"
      ]
     },
     "execution_count": 75,
     "metadata": {},
     "output_type": "execute_result"
    }
   ],
   "source": [
    "user_tweet[user_tweet.tweet_id == 1086277077685301249].shape"
   ]
  },
  {
   "cell_type": "code",
   "execution_count": 130,
   "metadata": {},
   "outputs": [],
   "source": [
    "# Adding weights to column\n",
    "df['weight'] = [1/x for x in df.user_id]"
   ]
  },
  {
   "cell_type": "code",
   "execution_count": 131,
   "metadata": {
    "scrolled": true
   },
   "outputs": [
    {
     "data": {
      "text/html": [
       "<div>\n",
       "<style scoped>\n",
       "    .dataframe tbody tr th:only-of-type {\n",
       "        vertical-align: middle;\n",
       "    }\n",
       "\n",
       "    .dataframe tbody tr th {\n",
       "        vertical-align: top;\n",
       "    }\n",
       "\n",
       "    .dataframe thead th {\n",
       "        text-align: right;\n",
       "    }\n",
       "</style>\n",
       "<table border=\"1\" class=\"dataframe\">\n",
       "  <thead>\n",
       "    <tr style=\"text-align: right;\">\n",
       "      <th></th>\n",
       "      <th>tweet_id</th>\n",
       "      <th>Unnamed: 0</th>\n",
       "      <th>user_id</th>\n",
       "      <th>screen_name</th>\n",
       "      <th>location</th>\n",
       "      <th>weight</th>\n",
       "    </tr>\n",
       "  </thead>\n",
       "  <tbody>\n",
       "    <tr>\n",
       "      <th>0</th>\n",
       "      <td>1086277077685301249</td>\n",
       "      <td>89</td>\n",
       "      <td>89</td>\n",
       "      <td>89</td>\n",
       "      <td>68</td>\n",
       "      <td>0.011236</td>\n",
       "    </tr>\n",
       "    <tr>\n",
       "      <th>1</th>\n",
       "      <td>1086284595207778305</td>\n",
       "      <td>92</td>\n",
       "      <td>92</td>\n",
       "      <td>92</td>\n",
       "      <td>59</td>\n",
       "      <td>0.010870</td>\n",
       "    </tr>\n",
       "    <tr>\n",
       "      <th>2</th>\n",
       "      <td>1086292173996339200</td>\n",
       "      <td>75</td>\n",
       "      <td>75</td>\n",
       "      <td>75</td>\n",
       "      <td>49</td>\n",
       "      <td>0.013333</td>\n",
       "    </tr>\n",
       "    <tr>\n",
       "      <th>3</th>\n",
       "      <td>1086295933300674562</td>\n",
       "      <td>86</td>\n",
       "      <td>86</td>\n",
       "      <td>86</td>\n",
       "      <td>64</td>\n",
       "      <td>0.011628</td>\n",
       "    </tr>\n",
       "    <tr>\n",
       "      <th>4</th>\n",
       "      <td>1086299729565270016</td>\n",
       "      <td>91</td>\n",
       "      <td>91</td>\n",
       "      <td>91</td>\n",
       "      <td>67</td>\n",
       "      <td>0.010989</td>\n",
       "    </tr>\n",
       "  </tbody>\n",
       "</table>\n",
       "</div>"
      ],
      "text/plain": [
       "              tweet_id  Unnamed: 0  user_id  screen_name  location    weight\n",
       "0  1086277077685301249          89       89           89        68  0.011236\n",
       "1  1086284595207778305          92       92           92        59  0.010870\n",
       "2  1086292173996339200          75       75           75        49  0.013333\n",
       "3  1086295933300674562          86       86           86        64  0.011628\n",
       "4  1086299729565270016          91       91           91        67  0.010989"
      ]
     },
     "execution_count": 131,
     "metadata": {},
     "output_type": "execute_result"
    }
   ],
   "source": [
    "df.head()"
   ]
  },
  {
   "cell_type": "code",
   "execution_count": 132,
   "metadata": {},
   "outputs": [
    {
     "data": {
      "text/plain": [
       "(2434, 6)"
      ]
     },
     "execution_count": 132,
     "metadata": {},
     "output_type": "execute_result"
    }
   ],
   "source": [
    "#checking to see the number of unique articles is the same\n",
    "df.shape"
   ]
  },
  {
   "cell_type": "code",
   "execution_count": 133,
   "metadata": {},
   "outputs": [],
   "source": [
    "df1 = pd.DataFrame()"
   ]
  },
  {
   "cell_type": "code",
   "execution_count": 134,
   "metadata": {},
   "outputs": [],
   "source": [
    "df1['tweet_id'] = df.tweet_id\n",
    "df1['weight'] = df.weight\n",
    "df1['retweet_count'] = df.user_id"
   ]
  },
  {
   "cell_type": "code",
   "execution_count": 135,
   "metadata": {},
   "outputs": [
    {
     "data": {
      "text/plain": [
       "(2434, 3)"
      ]
     },
     "execution_count": 135,
     "metadata": {},
     "output_type": "execute_result"
    }
   ],
   "source": [
    "df1.shape"
   ]
  },
  {
   "cell_type": "code",
   "execution_count": 136,
   "metadata": {},
   "outputs": [],
   "source": [
    "#merging with user_tweet to get all data \n",
    "df2 = pd.merge(user_tweet, df1, how = 'outer', on = ['tweet_id'])"
   ]
  },
  {
   "cell_type": "code",
   "execution_count": 137,
   "metadata": {},
   "outputs": [
    {
     "data": {
      "text/plain": [
       "(157747, 7)"
      ]
     },
     "execution_count": 137,
     "metadata": {},
     "output_type": "execute_result"
    }
   ],
   "source": [
    "df2.shape"
   ]
  },
  {
   "cell_type": "code",
   "execution_count": 138,
   "metadata": {},
   "outputs": [
    {
     "data": {
      "text/plain": [
       "Unnamed: 0       False\n",
       "user_id          False\n",
       "screen_name      False\n",
       "location          True\n",
       "tweet_id         False\n",
       "weight           False\n",
       "retweet_count    False\n",
       "dtype: bool"
      ]
     },
     "execution_count": 138,
     "metadata": {},
     "output_type": "execute_result"
    }
   ],
   "source": [
    "df2.isna().any()"
   ]
  },
  {
   "cell_type": "code",
   "execution_count": 139,
   "metadata": {},
   "outputs": [
    {
     "data": {
      "text/html": [
       "<div>\n",
       "<style scoped>\n",
       "    .dataframe tbody tr th:only-of-type {\n",
       "        vertical-align: middle;\n",
       "    }\n",
       "\n",
       "    .dataframe tbody tr th {\n",
       "        vertical-align: top;\n",
       "    }\n",
       "\n",
       "    .dataframe thead th {\n",
       "        text-align: right;\n",
       "    }\n",
       "</style>\n",
       "<table border=\"1\" class=\"dataframe\">\n",
       "  <thead>\n",
       "    <tr style=\"text-align: right;\">\n",
       "      <th></th>\n",
       "      <th>Unnamed: 0</th>\n",
       "      <th>user_id</th>\n",
       "      <th>screen_name</th>\n",
       "      <th>location</th>\n",
       "      <th>tweet_id</th>\n",
       "      <th>weight</th>\n",
       "      <th>retweet_count</th>\n",
       "    </tr>\n",
       "  </thead>\n",
       "  <tbody>\n",
       "    <tr>\n",
       "      <th>0</th>\n",
       "      <td>0</td>\n",
       "      <td>55651793</td>\n",
       "      <td>JSullivanIII</td>\n",
       "      <td>Queens, NYC</td>\n",
       "      <td>1097372619848986625</td>\n",
       "      <td>0.027027</td>\n",
       "      <td>37</td>\n",
       "    </tr>\n",
       "    <tr>\n",
       "      <th>1</th>\n",
       "      <td>1</td>\n",
       "      <td>191972027</td>\n",
       "      <td>ojessen</td>\n",
       "      <td>Kiel</td>\n",
       "      <td>1097372619848986625</td>\n",
       "      <td>0.027027</td>\n",
       "      <td>37</td>\n",
       "    </tr>\n",
       "    <tr>\n",
       "      <th>2</th>\n",
       "      <td>2</td>\n",
       "      <td>22681390</td>\n",
       "      <td>leehlawrence</td>\n",
       "      <td>NaN</td>\n",
       "      <td>1097372619848986625</td>\n",
       "      <td>0.027027</td>\n",
       "      <td>37</td>\n",
       "    </tr>\n",
       "    <tr>\n",
       "      <th>3</th>\n",
       "      <td>3</td>\n",
       "      <td>897359310308622336</td>\n",
       "      <td>enaliyuddin</td>\n",
       "      <td>Yogyakarta, Indonesia</td>\n",
       "      <td>1097372619848986625</td>\n",
       "      <td>0.027027</td>\n",
       "      <td>37</td>\n",
       "    </tr>\n",
       "    <tr>\n",
       "      <th>4</th>\n",
       "      <td>4</td>\n",
       "      <td>4141824748</td>\n",
       "      <td>eleftheria20464</td>\n",
       "      <td>NaN</td>\n",
       "      <td>1097372619848986625</td>\n",
       "      <td>0.027027</td>\n",
       "      <td>37</td>\n",
       "    </tr>\n",
       "  </tbody>\n",
       "</table>\n",
       "</div>"
      ],
      "text/plain": [
       "   Unnamed: 0             user_id      screen_name               location  \\\n",
       "0           0            55651793     JSullivanIII            Queens, NYC   \n",
       "1           1           191972027          ojessen                   Kiel   \n",
       "2           2            22681390     leehlawrence                    NaN   \n",
       "3           3  897359310308622336      enaliyuddin  Yogyakarta, Indonesia   \n",
       "4           4          4141824748  eleftheria20464                    NaN   \n",
       "\n",
       "              tweet_id    weight  retweet_count  \n",
       "0  1097372619848986625  0.027027             37  \n",
       "1  1097372619848986625  0.027027             37  \n",
       "2  1097372619848986625  0.027027             37  \n",
       "3  1097372619848986625  0.027027             37  \n",
       "4  1097372619848986625  0.027027             37  "
      ]
     },
     "execution_count": 139,
     "metadata": {},
     "output_type": "execute_result"
    }
   ],
   "source": [
    "df2.head()"
   ]
  },
  {
   "cell_type": "code",
   "execution_count": 51,
   "metadata": {},
   "outputs": [],
   "source": [
    "#calculating total weight for each unique user. \n",
    "#Total weight is the sum of weights from each tweet retweeted by user\n",
    "D = {}\n",
    "for i in range(df2.shape[0]): \n",
    "    user_id = df2.user_id[i]\n",
    "    weight = df2.weight[i]\n",
    "    if user_id not in D: \n",
    "        D[user_id] = 0\n",
    "        D[user_id] += weight\n",
    "    else: \n",
    "        D[user_id] += weight"
   ]
  },
  {
   "cell_type": "code",
   "execution_count": 52,
   "metadata": {},
   "outputs": [
    {
     "data": {
      "text/plain": [
       "(76913, (76913, 7))"
      ]
     },
     "execution_count": 52,
     "metadata": {},
     "output_type": "execute_result"
    }
   ],
   "source": [
    "len(D.keys()), users.shape"
   ]
  },
  {
   "cell_type": "code",
   "execution_count": 24,
   "metadata": {},
   "outputs": [
    {
     "data": {
      "text/plain": [
       "0.4074595016247618"
      ]
     },
     "execution_count": 24,
     "metadata": {},
     "output_type": "execute_result"
    }
   ],
   "source": [
    "D[55651793]"
   ]
  },
  {
   "cell_type": "code",
   "execution_count": 53,
   "metadata": {},
   "outputs": [
    {
     "data": {
      "text/html": [
       "<div>\n",
       "<style scoped>\n",
       "    .dataframe tbody tr th:only-of-type {\n",
       "        vertical-align: middle;\n",
       "    }\n",
       "\n",
       "    .dataframe tbody tr th {\n",
       "        vertical-align: top;\n",
       "    }\n",
       "\n",
       "    .dataframe thead th {\n",
       "        text-align: right;\n",
       "    }\n",
       "</style>\n",
       "<table border=\"1\" class=\"dataframe\">\n",
       "  <thead>\n",
       "    <tr style=\"text-align: right;\">\n",
       "      <th></th>\n",
       "      <th>user_id</th>\n",
       "      <th>total_weight</th>\n",
       "    </tr>\n",
       "  </thead>\n",
       "  <tbody>\n",
       "    <tr>\n",
       "      <th>0</th>\n",
       "      <td>55651793</td>\n",
       "      <td>0.280275</td>\n",
       "    </tr>\n",
       "    <tr>\n",
       "      <th>1</th>\n",
       "      <td>191972027</td>\n",
       "      <td>0.137273</td>\n",
       "    </tr>\n",
       "    <tr>\n",
       "      <th>2</th>\n",
       "      <td>22681390</td>\n",
       "      <td>0.060897</td>\n",
       "    </tr>\n",
       "    <tr>\n",
       "      <th>3</th>\n",
       "      <td>897359310308622336</td>\n",
       "      <td>0.039527</td>\n",
       "    </tr>\n",
       "    <tr>\n",
       "      <th>4</th>\n",
       "      <td>4141824748</td>\n",
       "      <td>1.111009</td>\n",
       "    </tr>\n",
       "  </tbody>\n",
       "</table>\n",
       "</div>"
      ],
      "text/plain": [
       "              user_id  total_weight\n",
       "0            55651793      0.280275\n",
       "1           191972027      0.137273\n",
       "2            22681390      0.060897\n",
       "3  897359310308622336      0.039527\n",
       "4          4141824748      1.111009"
      ]
     },
     "execution_count": 53,
     "metadata": {},
     "output_type": "execute_result"
    }
   ],
   "source": [
    "df3 = pd.DataFrame()\n",
    "df3['user_id'] = D.keys()\n",
    "df3['total_weight'] = D.values()\n",
    "df3.head()"
   ]
  },
  {
   "cell_type": "code",
   "execution_count": 54,
   "metadata": {},
   "outputs": [],
   "source": [
    "users = users.merge(df3, how = 'inner', on = ['user_id'])"
   ]
  },
  {
   "cell_type": "code",
   "execution_count": 55,
   "metadata": {
    "scrolled": true
   },
   "outputs": [
    {
     "data": {
      "text/html": [
       "<div>\n",
       "<style scoped>\n",
       "    .dataframe tbody tr th:only-of-type {\n",
       "        vertical-align: middle;\n",
       "    }\n",
       "\n",
       "    .dataframe tbody tr th {\n",
       "        vertical-align: top;\n",
       "    }\n",
       "\n",
       "    .dataframe thead th {\n",
       "        text-align: right;\n",
       "    }\n",
       "</style>\n",
       "<table border=\"1\" class=\"dataframe\">\n",
       "  <thead>\n",
       "    <tr style=\"text-align: right;\">\n",
       "      <th></th>\n",
       "      <th>Unnamed: 0</th>\n",
       "      <th>user_id</th>\n",
       "      <th>screen_name</th>\n",
       "      <th>location</th>\n",
       "      <th>retweet_list</th>\n",
       "      <th>retweet_count</th>\n",
       "      <th>total_weight_x</th>\n",
       "      <th>total_weight_y</th>\n",
       "    </tr>\n",
       "  </thead>\n",
       "  <tbody>\n",
       "    <tr>\n",
       "      <th>0</th>\n",
       "      <td>0</td>\n",
       "      <td>55651793</td>\n",
       "      <td>['JSullivanIII']</td>\n",
       "      <td>['Queens, NYC']</td>\n",
       "      <td>[1097372619848986625, 1096157615225212933, 109...</td>\n",
       "      <td>18</td>\n",
       "      <td>0.407460</td>\n",
       "      <td>0.280275</td>\n",
       "    </tr>\n",
       "    <tr>\n",
       "      <th>1</th>\n",
       "      <td>1</td>\n",
       "      <td>191972027</td>\n",
       "      <td>['ojessen']</td>\n",
       "      <td>['Kiel']</td>\n",
       "      <td>[1097372619848986625, 1096696739128578048, 109...</td>\n",
       "      <td>8</td>\n",
       "      <td>0.196842</td>\n",
       "      <td>0.137273</td>\n",
       "    </tr>\n",
       "    <tr>\n",
       "      <th>2</th>\n",
       "      <td>2</td>\n",
       "      <td>22681390</td>\n",
       "      <td>['leehlawrence']</td>\n",
       "      <td>['']</td>\n",
       "      <td>[1097372619848986625, 1097368941842837506, 109...</td>\n",
       "      <td>4</td>\n",
       "      <td>0.088011</td>\n",
       "      <td>0.060897</td>\n",
       "    </tr>\n",
       "    <tr>\n",
       "      <th>3</th>\n",
       "      <td>3</td>\n",
       "      <td>897359310308622336</td>\n",
       "      <td>['enaliyuddin']</td>\n",
       "      <td>['Yogyakarta, Indonesia']</td>\n",
       "      <td>[1097372619848986625, 1093800374614585344]</td>\n",
       "      <td>2</td>\n",
       "      <td>0.061277</td>\n",
       "      <td>0.039527</td>\n",
       "    </tr>\n",
       "    <tr>\n",
       "      <th>4</th>\n",
       "      <td>4</td>\n",
       "      <td>4141824748</td>\n",
       "      <td>['eleftheria20464']</td>\n",
       "      <td>['']</td>\n",
       "      <td>[1097372619848986625, 1097364848890007552, 109...</td>\n",
       "      <td>72</td>\n",
       "      <td>1.714770</td>\n",
       "      <td>1.111009</td>\n",
       "    </tr>\n",
       "  </tbody>\n",
       "</table>\n",
       "</div>"
      ],
      "text/plain": [
       "   Unnamed: 0             user_id          screen_name  \\\n",
       "0           0            55651793     ['JSullivanIII']   \n",
       "1           1           191972027          ['ojessen']   \n",
       "2           2            22681390     ['leehlawrence']   \n",
       "3           3  897359310308622336      ['enaliyuddin']   \n",
       "4           4          4141824748  ['eleftheria20464']   \n",
       "\n",
       "                    location  \\\n",
       "0            ['Queens, NYC']   \n",
       "1                   ['Kiel']   \n",
       "2                       ['']   \n",
       "3  ['Yogyakarta, Indonesia']   \n",
       "4                       ['']   \n",
       "\n",
       "                                        retweet_list  retweet_count  \\\n",
       "0  [1097372619848986625, 1096157615225212933, 109...             18   \n",
       "1  [1097372619848986625, 1096696739128578048, 109...              8   \n",
       "2  [1097372619848986625, 1097368941842837506, 109...              4   \n",
       "3         [1097372619848986625, 1093800374614585344]              2   \n",
       "4  [1097372619848986625, 1097364848890007552, 109...             72   \n",
       "\n",
       "   total_weight_x  total_weight_y  \n",
       "0        0.407460        0.280275  \n",
       "1        0.196842        0.137273  \n",
       "2        0.088011        0.060897  \n",
       "3        0.061277        0.039527  \n",
       "4        1.714770        1.111009  "
      ]
     },
     "execution_count": 55,
     "metadata": {},
     "output_type": "execute_result"
    }
   ],
   "source": [
    "users.head()"
   ]
  },
  {
   "cell_type": "code",
   "execution_count": 60,
   "metadata": {},
   "outputs": [
    {
     "data": {
      "text/plain": [
       "((76913, 2), (76913, 7))"
      ]
     },
     "execution_count": 60,
     "metadata": {},
     "output_type": "execute_result"
    }
   ],
   "source": [
    "df3.shape, users.shape"
   ]
  },
  {
   "cell_type": "code",
   "execution_count": 66,
   "metadata": {},
   "outputs": [
    {
     "data": {
      "text/html": [
       "<div>\n",
       "<style scoped>\n",
       "    .dataframe tbody tr th:only-of-type {\n",
       "        vertical-align: middle;\n",
       "    }\n",
       "\n",
       "    .dataframe tbody tr th {\n",
       "        vertical-align: top;\n",
       "    }\n",
       "\n",
       "    .dataframe thead th {\n",
       "        text-align: right;\n",
       "    }\n",
       "</style>\n",
       "<table border=\"1\" class=\"dataframe\">\n",
       "  <thead>\n",
       "    <tr style=\"text-align: right;\">\n",
       "      <th></th>\n",
       "      <th>user_id</th>\n",
       "      <th>screen_name</th>\n",
       "      <th>location</th>\n",
       "      <th>retweet_list</th>\n",
       "      <th>retweet_count</th>\n",
       "      <th>total_weight</th>\n",
       "    </tr>\n",
       "  </thead>\n",
       "  <tbody>\n",
       "    <tr>\n",
       "      <th>0</th>\n",
       "      <td>55651793</td>\n",
       "      <td>['JSullivanIII']</td>\n",
       "      <td>['Queens, NYC']</td>\n",
       "      <td>[1097372619848986625, 1096157615225212933, 109...</td>\n",
       "      <td>18</td>\n",
       "      <td>0.280275</td>\n",
       "    </tr>\n",
       "    <tr>\n",
       "      <th>1</th>\n",
       "      <td>191972027</td>\n",
       "      <td>['ojessen']</td>\n",
       "      <td>['Kiel']</td>\n",
       "      <td>[1097372619848986625, 1096696739128578048, 109...</td>\n",
       "      <td>8</td>\n",
       "      <td>0.137273</td>\n",
       "    </tr>\n",
       "    <tr>\n",
       "      <th>2</th>\n",
       "      <td>22681390</td>\n",
       "      <td>['leehlawrence']</td>\n",
       "      <td>['']</td>\n",
       "      <td>[1097372619848986625, 1097368941842837506, 109...</td>\n",
       "      <td>4</td>\n",
       "      <td>0.060897</td>\n",
       "    </tr>\n",
       "    <tr>\n",
       "      <th>3</th>\n",
       "      <td>897359310308622336</td>\n",
       "      <td>['enaliyuddin']</td>\n",
       "      <td>['Yogyakarta, Indonesia']</td>\n",
       "      <td>[1097372619848986625, 1093800374614585344]</td>\n",
       "      <td>2</td>\n",
       "      <td>0.039527</td>\n",
       "    </tr>\n",
       "    <tr>\n",
       "      <th>4</th>\n",
       "      <td>4141824748</td>\n",
       "      <td>['eleftheria20464']</td>\n",
       "      <td>['']</td>\n",
       "      <td>[1097372619848986625, 1097364848890007552, 109...</td>\n",
       "      <td>72</td>\n",
       "      <td>1.111009</td>\n",
       "    </tr>\n",
       "  </tbody>\n",
       "</table>\n",
       "</div>"
      ],
      "text/plain": [
       "              user_id          screen_name                   location  \\\n",
       "0            55651793     ['JSullivanIII']            ['Queens, NYC']   \n",
       "1           191972027          ['ojessen']                   ['Kiel']   \n",
       "2            22681390     ['leehlawrence']                       ['']   \n",
       "3  897359310308622336      ['enaliyuddin']  ['Yogyakarta, Indonesia']   \n",
       "4          4141824748  ['eleftheria20464']                       ['']   \n",
       "\n",
       "                                        retweet_list  retweet_count  \\\n",
       "0  [1097372619848986625, 1096157615225212933, 109...             18   \n",
       "1  [1097372619848986625, 1096696739128578048, 109...              8   \n",
       "2  [1097372619848986625, 1097368941842837506, 109...              4   \n",
       "3         [1097372619848986625, 1093800374614585344]              2   \n",
       "4  [1097372619848986625, 1097364848890007552, 109...             72   \n",
       "\n",
       "   total_weight  \n",
       "0      0.280275  \n",
       "1      0.137273  \n",
       "2      0.060897  \n",
       "3      0.039527  \n",
       "4      1.111009  "
      ]
     },
     "execution_count": 66,
     "metadata": {},
     "output_type": "execute_result"
    }
   ],
   "source": [
    "users.head()"
   ]
  },
  {
   "cell_type": "code",
   "execution_count": 67,
   "metadata": {},
   "outputs": [],
   "source": [
    "# users.to_csv('data_collection/data/unique_users.csv')"
   ]
  },
  {
   "cell_type": "markdown",
   "metadata": {},
   "source": [
    "### BUILD LINKS\n",
    "1. We find a list of unique tweets \n",
    "2. For each tweet we have get the list of  retweeters \n",
    "3. We create all possible pair of users from the retweeter-list for that tweet\n",
    "4. For each pair we give a weight of 1/(total retweeters)\n"
   ]
  },
  {
   "cell_type": "code",
   "execution_count": 140,
   "metadata": {
    "scrolled": true
   },
   "outputs": [
    {
     "name": "stdout",
     "output_type": "stream",
     "text": [
      "df2 shape: (157747, 7)\n"
     ]
    },
    {
     "data": {
      "text/html": [
       "<div>\n",
       "<style scoped>\n",
       "    .dataframe tbody tr th:only-of-type {\n",
       "        vertical-align: middle;\n",
       "    }\n",
       "\n",
       "    .dataframe tbody tr th {\n",
       "        vertical-align: top;\n",
       "    }\n",
       "\n",
       "    .dataframe thead th {\n",
       "        text-align: right;\n",
       "    }\n",
       "</style>\n",
       "<table border=\"1\" class=\"dataframe\">\n",
       "  <thead>\n",
       "    <tr style=\"text-align: right;\">\n",
       "      <th></th>\n",
       "      <th>Unnamed: 0</th>\n",
       "      <th>user_id</th>\n",
       "      <th>screen_name</th>\n",
       "      <th>location</th>\n",
       "      <th>tweet_id</th>\n",
       "      <th>weight</th>\n",
       "      <th>retweet_count</th>\n",
       "    </tr>\n",
       "  </thead>\n",
       "  <tbody>\n",
       "    <tr>\n",
       "      <th>0</th>\n",
       "      <td>0</td>\n",
       "      <td>55651793</td>\n",
       "      <td>JSullivanIII</td>\n",
       "      <td>Queens, NYC</td>\n",
       "      <td>1097372619848986625</td>\n",
       "      <td>0.027027</td>\n",
       "      <td>37</td>\n",
       "    </tr>\n",
       "    <tr>\n",
       "      <th>1</th>\n",
       "      <td>1</td>\n",
       "      <td>191972027</td>\n",
       "      <td>ojessen</td>\n",
       "      <td>Kiel</td>\n",
       "      <td>1097372619848986625</td>\n",
       "      <td>0.027027</td>\n",
       "      <td>37</td>\n",
       "    </tr>\n",
       "    <tr>\n",
       "      <th>2</th>\n",
       "      <td>2</td>\n",
       "      <td>22681390</td>\n",
       "      <td>leehlawrence</td>\n",
       "      <td>NaN</td>\n",
       "      <td>1097372619848986625</td>\n",
       "      <td>0.027027</td>\n",
       "      <td>37</td>\n",
       "    </tr>\n",
       "    <tr>\n",
       "      <th>3</th>\n",
       "      <td>3</td>\n",
       "      <td>897359310308622336</td>\n",
       "      <td>enaliyuddin</td>\n",
       "      <td>Yogyakarta, Indonesia</td>\n",
       "      <td>1097372619848986625</td>\n",
       "      <td>0.027027</td>\n",
       "      <td>37</td>\n",
       "    </tr>\n",
       "    <tr>\n",
       "      <th>4</th>\n",
       "      <td>4</td>\n",
       "      <td>4141824748</td>\n",
       "      <td>eleftheria20464</td>\n",
       "      <td>NaN</td>\n",
       "      <td>1097372619848986625</td>\n",
       "      <td>0.027027</td>\n",
       "      <td>37</td>\n",
       "    </tr>\n",
       "  </tbody>\n",
       "</table>\n",
       "</div>"
      ],
      "text/plain": [
       "   Unnamed: 0             user_id      screen_name               location  \\\n",
       "0           0            55651793     JSullivanIII            Queens, NYC   \n",
       "1           1           191972027          ojessen                   Kiel   \n",
       "2           2            22681390     leehlawrence                    NaN   \n",
       "3           3  897359310308622336      enaliyuddin  Yogyakarta, Indonesia   \n",
       "4           4          4141824748  eleftheria20464                    NaN   \n",
       "\n",
       "              tweet_id    weight  retweet_count  \n",
       "0  1097372619848986625  0.027027             37  \n",
       "1  1097372619848986625  0.027027             37  \n",
       "2  1097372619848986625  0.027027             37  \n",
       "3  1097372619848986625  0.027027             37  \n",
       "4  1097372619848986625  0.027027             37  "
      ]
     },
     "execution_count": 140,
     "metadata": {},
     "output_type": "execute_result"
    }
   ],
   "source": [
    "print('df2 shape:', df2.shape)\n",
    "df2.head()"
   ]
  },
  {
   "cell_type": "code",
   "execution_count": 141,
   "metadata": {},
   "outputs": [
    {
     "data": {
      "text/plain": [
       "2434"
      ]
     },
     "execution_count": 141,
     "metadata": {},
     "output_type": "execute_result"
    }
   ],
   "source": [
    "#Unique tweet ids \n",
    "tweets = df2.tweet_id.unique()\n",
    "len(tweets)"
   ]
  },
  {
   "cell_type": "code",
   "execution_count": 231,
   "metadata": {
    "scrolled": true
   },
   "outputs": [
    {
     "name": "stdout",
     "output_type": "stream",
     "text": [
      "200\n",
      "400\n",
      "600\n",
      "800\n",
      "1000\n",
      "1200\n",
      "1400\n",
      "1600\n",
      "1800\n",
      "2000\n",
      "2200\n",
      "2400\n"
     ]
    }
   ],
   "source": [
    "#finding user pairs for each tweet and giving them id \n",
    "import pickle \n",
    "documents = []\n",
    "count = 0\n",
    "for tweet_id in tweets: \n",
    "    count += 1\n",
    "    if count%200 == 0: \n",
    "        print(count)\n",
    "        pickle.dump(documents,open('data_collection/data/links.pkl','wb'))\n",
    "    mini_df = df2[df2['tweet_id'] == tweet_id]\n",
    "    users = mini_df['user_id']\n",
    "    for user1 in users[:-1]: \n",
    "        for user2 in users[1:]:\n",
    "                D = {'tweet_id' : tweet_id, \n",
    "                     'user_1': user1, \n",
    "                     'user_2': user2, \n",
    "                     'weight': mini_df.weight.unique()[0]}\n",
    "                documents.append(D)\n",
    "        users = users[1:]\n",
    "# pickle.dump(documents,open('data_collection/data/links.pkl','wb'))"
   ]
  },
  {
   "cell_type": "code",
   "execution_count": 232,
   "metadata": {},
   "outputs": [],
   "source": [
    "# links = pickle.load(open('data_collection/data/links.pkl','rb'))\n",
    "links = documents"
   ]
  },
  {
   "cell_type": "code",
   "execution_count": 233,
   "metadata": {},
   "outputs": [
    {
     "data": {
      "text/plain": [
       "{'tweet_id': 1097372619848986625,\n",
       " 'user_1': 55651793,\n",
       " 'user_2': 22681390,\n",
       " 'weight': 0.02702702702702703}"
      ]
     },
     "execution_count": 233,
     "metadata": {},
     "output_type": "execute_result"
    }
   ],
   "source": [
    "links[1]"
   ]
  },
  {
   "cell_type": "code",
   "execution_count": 234,
   "metadata": {},
   "outputs": [
    {
     "data": {
      "text/plain": [
       "2434"
      ]
     },
     "execution_count": 234,
     "metadata": {},
     "output_type": "execute_result"
    }
   ],
   "source": [
    "u = set([link['tweet_id'] for link in links])\n",
    "len(u)"
   ]
  },
  {
   "cell_type": "code",
   "execution_count": 235,
   "metadata": {},
   "outputs": [
    {
     "data": {
      "text/plain": [
       "5788759"
      ]
     },
     "execution_count": 235,
     "metadata": {},
     "output_type": "execute_result"
    }
   ],
   "source": [
    "len(links)"
   ]
  },
  {
   "cell_type": "code",
   "execution_count": 236,
   "metadata": {
    "scrolled": true
   },
   "outputs": [
    {
     "data": {
      "text/html": [
       "<div>\n",
       "<style scoped>\n",
       "    .dataframe tbody tr th:only-of-type {\n",
       "        vertical-align: middle;\n",
       "    }\n",
       "\n",
       "    .dataframe tbody tr th {\n",
       "        vertical-align: top;\n",
       "    }\n",
       "\n",
       "    .dataframe thead th {\n",
       "        text-align: right;\n",
       "    }\n",
       "</style>\n",
       "<table border=\"1\" class=\"dataframe\">\n",
       "  <thead>\n",
       "    <tr style=\"text-align: right;\">\n",
       "      <th></th>\n",
       "      <th>tweet_id</th>\n",
       "      <th>user_1</th>\n",
       "      <th>user_2</th>\n",
       "      <th>weight</th>\n",
       "    </tr>\n",
       "  </thead>\n",
       "  <tbody>\n",
       "    <tr>\n",
       "      <th>0</th>\n",
       "      <td>1097372619848986625</td>\n",
       "      <td>55651793</td>\n",
       "      <td>191972027</td>\n",
       "      <td>0.027027</td>\n",
       "    </tr>\n",
       "    <tr>\n",
       "      <th>1</th>\n",
       "      <td>1097372619848986625</td>\n",
       "      <td>55651793</td>\n",
       "      <td>22681390</td>\n",
       "      <td>0.027027</td>\n",
       "    </tr>\n",
       "    <tr>\n",
       "      <th>2</th>\n",
       "      <td>1097372619848986625</td>\n",
       "      <td>55651793</td>\n",
       "      <td>897359310308622336</td>\n",
       "      <td>0.027027</td>\n",
       "    </tr>\n",
       "    <tr>\n",
       "      <th>3</th>\n",
       "      <td>1097372619848986625</td>\n",
       "      <td>55651793</td>\n",
       "      <td>4141824748</td>\n",
       "      <td>0.027027</td>\n",
       "    </tr>\n",
       "    <tr>\n",
       "      <th>4</th>\n",
       "      <td>1097372619848986625</td>\n",
       "      <td>55651793</td>\n",
       "      <td>2458778106</td>\n",
       "      <td>0.027027</td>\n",
       "    </tr>\n",
       "  </tbody>\n",
       "</table>\n",
       "</div>"
      ],
      "text/plain": [
       "              tweet_id    user_1              user_2    weight\n",
       "0  1097372619848986625  55651793           191972027  0.027027\n",
       "1  1097372619848986625  55651793            22681390  0.027027\n",
       "2  1097372619848986625  55651793  897359310308622336  0.027027\n",
       "3  1097372619848986625  55651793          4141824748  0.027027\n",
       "4  1097372619848986625  55651793          2458778106  0.027027"
      ]
     },
     "execution_count": 236,
     "metadata": {},
     "output_type": "execute_result"
    }
   ],
   "source": [
    "links_df = pd.DataFrame(links)\n",
    "links_df.head()"
   ]
  },
  {
   "cell_type": "code",
   "execution_count": 237,
   "metadata": {},
   "outputs": [
    {
     "data": {
      "text/plain": [
       "(5788759, 4)"
      ]
     },
     "execution_count": 237,
     "metadata": {},
     "output_type": "execute_result"
    }
   ],
   "source": [
    "links_df.shape"
   ]
  },
  {
   "cell_type": "code",
   "execution_count": 238,
   "metadata": {},
   "outputs": [
    {
     "data": {
      "text/plain": [
       "2434"
      ]
     },
     "execution_count": 238,
     "metadata": {},
     "output_type": "execute_result"
    }
   ],
   "source": [
    "len(links_df.tweet_id.unique())"
   ]
  },
  {
   "cell_type": "code",
   "execution_count": 239,
   "metadata": {},
   "outputs": [],
   "source": [
    "t = list(zip(links_df.user_1, links_df.user_2, links_df.index))"
   ]
  },
  {
   "cell_type": "code",
   "execution_count": 240,
   "metadata": {},
   "outputs": [],
   "source": [
    "listy = []\n",
    "for element in t: \n",
    "    listy.append(sorted(element))"
   ]
  },
  {
   "cell_type": "code",
   "execution_count": 241,
   "metadata": {},
   "outputs": [],
   "source": [
    "links_df['u_1'] = [link[1] for link in listy]\n",
    "links_df['u-2'] = [link[2] for link in listy]\n",
    "links_df['u1_u2'] = [(str(link[1]) + str(link[2])) for link in listy]"
   ]
  },
  {
   "cell_type": "code",
   "execution_count": 242,
   "metadata": {
    "scrolled": false
   },
   "outputs": [
    {
     "data": {
      "text/html": [
       "<div>\n",
       "<style scoped>\n",
       "    .dataframe tbody tr th:only-of-type {\n",
       "        vertical-align: middle;\n",
       "    }\n",
       "\n",
       "    .dataframe tbody tr th {\n",
       "        vertical-align: top;\n",
       "    }\n",
       "\n",
       "    .dataframe thead th {\n",
       "        text-align: right;\n",
       "    }\n",
       "</style>\n",
       "<table border=\"1\" class=\"dataframe\">\n",
       "  <thead>\n",
       "    <tr style=\"text-align: right;\">\n",
       "      <th></th>\n",
       "      <th>tweet_id</th>\n",
       "      <th>user_1</th>\n",
       "      <th>user_2</th>\n",
       "      <th>weight</th>\n",
       "      <th>u_1</th>\n",
       "      <th>u-2</th>\n",
       "      <th>u1_u2</th>\n",
       "    </tr>\n",
       "  </thead>\n",
       "  <tbody>\n",
       "    <tr>\n",
       "      <th>0</th>\n",
       "      <td>1097372619848986625</td>\n",
       "      <td>55651793</td>\n",
       "      <td>191972027</td>\n",
       "      <td>0.027027</td>\n",
       "      <td>55651793</td>\n",
       "      <td>191972027</td>\n",
       "      <td>55651793191972027</td>\n",
       "    </tr>\n",
       "    <tr>\n",
       "      <th>1</th>\n",
       "      <td>1097372619848986625</td>\n",
       "      <td>55651793</td>\n",
       "      <td>22681390</td>\n",
       "      <td>0.027027</td>\n",
       "      <td>22681390</td>\n",
       "      <td>55651793</td>\n",
       "      <td>2268139055651793</td>\n",
       "    </tr>\n",
       "    <tr>\n",
       "      <th>2</th>\n",
       "      <td>1097372619848986625</td>\n",
       "      <td>55651793</td>\n",
       "      <td>897359310308622336</td>\n",
       "      <td>0.027027</td>\n",
       "      <td>55651793</td>\n",
       "      <td>897359310308622336</td>\n",
       "      <td>55651793897359310308622336</td>\n",
       "    </tr>\n",
       "    <tr>\n",
       "      <th>3</th>\n",
       "      <td>1097372619848986625</td>\n",
       "      <td>55651793</td>\n",
       "      <td>4141824748</td>\n",
       "      <td>0.027027</td>\n",
       "      <td>55651793</td>\n",
       "      <td>4141824748</td>\n",
       "      <td>556517934141824748</td>\n",
       "    </tr>\n",
       "    <tr>\n",
       "      <th>4</th>\n",
       "      <td>1097372619848986625</td>\n",
       "      <td>55651793</td>\n",
       "      <td>2458778106</td>\n",
       "      <td>0.027027</td>\n",
       "      <td>55651793</td>\n",
       "      <td>2458778106</td>\n",
       "      <td>556517932458778106</td>\n",
       "    </tr>\n",
       "  </tbody>\n",
       "</table>\n",
       "</div>"
      ],
      "text/plain": [
       "              tweet_id    user_1              user_2    weight       u_1  \\\n",
       "0  1097372619848986625  55651793           191972027  0.027027  55651793   \n",
       "1  1097372619848986625  55651793            22681390  0.027027  22681390   \n",
       "2  1097372619848986625  55651793  897359310308622336  0.027027  55651793   \n",
       "3  1097372619848986625  55651793          4141824748  0.027027  55651793   \n",
       "4  1097372619848986625  55651793          2458778106  0.027027  55651793   \n",
       "\n",
       "                  u-2                       u1_u2  \n",
       "0           191972027           55651793191972027  \n",
       "1            55651793            2268139055651793  \n",
       "2  897359310308622336  55651793897359310308622336  \n",
       "3          4141824748          556517934141824748  \n",
       "4          2458778106          556517932458778106  "
      ]
     },
     "execution_count": 242,
     "metadata": {},
     "output_type": "execute_result"
    }
   ],
   "source": [
    "links_df.head()"
   ]
  },
  {
   "cell_type": "code",
   "execution_count": 243,
   "metadata": {},
   "outputs": [],
   "source": [
    "links_df['duplicate'] = links_df.duplicated(subset=['u1_u2'], keep=False)"
   ]
  },
  {
   "cell_type": "code",
   "execution_count": 244,
   "metadata": {
    "scrolled": true
   },
   "outputs": [
    {
     "data": {
      "text/html": [
       "<div>\n",
       "<style scoped>\n",
       "    .dataframe tbody tr th:only-of-type {\n",
       "        vertical-align: middle;\n",
       "    }\n",
       "\n",
       "    .dataframe tbody tr th {\n",
       "        vertical-align: top;\n",
       "    }\n",
       "\n",
       "    .dataframe thead th {\n",
       "        text-align: right;\n",
       "    }\n",
       "</style>\n",
       "<table border=\"1\" class=\"dataframe\">\n",
       "  <thead>\n",
       "    <tr style=\"text-align: right;\">\n",
       "      <th></th>\n",
       "      <th>tweet_id</th>\n",
       "      <th>user_1</th>\n",
       "      <th>user_2</th>\n",
       "      <th>weight</th>\n",
       "      <th>u_1</th>\n",
       "      <th>u-2</th>\n",
       "      <th>u1_u2</th>\n",
       "      <th>duplicate</th>\n",
       "    </tr>\n",
       "  </thead>\n",
       "  <tbody>\n",
       "    <tr>\n",
       "      <th>0</th>\n",
       "      <td>1097372619848986625</td>\n",
       "      <td>55651793</td>\n",
       "      <td>191972027</td>\n",
       "      <td>0.027027</td>\n",
       "      <td>55651793</td>\n",
       "      <td>191972027</td>\n",
       "      <td>55651793191972027</td>\n",
       "      <td>False</td>\n",
       "    </tr>\n",
       "    <tr>\n",
       "      <th>1</th>\n",
       "      <td>1097372619848986625</td>\n",
       "      <td>55651793</td>\n",
       "      <td>22681390</td>\n",
       "      <td>0.027027</td>\n",
       "      <td>22681390</td>\n",
       "      <td>55651793</td>\n",
       "      <td>2268139055651793</td>\n",
       "      <td>False</td>\n",
       "    </tr>\n",
       "    <tr>\n",
       "      <th>2</th>\n",
       "      <td>1097372619848986625</td>\n",
       "      <td>55651793</td>\n",
       "      <td>897359310308622336</td>\n",
       "      <td>0.027027</td>\n",
       "      <td>55651793</td>\n",
       "      <td>897359310308622336</td>\n",
       "      <td>55651793897359310308622336</td>\n",
       "      <td>False</td>\n",
       "    </tr>\n",
       "    <tr>\n",
       "      <th>3</th>\n",
       "      <td>1097372619848986625</td>\n",
       "      <td>55651793</td>\n",
       "      <td>4141824748</td>\n",
       "      <td>0.027027</td>\n",
       "      <td>55651793</td>\n",
       "      <td>4141824748</td>\n",
       "      <td>556517934141824748</td>\n",
       "      <td>False</td>\n",
       "    </tr>\n",
       "    <tr>\n",
       "      <th>4</th>\n",
       "      <td>1097372619848986625</td>\n",
       "      <td>55651793</td>\n",
       "      <td>2458778106</td>\n",
       "      <td>0.027027</td>\n",
       "      <td>55651793</td>\n",
       "      <td>2458778106</td>\n",
       "      <td>556517932458778106</td>\n",
       "      <td>False</td>\n",
       "    </tr>\n",
       "  </tbody>\n",
       "</table>\n",
       "</div>"
      ],
      "text/plain": [
       "              tweet_id    user_1              user_2    weight       u_1  \\\n",
       "0  1097372619848986625  55651793           191972027  0.027027  55651793   \n",
       "1  1097372619848986625  55651793            22681390  0.027027  22681390   \n",
       "2  1097372619848986625  55651793  897359310308622336  0.027027  55651793   \n",
       "3  1097372619848986625  55651793          4141824748  0.027027  55651793   \n",
       "4  1097372619848986625  55651793          2458778106  0.027027  55651793   \n",
       "\n",
       "                  u-2                       u1_u2  duplicate  \n",
       "0           191972027           55651793191972027      False  \n",
       "1            55651793            2268139055651793      False  \n",
       "2  897359310308622336  55651793897359310308622336      False  \n",
       "3          4141824748          556517934141824748      False  \n",
       "4          2458778106          556517932458778106      False  "
      ]
     },
     "execution_count": 244,
     "metadata": {},
     "output_type": "execute_result"
    }
   ],
   "source": [
    "links_df.head()"
   ]
  },
  {
   "cell_type": "code",
   "execution_count": 246,
   "metadata": {},
   "outputs": [
    {
     "data": {
      "text/plain": [
       "(591729, 8)"
      ]
     },
     "execution_count": 246,
     "metadata": {},
     "output_type": "execute_result"
    }
   ],
   "source": [
    "links_df[links_df['duplicate']==True].shape"
   ]
  },
  {
   "cell_type": "code",
   "execution_count": 247,
   "metadata": {},
   "outputs": [],
   "source": [
    "unq_pairs = links_df.u1_u2.unique()"
   ]
  },
  {
   "cell_type": "code",
   "execution_count": 166,
   "metadata": {},
   "outputs": [
    {
     "data": {
      "text/plain": [
       "'55651793191972027'"
      ]
     },
     "execution_count": 166,
     "metadata": {},
     "output_type": "execute_result"
    }
   ],
   "source": [
    "unq_pairs[0]"
   ]
  },
  {
   "cell_type": "code",
   "execution_count": 221,
   "metadata": {},
   "outputs": [
    {
     "data": {
      "text/html": [
       "<div>\n",
       "<style scoped>\n",
       "    .dataframe tbody tr th:only-of-type {\n",
       "        vertical-align: middle;\n",
       "    }\n",
       "\n",
       "    .dataframe tbody tr th {\n",
       "        vertical-align: top;\n",
       "    }\n",
       "\n",
       "    .dataframe thead th {\n",
       "        text-align: right;\n",
       "    }\n",
       "</style>\n",
       "<table border=\"1\" class=\"dataframe\">\n",
       "  <thead>\n",
       "    <tr style=\"text-align: right;\">\n",
       "      <th></th>\n",
       "      <th>tweet_id</th>\n",
       "      <th>user_1</th>\n",
       "      <th>user_2</th>\n",
       "      <th>weight</th>\n",
       "      <th>u_1</th>\n",
       "      <th>u-2</th>\n",
       "      <th>u1_u2</th>\n",
       "      <th>duplicate</th>\n",
       "    </tr>\n",
       "  </thead>\n",
       "  <tbody>\n",
       "    <tr>\n",
       "      <th>4</th>\n",
       "      <td>1097372619848986625</td>\n",
       "      <td>55651793</td>\n",
       "      <td>2458778106</td>\n",
       "      <td>0.027027</td>\n",
       "      <td>55651793</td>\n",
       "      <td>2458778106</td>\n",
       "      <td>556517932458778106</td>\n",
       "      <td>True</td>\n",
       "    </tr>\n",
       "    <tr>\n",
       "      <th>180</th>\n",
       "      <td>1097372619848986625</td>\n",
       "      <td>2458778106</td>\n",
       "      <td>55651793</td>\n",
       "      <td>0.027027</td>\n",
       "      <td>55651793</td>\n",
       "      <td>2458778106</td>\n",
       "      <td>556517932458778106</td>\n",
       "      <td>True</td>\n",
       "    </tr>\n",
       "  </tbody>\n",
       "</table>\n",
       "</div>"
      ],
      "text/plain": [
       "                tweet_id      user_1      user_2    weight       u_1  \\\n",
       "4    1097372619848986625    55651793  2458778106  0.027027  55651793   \n",
       "180  1097372619848986625  2458778106    55651793  0.027027  55651793   \n",
       "\n",
       "            u-2               u1_u2  duplicate  \n",
       "4    2458778106  556517932458778106       True  \n",
       "180  2458778106  556517932458778106       True  "
      ]
     },
     "execution_count": 221,
     "metadata": {},
     "output_type": "execute_result"
    }
   ],
   "source": [
    "pair = '556517932458778106'\n",
    "links_df[links_df['u1_u2'] == pair]"
   ]
  },
  {
   "cell_type": "code",
   "execution_count": 170,
   "metadata": {},
   "outputs": [
    {
     "data": {
      "text/plain": [
       "0.02702702702702703"
      ]
     },
     "execution_count": 170,
     "metadata": {},
     "output_type": "execute_result"
    }
   ],
   "source": [
    "links_df"
   ]
  },
  {
   "cell_type": "code",
   "execution_count": 252,
   "metadata": {},
   "outputs": [],
   "source": [
    "# links_df.to_csv('data_collection/data/linksWIP.csv')"
   ]
  },
  {
   "cell_type": "markdown",
   "metadata": {},
   "source": [
    "### Merge links \n",
    "\n",
    "Each pair of users can have one or more tweets in common. \n",
    "Meaning links_df now has multiple links with the same pair but for different tweets. \n",
    "We now proceed to have a list of unique links for each unique pairs by summing up the weights for the different tweets. \n",
    "The links now represent how much commonality in news interests of each unique user pair "
   ]
  },
  {
   "cell_type": "code",
   "execution_count": 255,
   "metadata": {},
   "outputs": [],
   "source": [
    "links_df = pd.read_csv('data_collection/data/linksWIP.csv')"
   ]
  },
  {
   "cell_type": "code",
   "execution_count": 257,
   "metadata": {},
   "outputs": [
    {
     "name": "stdout",
     "output_type": "stream",
     "text": [
      "(482853, 3)\n"
     ]
    },
    {
     "data": {
      "text/html": [
       "<div>\n",
       "<style scoped>\n",
       "    .dataframe tbody tr th:only-of-type {\n",
       "        vertical-align: middle;\n",
       "    }\n",
       "\n",
       "    .dataframe tbody tr th {\n",
       "        vertical-align: top;\n",
       "    }\n",
       "\n",
       "    .dataframe thead th {\n",
       "        text-align: right;\n",
       "    }\n",
       "</style>\n",
       "<table border=\"1\" class=\"dataframe\">\n",
       "  <thead>\n",
       "    <tr style=\"text-align: right;\">\n",
       "      <th></th>\n",
       "      <th>u1_u2</th>\n",
       "      <th>weight</th>\n",
       "      <th>tweet_id</th>\n",
       "    </tr>\n",
       "  </thead>\n",
       "  <tbody>\n",
       "    <tr>\n",
       "      <th>18</th>\n",
       "      <td>556517933987328893</td>\n",
       "      <td>0.027027</td>\n",
       "      <td>1097372619848986625</td>\n",
       "    </tr>\n",
       "    <tr>\n",
       "      <th>30</th>\n",
       "      <td>4480016755651793</td>\n",
       "      <td>0.027027</td>\n",
       "      <td>1097372619848986625</td>\n",
       "    </tr>\n",
       "    <tr>\n",
       "      <th>35</th>\n",
       "      <td>556517932464156014</td>\n",
       "      <td>0.027027</td>\n",
       "      <td>1097372619848986625</td>\n",
       "    </tr>\n",
       "    <tr>\n",
       "      <th>40</th>\n",
       "      <td>191972027798666202511855616</td>\n",
       "      <td>0.027027</td>\n",
       "      <td>1097372619848986625</td>\n",
       "    </tr>\n",
       "    <tr>\n",
       "      <th>45</th>\n",
       "      <td>1919720271853538666</td>\n",
       "      <td>0.027027</td>\n",
       "      <td>1097372619848986625</td>\n",
       "    </tr>\n",
       "  </tbody>\n",
       "</table>\n",
       "</div>"
      ],
      "text/plain": [
       "                          u1_u2    weight             tweet_id\n",
       "18           556517933987328893  0.027027  1097372619848986625\n",
       "30             4480016755651793  0.027027  1097372619848986625\n",
       "35           556517932464156014  0.027027  1097372619848986625\n",
       "40  191972027798666202511855616  0.027027  1097372619848986625\n",
       "45          1919720271853538666  0.027027  1097372619848986625"
      ]
     },
     "execution_count": 257,
     "metadata": {},
     "output_type": "execute_result"
    }
   ],
   "source": [
    "#Finding all links ('u1_u2') with multiple rows\n",
    "\n",
    "duplicates = pd.DataFrame()\n",
    "duplicates['u1_u2'] = links_df[links_df.duplicate == True]['u1_u2']\n",
    "duplicates['weight'] = links_df[links_df.duplicate == True]['weight']\n",
    "duplicates['tweet_id'] = links_df[links_df.duplicate == True]['tweet_id'].astype('str')\n",
    "print(duplicates.shape)\n",
    "duplicates.head()"
   ]
  },
  {
   "cell_type": "code",
   "execution_count": 258,
   "metadata": {},
   "outputs": [
    {
     "name": "stdout",
     "output_type": "stream",
     "text": [
      "(169778, 1)\n"
     ]
    },
    {
     "data": {
      "text/html": [
       "<div>\n",
       "<style scoped>\n",
       "    .dataframe tbody tr th:only-of-type {\n",
       "        vertical-align: middle;\n",
       "    }\n",
       "\n",
       "    .dataframe tbody tr th {\n",
       "        vertical-align: top;\n",
       "    }\n",
       "\n",
       "    .dataframe thead th {\n",
       "        text-align: right;\n",
       "    }\n",
       "</style>\n",
       "<table border=\"1\" class=\"dataframe\">\n",
       "  <thead>\n",
       "    <tr style=\"text-align: right;\">\n",
       "      <th></th>\n",
       "      <th>weight</th>\n",
       "    </tr>\n",
       "    <tr>\n",
       "      <th>u1_u2</th>\n",
       "      <th></th>\n",
       "    </tr>\n",
       "  </thead>\n",
       "  <tbody>\n",
       "    <tr>\n",
       "      <th>10000182439380131841019510117027508224</th>\n",
       "      <td>0.024625</td>\n",
       "    </tr>\n",
       "    <tr>\n",
       "      <th>10000182439380131841092608411106267136</th>\n",
       "      <td>0.024625</td>\n",
       "    </tr>\n",
       "    <tr>\n",
       "      <th>10000182439380131841093857190715248640</th>\n",
       "      <td>0.024625</td>\n",
       "    </tr>\n",
       "    <tr>\n",
       "      <th>10000345566265917451086211707591118848</th>\n",
       "      <td>0.102870</td>\n",
       "    </tr>\n",
       "    <tr>\n",
       "      <th>10001559493053931521058540237264220165</th>\n",
       "      <td>0.027778</td>\n",
       "    </tr>\n",
       "  </tbody>\n",
       "</table>\n",
       "</div>"
      ],
      "text/plain": [
       "                                          weight\n",
       "u1_u2                                           \n",
       "10000182439380131841019510117027508224  0.024625\n",
       "10000182439380131841092608411106267136  0.024625\n",
       "10000182439380131841093857190715248640  0.024625\n",
       "10000345566265917451086211707591118848  0.102870\n",
       "10001559493053931521058540237264220165  0.027778"
      ]
     },
     "execution_count": 258,
     "metadata": {},
     "output_type": "execute_result"
    }
   ],
   "source": [
    "# summing up the weights for all tweets \n",
    "duplicates1 = duplicates.groupby('u1_u2').sum()\n",
    "print(duplicates1.shape)\n",
    "duplicates1.head()"
   ]
  },
  {
   "cell_type": "code",
   "execution_count": 259,
   "metadata": {},
   "outputs": [
    {
     "name": "stdout",
     "output_type": "stream",
     "text": [
      "(482853, 4)\n"
     ]
    },
    {
     "data": {
      "text/html": [
       "<div>\n",
       "<style scoped>\n",
       "    .dataframe tbody tr th:only-of-type {\n",
       "        vertical-align: middle;\n",
       "    }\n",
       "\n",
       "    .dataframe tbody tr th {\n",
       "        vertical-align: top;\n",
       "    }\n",
       "\n",
       "    .dataframe thead th {\n",
       "        text-align: right;\n",
       "    }\n",
       "</style>\n",
       "<table border=\"1\" class=\"dataframe\">\n",
       "  <thead>\n",
       "    <tr style=\"text-align: right;\">\n",
       "      <th></th>\n",
       "      <th>u1_u2</th>\n",
       "      <th>tweet_id</th>\n",
       "      <th>weight</th>\n",
       "    </tr>\n",
       "  </thead>\n",
       "  <tbody>\n",
       "    <tr>\n",
       "      <th>0</th>\n",
       "      <td>556517933987328893</td>\n",
       "      <td>1097372619848986625</td>\n",
       "      <td>0.192412</td>\n",
       "    </tr>\n",
       "    <tr>\n",
       "      <th>1</th>\n",
       "      <td>556517933987328893</td>\n",
       "      <td>1096157615225212933</td>\n",
       "      <td>0.192412</td>\n",
       "    </tr>\n",
       "    <tr>\n",
       "      <th>2</th>\n",
       "      <td>556517933987328893</td>\n",
       "      <td>1095549389190377472</td>\n",
       "      <td>0.192412</td>\n",
       "    </tr>\n",
       "    <tr>\n",
       "      <th>3</th>\n",
       "      <td>556517933987328893</td>\n",
       "      <td>1095204615304417282</td>\n",
       "      <td>0.192412</td>\n",
       "    </tr>\n",
       "    <tr>\n",
       "      <th>4</th>\n",
       "      <td>556517933987328893</td>\n",
       "      <td>1094910173888606208</td>\n",
       "      <td>0.192412</td>\n",
       "    </tr>\n",
       "  </tbody>\n",
       "</table>\n",
       "</div>"
      ],
      "text/plain": [
       "                u1_u2             tweet_id    weight\n",
       "0  556517933987328893  1097372619848986625  0.192412\n",
       "1  556517933987328893  1096157615225212933  0.192412\n",
       "2  556517933987328893  1095549389190377472  0.192412\n",
       "3  556517933987328893  1095204615304417282  0.192412\n",
       "4  556517933987328893  1094910173888606208  0.192412"
      ]
     },
     "execution_count": 259,
     "metadata": {},
     "output_type": "execute_result"
    }
   ],
   "source": [
    "duplicates = duplicates.merge(duplicates1, how = 'inner', on = ['u1_u2'])\n",
    "print(duplicates.shape)\n",
    "duplicates.drop('weight_x', axis = 1, inplace = True)\n",
    "duplicates.rename(columns = {'weight_y': 'weight'}, inplace = True)\n",
    "duplicates.head()\n"
   ]
  },
  {
   "cell_type": "code",
   "execution_count": 260,
   "metadata": {},
   "outputs": [],
   "source": [
    "unique_links  = list(duplicates.u1_u2.unique())"
   ]
  },
  {
   "cell_type": "code",
   "execution_count": null,
   "metadata": {},
   "outputs": [],
   "source": [
    "#Making list of tweets for each link (link is a user to user pair \n",
    "#and the tweets are the common tweets that both users retweeted)\n",
    "from tqdm import tqdm\n",
    "import time \n",
    "tweets = []\n",
    "\n",
    "for link in tqdm(unique_links): \n",
    "    df = duplicates[duplicates.u1_u2 == link]\n",
    "    tweets.append(list(df.tweet_id))"
   ]
  },
  {
   "cell_type": "code",
   "execution_count": null,
   "metadata": {},
   "outputs": [],
   "source": [
    "unique = pd.DataFrame()\n",
    "unique['u1_u2'] = unique_links\n",
    "unique['tweets'] = tweets\n",
    "print(unique.shape)\n",
    "unique.head(2)"
   ]
  },
  {
   "cell_type": "code",
   "execution_count": null,
   "metadata": {},
   "outputs": [],
   "source": [
    "unique = unique.merge(duplicates1, how = 'inner', on = ['u1_u2'])"
   ]
  },
  {
   "cell_type": "code",
   "execution_count": null,
   "metadata": {},
   "outputs": [],
   "source": [
    "unique.to_csv('data_collection/data/linksFinal.csv')"
   ]
  },
  {
   "cell_type": "code",
   "execution_count": null,
   "metadata": {},
   "outputs": [],
   "source": [
    "u = unique.merge(duplicates, how = 'left', on = ['u1_u2']).drop_duplicates(subset = ['u1_u2'])\n",
    "u.shape"
   ]
  },
  {
   "cell_type": "code",
   "execution_count": null,
   "metadata": {},
   "outputs": [],
   "source": [
    "linksDF = pd.DataFrame()\n",
    "linksDF['u1_u2'] = links_df[links_df['duplicate'] == True].drop_duplicates(subset = ['u1_u2'])['u1_u2']\n",
    "linksDF ['user_1']= links_df[links_df['duplicate'] == True].drop_duplicates(subset = ['u1_u2'])['u_1']\n",
    "linksDF['user_2']=links_df[links_df['duplicate'] == True].drop_duplicates(subset = ['u1_u2'])['u-2']\n",
    "print(linksDF.shape)\n",
    "linksDF.head()  "
   ]
  },
  {
   "cell_type": "code",
   "execution_count": null,
   "metadata": {},
   "outputs": [],
   "source": [
    "links_final = u.merge(linksDF, how = 'left', on = ['u1_u2'] )\n",
    "links_final.drop('weight_x', axis =1, inplace = True)\n",
    "links_final.rename(columns = {'weight_y': 'weight'}, inplace = True)\n",
    "print(links_final.shape)\n",
    "links_final.head()"
   ]
  },
  {
   "cell_type": "code",
   "execution_count": null,
   "metadata": {},
   "outputs": [],
   "source": [
    "links_final.to_csv('data_collection/data/linksFinal.csv')"
   ]
  },
  {
   "cell_type": "code",
   "execution_count": 275,
   "metadata": {},
   "outputs": [],
   "source": [
    "links_final = pd.read_csv('data_collection/data/linksFinal.csv')"
   ]
  },
  {
   "cell_type": "code",
   "execution_count": null,
   "metadata": {},
   "outputs": [],
   "source": [
    "def calculate_cosine(entry):\n",
    "    user1 = entry[\"user1\"][0]\n",
    "    user2 = entry[\"user2\"][0]\n",
    "    value = float(entry[\"value\"])/float(user1[\"totalvalue\"])/float(user2[\"totalvalue\"])\n",
    "    db[\"link_merge\"].update({\"_id.user1\": entry[\"_id\"][\"user1\"], \"_id.user2\": entry[\"_id\"][\"user2\"]}, {\"$set\": {\"similarity\": value}})\n",
    "    return\n",
    "\n",
    "def cosine_similarity():\n",
    "    count = 0\n",
    "    t0 = time()\n",
    "    for link in db[\"link_merge\"].find(no_cursor_timeout=True):\n",
    "        if \"similarity\" not in entry:\n",
    "            calculate_cosine(entry)\n",
    "            count += 1\n",
    "            if count%1000 == 0:\n",
    "                print \"count: \", count\n",
    "                print(\"done in %0.3fs.\" % (time() - t0))\n",
    "                t0 = time()"
   ]
  },
  {
   "cell_type": "code",
   "execution_count": 277,
   "metadata": {},
   "outputs": [
    {
     "data": {
      "text/plain": [
       "1.0"
      ]
     },
     "execution_count": 277,
     "metadata": {},
     "output_type": "execute_result"
    }
   ],
   "source": [
    "float(1)"
   ]
  },
  {
   "cell_type": "code",
   "execution_count": 272,
   "metadata": {},
   "outputs": [
    {
     "data": {
      "text/plain": [
       "'\"hello\"how'"
      ]
     },
     "execution_count": 272,
     "metadata": {},
     "output_type": "execute_result"
    }
   ],
   "source": [
    "''.join(s.split(':'))"
   ]
  },
  {
   "cell_type": "code",
   "execution_count": 267,
   "metadata": {},
   "outputs": [
    {
     "data": {
      "text/plain": [
       "'\"hello\":how:'"
      ]
     },
     "execution_count": 267,
     "metadata": {},
     "output_type": "execute_result"
    }
   ],
   "source": [
    "s"
   ]
  },
  {
   "cell_type": "code",
   "execution_count": 271,
   "metadata": {},
   "outputs": [
    {
     "data": {
      "text/plain": [
       "'\"hello\":how:'"
      ]
     },
     "execution_count": 271,
     "metadata": {},
     "output_type": "execute_result"
    }
   ],
   "source": [
    "s = s.replace(' ', '')\n",
    "s"
   ]
  },
  {
   "cell_type": "code",
   "execution_count": 273,
   "metadata": {},
   "outputs": [],
   "source": [
    "s= {'hello' : 'world'}"
   ]
  },
  {
   "cell_type": "code",
   "execution_count": null,
   "metadata": {},
   "outputs": [],
   "source": []
  }
 ],
 "metadata": {
  "kernelspec": {
   "display_name": "Python 3",
   "language": "python",
   "name": "python3"
  },
  "language_info": {
   "codemirror_mode": {
    "name": "ipython",
    "version": 3
   },
   "file_extension": ".py",
   "mimetype": "text/x-python",
   "name": "python",
   "nbconvert_exporter": "python",
   "pygments_lexer": "ipython3",
   "version": "3.7.2"
  }
 },
 "nbformat": 4,
 "nbformat_minor": 2
}
