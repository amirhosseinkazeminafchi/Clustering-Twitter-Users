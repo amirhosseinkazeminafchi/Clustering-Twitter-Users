{
 "cells": [
  {
   "cell_type": "code",
   "execution_count": 1,
   "metadata": {},
   "outputs": [],
   "source": [
    "\n",
    "import sys\n",
    "\n",
    "import seaborn as sns\n",
    "import numpy as np\n",
    "import random\n",
    "from time import time\n",
    "import pickle\n",
    "import os \n",
    "\n",
    "\n",
    "import re\n",
    "import pandas as pd\n",
    "from pprint import pprint\n",
    "\n",
    "# Gensim\n",
    "import gensim\n",
    "import gensim.corpora as corpora\n",
    "from gensim.utils import simple_preprocess\n",
    "from gensim.models import CoherenceModel\n",
    "\n",
    "# spacy for lemmatization\n",
    "import spacy\n",
    "\n",
    "# Plotting tools\n",
    "import pyLDAvis\n",
    "import pyLDAvis.gensim  # don't skip this\n",
    "import matplotlib.pyplot as plt\n",
    "%matplotlib inline\n",
    "\n",
    "# Enable logging for gensim - optional\n",
    "import logging\n",
    "logging.basicConfig(format='%(asctime)s : %(levelname)s : %(message)s', level=logging.ERROR)\n",
    "\n",
    "import warnings\n",
    "warnings.filterwarnings(\"ignore\",category=DeprecationWarning)\n",
    "\n",
    "if 'models' not in os.listdir(): \n",
    "    os.mkdir('models')"
   ]
  },
  {
   "cell_type": "code",
   "execution_count": 2,
   "metadata": {},
   "outputs": [
    {
     "data": {
      "text/html": [
       "<div>\n",
       "<style scoped>\n",
       "    .dataframe tbody tr th:only-of-type {\n",
       "        vertical-align: middle;\n",
       "    }\n",
       "\n",
       "    .dataframe tbody tr th {\n",
       "        vertical-align: top;\n",
       "    }\n",
       "\n",
       "    .dataframe thead th {\n",
       "        text-align: right;\n",
       "    }\n",
       "</style>\n",
       "<table border=\"1\" class=\"dataframe\">\n",
       "  <thead>\n",
       "    <tr style=\"text-align: right;\">\n",
       "      <th></th>\n",
       "      <th>Unnamed: 0</th>\n",
       "      <th>tweet_id</th>\n",
       "      <th>text</th>\n",
       "      <th>top_image</th>\n",
       "      <th>title</th>\n",
       "      <th>authors</th>\n",
       "      <th>summary</th>\n",
       "      <th>keywords</th>\n",
       "    </tr>\n",
       "  </thead>\n",
       "  <tbody>\n",
       "    <tr>\n",
       "      <th>0</th>\n",
       "      <td>0</td>\n",
       "      <td>1097372619848986625</td>\n",
       "      <td>A kindergarten boy’s behavior could predict hi...</td>\n",
       "      <td>https://static01.nyt.com/images/2016/09/14/wel...</td>\n",
       "      <td>Behavior at Age 6 May Predict Adult Income</td>\n",
       "      <td>['Nicholas Bakalar']</td>\n",
       "      <td>A kindergarten boy’s behavior could predict hi...</td>\n",
       "      <td>['boys', 'income', 'inattention', 'age', 'beha...</td>\n",
       "    </tr>\n",
       "  </tbody>\n",
       "</table>\n",
       "</div>"
      ],
      "text/plain": [
       "   Unnamed: 0             tweet_id  \\\n",
       "0           0  1097372619848986625   \n",
       "\n",
       "                                                text  \\\n",
       "0  A kindergarten boy’s behavior could predict hi...   \n",
       "\n",
       "                                           top_image  \\\n",
       "0  https://static01.nyt.com/images/2016/09/14/wel...   \n",
       "\n",
       "                                        title               authors  \\\n",
       "0  Behavior at Age 6 May Predict Adult Income  ['Nicholas Bakalar']   \n",
       "\n",
       "                                             summary  \\\n",
       "0  A kindergarten boy’s behavior could predict hi...   \n",
       "\n",
       "                                            keywords  \n",
       "0  ['boys', 'income', 'inattention', 'age', 'beha...  "
      ]
     },
     "execution_count": 2,
     "metadata": {},
     "output_type": "execute_result"
    }
   ],
   "source": [
    "a = pd.read_csv('../data_collection/data/art_info1.csv')\n",
    "a.head(1)"
   ]
  },
  {
   "cell_type": "code",
   "execution_count": 3,
   "metadata": {
    "scrolled": true
   },
   "outputs": [
    {
     "data": {
      "text/html": [
       "<div>\n",
       "<style scoped>\n",
       "    .dataframe tbody tr th:only-of-type {\n",
       "        vertical-align: middle;\n",
       "    }\n",
       "\n",
       "    .dataframe tbody tr th {\n",
       "        vertical-align: top;\n",
       "    }\n",
       "\n",
       "    .dataframe thead th {\n",
       "        text-align: right;\n",
       "    }\n",
       "</style>\n",
       "<table border=\"1\" class=\"dataframe\">\n",
       "  <thead>\n",
       "    <tr style=\"text-align: right;\">\n",
       "      <th></th>\n",
       "      <th>tweet_id</th>\n",
       "      <th>text</th>\n",
       "      <th>top_image</th>\n",
       "      <th>title</th>\n",
       "      <th>authors</th>\n",
       "      <th>summary</th>\n",
       "      <th>keywords</th>\n",
       "    </tr>\n",
       "  </thead>\n",
       "  <tbody>\n",
       "    <tr>\n",
       "      <th>0</th>\n",
       "      <td>1097372619848986625</td>\n",
       "      <td>A kindergarten boy’s behavior could predict hi...</td>\n",
       "      <td>https://static01.nyt.com/images/2016/09/14/wel...</td>\n",
       "      <td>Behavior at Age 6 May Predict Adult Income</td>\n",
       "      <td>['Nicholas Bakalar']</td>\n",
       "      <td>A kindergarten boy’s behavior could predict hi...</td>\n",
       "      <td>['boys', 'income', 'inattention', 'age', 'beha...</td>\n",
       "    </tr>\n",
       "    <tr>\n",
       "      <th>1</th>\n",
       "      <td>1097368941842837506</td>\n",
       "      <td>In more than 14 years of roaming Mars, NASA’s ...</td>\n",
       "      <td>https://static01.nyt.com/images/2019/02/15/sci...</td>\n",
       "      <td>Photos From the Opportunity Rover’s Mission on...</td>\n",
       "      <td>['Kenneth Chang']</td>\n",
       "      <td>In more than 14 years of roaming Mars, NASA’s ...</td>\n",
       "      <td>['mission', 'rovers', 'mars', 'opportunity', '...</td>\n",
       "    </tr>\n",
       "    <tr>\n",
       "      <th>2</th>\n",
       "      <td>1097364848890007552</td>\n",
       "      <td>Studies show that at a normal body weight — ge...</td>\n",
       "      <td>https://static01.nyt.com/images/2019/02/19/wel...</td>\n",
       "      <td>Why Do South Asians Have Such High Rates of He...</td>\n",
       "      <td>['Anahad O Connor']</td>\n",
       "      <td>Heart risks tended to be greatest in South Asi...</td>\n",
       "      <td>['masala', 'disease', 'rates', 'high', 'health...</td>\n",
       "    </tr>\n",
       "    <tr>\n",
       "      <th>3</th>\n",
       "      <td>1097359831034486785</td>\n",
       "      <td>For Elisa, interviewing Hays has been a frustr...</td>\n",
       "      <td>https://static01.nyt.com/images/2019/02/18/art...</td>\n",
       "      <td>‘True Detective’ Season 3, Episode 7: Missing ...</td>\n",
       "      <td>['Scott Tobias']</td>\n",
       "      <td>The one-eyed man whom they had originally ques...</td>\n",
       "      <td>['true', 'discover', 'missing', 'lucy', '1990'...</td>\n",
       "    </tr>\n",
       "    <tr>\n",
       "      <th>4</th>\n",
       "      <td>1097355297138581507</td>\n",
       "      <td>The hiring went off like a sonic boom in Holly...</td>\n",
       "      <td>https://static01.nyt.com/images/2019/02/18/bus...</td>\n",
       "      <td>In Bid to Conquer Oscars, Netflix Mobilizes Sa...</td>\n",
       "      <td>['Brooks Barnes']</td>\n",
       "      <td>“Awards Landscape Rocked as Netflix Poaches Le...</td>\n",
       "      <td>['savvy', 'studios', 'conquer', 'roma', 'holly...</td>\n",
       "    </tr>\n",
       "    <tr>\n",
       "      <th>5</th>\n",
       "      <td>1097351280505339909</td>\n",
       "      <td>Do you think the situation taught you to carry...</td>\n",
       "      <td>https://static01.nyt.com/images/2019/02/18/art...</td>\n",
       "      <td>21 Savage on ICE Detention, the Grammys and Hi...</td>\n",
       "      <td>['Jon Caramanica']</td>\n",
       "      <td>If they said, “Hey, you could start your life ...</td>\n",
       "      <td>['gonna', 'wouldnt', 'sure', 'grammys', 'aint'...</td>\n",
       "    </tr>\n",
       "  </tbody>\n",
       "</table>\n",
       "</div>"
      ],
      "text/plain": [
       "              tweet_id                                               text  \\\n",
       "0  1097372619848986625  A kindergarten boy’s behavior could predict hi...   \n",
       "1  1097368941842837506  In more than 14 years of roaming Mars, NASA’s ...   \n",
       "2  1097364848890007552  Studies show that at a normal body weight — ge...   \n",
       "3  1097359831034486785  For Elisa, interviewing Hays has been a frustr...   \n",
       "4  1097355297138581507  The hiring went off like a sonic boom in Holly...   \n",
       "5  1097351280505339909  Do you think the situation taught you to carry...   \n",
       "\n",
       "                                           top_image  \\\n",
       "0  https://static01.nyt.com/images/2016/09/14/wel...   \n",
       "1  https://static01.nyt.com/images/2019/02/15/sci...   \n",
       "2  https://static01.nyt.com/images/2019/02/19/wel...   \n",
       "3  https://static01.nyt.com/images/2019/02/18/art...   \n",
       "4  https://static01.nyt.com/images/2019/02/18/bus...   \n",
       "5  https://static01.nyt.com/images/2019/02/18/art...   \n",
       "\n",
       "                                               title               authors  \\\n",
       "0         Behavior at Age 6 May Predict Adult Income  ['Nicholas Bakalar']   \n",
       "1  Photos From the Opportunity Rover’s Mission on...     ['Kenneth Chang']   \n",
       "2  Why Do South Asians Have Such High Rates of He...   ['Anahad O Connor']   \n",
       "3  ‘True Detective’ Season 3, Episode 7: Missing ...      ['Scott Tobias']   \n",
       "4  In Bid to Conquer Oscars, Netflix Mobilizes Sa...     ['Brooks Barnes']   \n",
       "5  21 Savage on ICE Detention, the Grammys and Hi...    ['Jon Caramanica']   \n",
       "\n",
       "                                             summary  \\\n",
       "0  A kindergarten boy’s behavior could predict hi...   \n",
       "1  In more than 14 years of roaming Mars, NASA’s ...   \n",
       "2  Heart risks tended to be greatest in South Asi...   \n",
       "3  The one-eyed man whom they had originally ques...   \n",
       "4  “Awards Landscape Rocked as Netflix Poaches Le...   \n",
       "5  If they said, “Hey, you could start your life ...   \n",
       "\n",
       "                                            keywords  \n",
       "0  ['boys', 'income', 'inattention', 'age', 'beha...  \n",
       "1  ['mission', 'rovers', 'mars', 'opportunity', '...  \n",
       "2  ['masala', 'disease', 'rates', 'high', 'health...  \n",
       "3  ['true', 'discover', 'missing', 'lucy', '1990'...  \n",
       "4  ['savvy', 'studios', 'conquer', 'roma', 'holly...  \n",
       "5  ['gonna', 'wouldnt', 'sure', 'grammys', 'aint'...  "
      ]
     },
     "execution_count": 3,
     "metadata": {},
     "output_type": "execute_result"
    }
   ],
   "source": [
    "a.drop(['Unnamed: 0'], axis =1, inplace = True)\n",
    "a.head(6)"
   ]
  },
  {
   "cell_type": "markdown",
   "metadata": {},
   "source": [
    "# Text PreProcessing:\n",
    "\n",
    "The first step is to process each article's text and convert it into a list of useful words."
   ]
  },
  {
   "cell_type": "code",
   "execution_count": 5,
   "metadata": {},
   "outputs": [
    {
     "data": {
      "text/html": [
       "<div>\n",
       "<style scoped>\n",
       "    .dataframe tbody tr th:only-of-type {\n",
       "        vertical-align: middle;\n",
       "    }\n",
       "\n",
       "    .dataframe tbody tr th {\n",
       "        vertical-align: top;\n",
       "    }\n",
       "\n",
       "    .dataframe thead th {\n",
       "        text-align: right;\n",
       "    }\n",
       "</style>\n",
       "<table border=\"1\" class=\"dataframe\">\n",
       "  <thead>\n",
       "    <tr style=\"text-align: right;\">\n",
       "      <th></th>\n",
       "      <th>tweet_id</th>\n",
       "      <th>text</th>\n",
       "      <th>top_image</th>\n",
       "      <th>title</th>\n",
       "      <th>authors</th>\n",
       "      <th>summary</th>\n",
       "      <th>keywords</th>\n",
       "      <th>cleaned_text</th>\n",
       "    </tr>\n",
       "  </thead>\n",
       "  <tbody>\n",
       "    <tr>\n",
       "      <th>0</th>\n",
       "      <td>1097372619848986625</td>\n",
       "      <td>A kindergarten boy’s behavior could predict hi...</td>\n",
       "      <td>https://static01.nyt.com/images/2016/09/14/wel...</td>\n",
       "      <td>Behavior at Age 6 May Predict Adult Income</td>\n",
       "      <td>['Nicholas Bakalar']</td>\n",
       "      <td>A kindergarten boy’s behavior could predict hi...</td>\n",
       "      <td>['boys', 'income', 'inattention', 'age', 'beha...</td>\n",
       "      <td>[kindergarten, boy, behavior, could, predict, ...</td>\n",
       "    </tr>\n",
       "  </tbody>\n",
       "</table>\n",
       "</div>"
      ],
      "text/plain": [
       "              tweet_id                                               text  \\\n",
       "0  1097372619848986625  A kindergarten boy’s behavior could predict hi...   \n",
       "\n",
       "                                           top_image  \\\n",
       "0  https://static01.nyt.com/images/2016/09/14/wel...   \n",
       "\n",
       "                                        title               authors  \\\n",
       "0  Behavior at Age 6 May Predict Adult Income  ['Nicholas Bakalar']   \n",
       "\n",
       "                                             summary  \\\n",
       "0  A kindergarten boy’s behavior could predict hi...   \n",
       "\n",
       "                                            keywords  \\\n",
       "0  ['boys', 'income', 'inattention', 'age', 'beha...   \n",
       "\n",
       "                                        cleaned_text  \n",
       "0  [kindergarten, boy, behavior, could, predict, ...  "
      ]
     },
     "execution_count": 5,
     "metadata": {},
     "output_type": "execute_result"
    }
   ],
   "source": [
    "from nltk.stem import WordNetLemmatizer\n",
    "from nltk.corpus import stopwords\n",
    "stop_words = stopwords.words('english')\n",
    "texts = []\n",
    "bigrams = []\n",
    "\n",
    "#iterating over the text of each article\n",
    "for text in a.text:\n",
    "    \n",
    "\n",
    "    doc = str(text).replace(\"\\n\",\" \") # removing line separators \n",
    "    doc = doc.replace(\"\\'\",\"\")# removing line separators \n",
    "\n",
    "    doc = gensim.utils.simple_preprocess(doc)\n",
    "\n",
    "    wordnet_lemmatizer = WordNetLemmatizer()\n",
    "    doc = [wordnet_lemmatizer.lemmatize(word) for word in doc]\n",
    "    doc = [wordnet_lemmatizer.lemmatize(word,pos='v') for word in doc]\n",
    "\n",
    "    letters = [\"a\",\"b\",\"c\",\"d\",\"e\",\"f\",\"g\",\"h\",\"i\",\"j\",\"k\",\"l\",\"m\",\"n\",\"o\",\"p\",\"q\",\"r\",\"s\",\"t\",\"u\",\"v\",\"w\",\"x\",\"y\",\"z\"]\n",
    "    other = [\"wa\",\"ha\",\"one\",\"two\",\"id\",\"re\",\"http\",\"com\",\"mr\",\"image\",\"photo\",\"caption\",\"don\",\"sen\",\"pic\",\"co\",\n",
    "             \"source\",\"watch\",\"play\",\"duration\",\"video\",\"momentjs\",\"getty\",\"images\",\"newsletter\", \"story\", \"go\", \"like\", \"say\",\n",
    "             \"will\", \"just\", \"today\", \"can\", \"year\", \"make\", \"view\", \"read\", 'would', 'also']  #words outside of stopwords\n",
    "    doc = [word for word in doc if not word in (stop_words+letters+other)]\n",
    "    \n",
    "    texts.append(doc)\n",
    "\n",
    "a['cleaned_text'] = texts\n",
    "a.head(1)"
   ]
  },
  {
   "cell_type": "code",
   "execution_count": 6,
   "metadata": {},
   "outputs": [],
   "source": [
    "texts = a['cleaned_text']"
   ]
  },
  {
   "cell_type": "code",
   "execution_count": 16,
   "metadata": {},
   "outputs": [],
   "source": [
    "import os\n",
    "directory = 'pickled_files'\n",
    "if not directory in os.listdir():\n",
    "    os.mkdir(directory)"
   ]
  },
  {
   "cell_type": "code",
   "execution_count": 23,
   "metadata": {},
   "outputs": [],
   "source": [
    "import pickle \n",
    "import random \n",
    "random.seed(42)\n",
    "train_set = random.sample(list(range(0,len(texts))),len(texts)-1000)\n",
    "test_set = [x for x in list(range(0,len(texts))) if x not in train_set]\n",
    "\n",
    "train_texts = [texts[i] for i in train_set]\n",
    "test_texts = [texts[i] for i in test_set]\n",
    "\n",
    "pickle.dump([train_set,test_set,train_texts,test_texts],open('pickled_files/pub_articles_train_test_sets.pkl','wb'))"
   ]
  },
  {
   "cell_type": "code",
   "execution_count": 24,
   "metadata": {},
   "outputs": [],
   "source": [
    "train_Set, test_set, train_texts, test_texts = pickle.load(open('pickled_files/pub_articles_train_test_sets.pkl','rb'))"
   ]
  },
  {
   "cell_type": "markdown",
   "metadata": {},
   "source": [
    "Next we create the corpus, which converts each document into a list of tuples in the form of (word id, word freq in doc) "
   ]
  },
  {
   "cell_type": "code",
   "execution_count": 53,
   "metadata": {},
   "outputs": [],
   "source": [
    "#Create Term-Frequency for each article and add them to a list (corpus). \n",
    "corpus = [dictionary.doc2bow(text) for text in train_texts]"
   ]
  },
  {
   "cell_type": "code",
   "execution_count": 56,
   "metadata": {},
   "outputs": [
    {
     "data": {
      "text/plain": [
       "(1434, 1434)"
      ]
     },
     "execution_count": 56,
     "metadata": {},
     "output_type": "execute_result"
    }
   ],
   "source": [
    "len(corpus), len(train_texts)"
   ]
  },
  {
   "cell_type": "markdown",
   "metadata": {},
   "source": [
    "Gensim creates a unique id for each word in the document. Each id(word) is used as key for the dictionary with the value for the key set to the frequency of the word to appear in that document. The produced corpus shown below (line 1) is a mapping of (word_id, word_frequency). This is used as the input by the LDA model.\n"
   ]
  },
  {
   "cell_type": "code",
   "execution_count": 44,
   "metadata": {},
   "outputs": [
    {
     "name": "stdout",
     "output_type": "stream",
     "text": [
      "[(0, 1), (1, 1), (2, 2), (3, 1), (4, 1), (5, 1), (6, 1), (7, 5), (8, 2), (9, 1), (10, 1), (11, 1), (12, 1), (13, 1), (14, 1), (15, 1), (16, 1), (17, 3), (18, 1), (19, 2), (20, 1), (21, 1), (22, 1), (23, 1), (24, 1), (25, 1), (26, 3), (27, 1), (28, 1), (29, 1), (30, 1), (31, 1), (32, 1), (33, 1), (34, 3), (35, 1), (36, 1), (37, 1), (38, 1), (39, 1), (40, 1), (41, 1), (42, 1), (43, 1), (44, 1), (45, 1), (46, 1), (47, 1), (48, 2), (49, 1), (50, 1), (51, 1), (52, 1), (53, 1), (54, 1), (55, 1), (56, 1), (57, 1), (58, 1), (59, 1), (60, 2), (61, 1), (62, 1), (63, 1), (64, 1), (65, 1), (66, 1), (67, 1), (68, 2), (69, 1), (70, 1), (71, 1), (72, 1), (73, 1), (74, 1), (75, 1), (76, 1)]\n",
      "\n",
      " [(10, 1), (16, 1), (19, 2), (27, 1), (31, 1), (52, 1), (77, 3), (78, 2), (79, 1), (80, 1), (81, 1), (82, 1), (83, 1), (84, 1), (85, 4), (86, 1), (87, 1), (88, 1), (89, 1), (90, 1), (91, 1), (92, 1), (93, 1), (94, 1), (95, 1), (96, 1), (97, 1), (98, 1), (99, 1), (100, 1), (101, 1), (102, 1), (103, 2), (104, 2), (105, 4), (106, 1), (107, 1), (108, 1), (109, 1), (110, 1), (111, 1), (112, 2), (113, 1), (114, 1), (115, 1), (116, 1), (117, 1), (118, 1), (119, 2), (120, 1), (121, 4), (122, 1), (123, 1), (124, 4), (125, 1), (126, 1), (127, 1), (128, 1), (129, 1), (130, 1), (131, 1), (132, 1), (133, 1), (134, 1), (135, 2), (136, 1), (137, 1), (138, 1), (139, 1), (140, 1), (141, 1), (142, 1)]\n"
     ]
    }
   ],
   "source": [
    "#print the (word_id, word_frequency) for each word in article 1 and 2\n",
    "print('\\n', corpus[0])\n",
    "print('\\n', corpus[1])"
   ]
  },
  {
   "cell_type": "code",
   "execution_count": 41,
   "metadata": {},
   "outputs": [
    {
     "name": "stdout",
     "output_type": "stream",
     "text": [
      "add call write\n"
     ]
    }
   ],
   "source": [
    "# To see what word a given id corresponds to, pass the id as a key to the dictionary.\n",
    "print(dictionary[0], dictionary[10], dictionary[76])"
   ]
  },
  {
   "cell_type": "code",
   "execution_count": 45,
   "metadata": {
    "scrolled": true
   },
   "outputs": [
    {
     "name": "stdout",
     "output_type": "stream",
     "text": [
      "\n",
      " [('add', 1), ('affair', 1), ('association', 2), ('baker', 1), ('bandwidth', 1), ('basis', 1), ('become', 1), ('brexit', 5), ('business', 2), ('busy', 1), ('call', 1), ('catastrophe', 1), ('catastrophic', 1), ('chain', 1), ('consultation', 1), ('continue', 1), ('could', 1), ('deal', 3), ('deliver', 1), ('department', 2), ('dinner', 1), ('email', 1), ('engage', 1), ('environment', 1), ('farmer', 1), ('focus', 1), ('food', 3), ('friday', 1), ('gove', 1), ('green', 1), ('impact', 1), ('include', 1), ('initiative', 1), ('intensify', 1), ('issue', 3), ('letter', 1), ('london', 1), ('matter', 1), ('meet', 1), ('member', 1), ('michael', 1), ('mince', 1), ('mitigate', 1), ('neither', 1), ('non', 1), ('organizational', 1), ('people', 1), ('physical', 1), ('plan', 2), ('plastic', 1), ('plate', 1), ('policy', 1), ('prepare', 1), ('priority', 1), ('producer', 1), ('properly', 1), ('reduce', 1), ('relate', 1), ('representative', 1), ('resource', 1), ('respond', 2), ('rural', 1), ('secretary', 1), ('state', 1), ('tackle', 1), ('throughout', 1), ('time', 1), ('totally', 1), ('trade', 2), ('tuesday', 1), ('voice', 1), ('warn', 1), ('waste', 1), ('weekly', 1), ('word', 1), ('work', 1), ('write', 1)]\n",
      "\n",
      " [('call', 1), ('could', 1), ('department', 2), ('friday', 1), ('include', 1), ('prepare', 1), ('acevedo', 3), ('affidavit', 2), ('art', 1), ('battle', 1), ('breach', 1), ('break', 1), ('cast', 1), ('charge', 1), ('chief', 4), ('city', 1), ('conference', 1), ('confidential', 1), ('crime', 1), ('criminal', 1), ('daughter', 1), ('deadly', 1), ('document', 1), ('door', 1), ('emerge', 1), ('end', 1), ('exchange', 1), ('face', 1), ('four', 1), ('fourth', 1), ('gun', 1), ('heroin', 1), ('home', 2), ('house', 2), ('houston', 4), ('informant', 1), ('investigate', 1), ('kill', 1), ('largest', 1), ('last', 1), ('lead', 1), ('lie', 2), ('local', 1), ('maintain', 1), ('material', 1), ('month', 1), ('narcotic', 1), ('nation', 1), ('news', 2), ('obtain', 1), ('officer', 4), ('operation', 1), ('outlet', 1), ('police', 4), ('raid', 1), ('reason', 1), ('revelation', 1), ('sanctity', 1), ('seal', 1), ('search', 1), ('serious', 1), ('shadow', 1), ('shoot', 1), ('shootout', 1), ('somebody', 2), ('southeast', 1), ('suspect', 1), ('truthful', 1), ('untruth', 1), ('use', 1), ('warrant', 1), ('woman', 1)]\n"
     ]
    }
   ],
   "source": [
    "# Human readable format of the first article in corpus (term-frequency)\n",
    "print('\\n', [(dictionary[id], freq) for id, freq in corpus[0]])\n",
    "print('\\n', [(dictionary[id], freq) for id, freq in corpus[1]])"
   ]
  },
  {
   "cell_type": "markdown",
   "metadata": {},
   "source": [
    "# Bag of Words + LDA"
   ]
  },
  {
   "cell_type": "code",
   "execution_count": 113,
   "metadata": {},
   "outputs": [],
   "source": [
    "dictionary = corpora.Dictionary(texts)\n",
    "pickle.dump(dictionary,open('pickled_files/pub_ldamodels_bow_dictionary.pkl','wb'))"
   ]
  },
  {
   "cell_type": "code",
   "execution_count": 114,
   "metadata": {
    "scrolled": true
   },
   "outputs": [
    {
     "name": "stdout",
     "output_type": "stream",
     "text": [
      "CPU times: user 438 ms, sys: 883 µs, total: 439 ms\n",
      "Wall time: 439 ms\n",
      "CPU times: user 2.09 s, sys: 8.53 ms, total: 2.09 s\n",
      "Wall time: 2.1 s\n",
      "CPU times: user 2.08 s, sys: 7.12 ms, total: 2.09 s\n",
      "Wall time: 2.09 s\n",
      "CPU times: user 2.17 s, sys: 8.91 ms, total: 2.18 s\n",
      "Wall time: 2.19 s\n",
      "CPU times: user 2.07 s, sys: 6.67 ms, total: 2.07 s\n",
      "Wall time: 2.07 s\n",
      "CPU times: user 3.09 s, sys: 188 ms, total: 3.28 s\n",
      "Wall time: 2.28 s\n",
      "CPU times: user 3.16 s, sys: 171 ms, total: 3.33 s\n",
      "Wall time: 2.29 s\n",
      "CPU times: user 3.45 s, sys: 219 ms, total: 3.67 s\n",
      "Wall time: 2.09 s\n",
      "CPU times: user 3.6 s, sys: 251 ms, total: 3.85 s\n",
      "Wall time: 2.12 s\n",
      "CPU times: user 3.6 s, sys: 248 ms, total: 3.85 s\n",
      "Wall time: 2.13 s\n"
     ]
    }
   ],
   "source": [
    "corpus = [dictionary.doc2bow(text) for text in texts]\n",
    "topic_nums = [2, 4, 6, 8, 10]\n",
    "ldamodels_bow = {}\n",
    "for i in topicnums:\n",
    "    random.seed(42)\n",
    "    %time ldamodels_bow[i] = models.ldamodel.LdaModel(corpus,num_topics=i,id2word=dictionary)\n",
    "    ldamodels_bow[i].save('models/ldamodels_bow_'+str(i)+'.lda')"
   ]
  },
  {
   "cell_type": "markdown",
   "metadata": {},
   "source": [
    "### Evaluation\n",
    "\n",
    "LDA topic modeling is an unsupervised task and thus quite challenging to evaluate. \n",
    "In this section, we take a round about way to assess our model. \n",
    "The process involves splitting each document into two parts, and checking that \n",
    "1) Topics of the first half are similar to topics of the second half \n",
    "2) Halves of different documents are mostly dissimilar. "
   ]
  },
  {
   "cell_type": "code",
   "execution_count": 115,
   "metadata": {},
   "outputs": [],
   "source": [
    "def intra_inter_bow(lda_model, dictionary, test_docs, num_pairs=10000):\n",
    "    \n",
    "    # Split each test document into two halves and compute topics for each half\n",
    "    part1 = [lda_model[dictionary.doc2bow(tokens[:int(len(tokens)/2)])] for tokens in test_docs]\n",
    "    part2 = [lda_model[dictionary.doc2bow(tokens[int(len(tokens)/2):])] for tokens in test_docs]   \n",
    "    \n",
    "    # Compute topic distribution similarities using cosine similarity\n",
    "    \n",
    "    #print(\"Average cosine similarity between corresponding parts (higher is better):\")\n",
    "    corresp_parts = np.mean([gensim.matutils.cossim(p1, p2) for p1, p2 in zip(part1, part2)])\n",
    "\n",
    "    #print(\"Average cosine similarity between 10,000 random parts (lower is better):\")    \n",
    "    random.seed(42)\n",
    "    random_pairs = np.random.randint(0, len(test_docs), size=(num_pairs, 2))\n",
    "    random_parts = np.mean([gensim.matutils.cossim(part1[i[0]], part2[i[1]]) for i in random_pairs])\n",
    "    \n",
    "    return corresp_parts, random_parts\n"
   ]
  },
  {
   "cell_type": "code",
   "execution_count": 116,
   "metadata": {},
   "outputs": [],
   "source": [
    "ldamodels_eval = {}\n",
    "for i in topicnums:\n",
    "    lda_model = models.ldamodel.LdaModel.load('models/ldamodels_bow_'+str(i)+'.lda')\n",
    "    ldamodels_eval[i] = intra_inter_bow(lda_model, dictionary, test_texts)\n",
    "    \n",
    "pickle.dump(ldamodels_eval,open('pickled_files/pub_ldamodels_bow_eval.pkl','wb'))"
   ]
  },
  {
   "cell_type": "code",
   "execution_count": 117,
   "metadata": {},
   "outputs": [
    {
     "data": {
      "image/png": "[encoded data removed]",
      "text/plain": [
       "<Figure size 1080x648 with 1 Axes>"
      ]
     },
     "metadata": {},
     "output_type": "display_data"
    }
   ],
   "source": [
    "\n",
    "\n",
    "ldamodels_eval = pickle.load(open('pickled_files/pub_ldamodels_bow_eval.pkl','rb'))\n",
    "corresp_parts = [ldamodels_eval[i][0] for i in topicnums]\n",
    "random_parts = [ldamodels_eval[i][1] for i in topicnums]\n",
    "sns.set_context(\"poster\")\n",
    "with sns.axes_style(\"darkgrid\"):\n",
    "    x = topicnums\n",
    "    y1 = corresp_parts\n",
    "    y2 = random_parts\n",
    "    plt.figure(figsize = (15, 9))\n",
    "    plt.plot(x,y1,label='Parts from same article')\n",
    "    plt.plot(x,y2,label='Parts from random articles')\n",
    "    plt.xlabel('Number of topics')\n",
    "    plt.ylabel('Average cosine similarity') \n",
    "    plt.title('Average Cosine Similarity Between Topics From Parts of Articles')\n",
    "    plt.legend()    \n",
    "    plt.show()\n"
   ]
  },
  {
   "cell_type": "code",
   "execution_count": 118,
   "metadata": {},
   "outputs": [],
   "source": [
    "\n",
    "lda_topics = {}\n",
    "for i in topicnums:\n",
    "    lda_model = models.ldamodel.LdaModel.load('models/ldamodels_bow_'+str(i)+'.lda')\n",
    "    #get a list of tuplle with the first element as topic number and the second element as key words of each topic \n",
    "    # with their probability disttribution all as a string. \n",
    "    # example tuple for topic 0: (0, '0.001*\"trump\" + 0.001*\"president\" + 0.001*\"state\" + 0.001*\"people\")\n",
    "    \n",
    "    lda_topics_string = lda_model.show_topics(i)\n",
    "    \n",
    "    #parse the second element to get  only the keywords without the probability scores attached as a list of words\n",
    "    # example list for topic 0 : ['trump', 'president', 'state', 'people']\n",
    "    \n",
    "    for topic in lda_topics_string: \n",
    "        lda_topics[i] = \"\".join([c if c.isalpha() else \" \" for c in topic[1]]).split()\n",
    "\n",
    "pickle.dump(lda_topics,open('pickled_files/pub_lda_bow_topics.pkl','wb'))\n"
   ]
  },
  {
   "cell_type": "markdown",
   "metadata": {},
   "source": [
    "### Chosing the number of topics \n",
    "\n",
    "The number of topics was chosen by trying to achieve a diverse topic coverage without having too many topics. The diversity of topics can be evaluated by the average Jaccard similarity between topics. High Jaccard similarity indicates strong overlap and less diversity between topics, while low similarity means the topics are more diverse and have a better coverage among all the aspects in the articles."
   ]
  },
  {
   "cell_type": "code",
   "execution_count": 110,
   "metadata": {},
   "outputs": [],
   "source": [
    "def jaccard_similarity(query, document):\n",
    "    intersection = set(query).intersection(set(document))\n",
    "    union = set(query).union(set(document))\n",
    "    return float(len(intersection))/float(len(union))"
   ]
  },
  {
   "cell_type": "code",
   "execution_count": 119,
   "metadata": {},
   "outputs": [],
   "source": [
    "da_stability = {}\n",
    "for i in range(0,len(topicnums)-1):\n",
    "    jacc_sims = []\n",
    "    for t1,topic1 in enumerate(lda_topics[topicnums[i]]):\n",
    "        sims = []\n",
    "        for t2,topic2 in enumerate(lda_topics[topicnums[i+1]]):\n",
    "            sims.append(jaccard_similarity(topic1,topic2))    \n",
    "        jacc_sims.append(sims)    \n",
    "    lda_stability[topicnums[i]] = jacc_sims\n",
    "    \n",
    "pickle.dump(lda_stability,open('pickled_files/pub_lda_bow_stability.pkl','wb'))"
   ]
  },
  {
   "cell_type": "code",
   "execution_count": 120,
   "metadata": {
    "scrolled": false
   },
   "outputs": [
    {
     "data": {
      "image/png": "[encoded data removed]",
      "text/plain": [
       "<Figure size 1080x648 with 1 Axes>"
      ]
     },
     "metadata": {},
     "output_type": "display_data"
    }
   ],
   "source": [
    "\n",
    "\n",
    "lda_stability = pickle.load(open('pickled_files/pub_lda_bow_stability.pkl','rb'))\n",
    "mean_stability = [np.array(lda_stability[i]).mean() for i in topicnums[:-1]]\n",
    "\n",
    "with sns.axes_style(\"darkgrid\"):\n",
    "    x = topicnums[:-1]\n",
    "    y = mean_stability\n",
    "    plt.figure(figsize = (15, 9))\n",
    "    plt.plot(x,y,label='Average Overlap Between Topics')\n",
    "    plt.xlabel('Number of topics')\n",
    "    plt.ylabel('Average Jaccard similarity')   \n",
    "    plt.title('Average Jaccard Similarity Between Topics')\n",
    "    plt.legend()    \n",
    "    plt.show()\n"
   ]
  },
  {
   "cell_type": "code",
   "execution_count": null,
   "metadata": {},
   "outputs": [],
   "source": []
  },
  {
   "cell_type": "code",
   "execution_count": 130,
   "metadata": {
    "scrolled": false
   },
   "outputs": [
    {
     "name": "stdout",
     "output_type": "stream",
     "text": [
      "\n",
      "Coherence Score:  0.24938755944856922\n",
      "\n",
      "Coherence Score:  0.25153165899282726\n",
      "\n",
      "Coherence Score:  0.32623137317410045\n",
      "\n",
      "Coherence Score:  0.3267868203404659\n",
      "\n",
      "Coherence Score:  0.2980794078574718\n",
      "\n",
      "Coherence Score:  0.3039304399783988\n",
      "\n",
      "Coherence Score:  0.30902696854178024\n",
      "\n",
      "Coherence Score:  0.3059928295296648\n",
      "\n",
      "Coherence Score:  0.3102211056621955\n",
      "\n",
      "Coherence Score:  0.31517957710083755\n"
     ]
    }
   ],
   "source": [
    "\n",
    "\n",
    "coherence = {}\n",
    "for i in topicnums:\n",
    "    lda_model = models.ldamodel.LdaModel.load('models/ldamodels_bow_'+str(i)+'.lda')\n",
    "    # Compute Coherence Score\n",
    "    coherence_model_lda = CoherenceModel(model=lda_model, texts=texts, dictionary=dictionary, coherence='c_v')\n",
    "    coherence[i] = coherence_model_lda.get_coherence()\n",
    "    print('\\nCoherence Score: ', coherence[i])\n"
   ]
  },
  {
   "cell_type": "code",
   "execution_count": 129,
   "metadata": {},
   "outputs": [
    {
     "data": {
      "image/png": "[encoded data removed]",
      "text/plain": [
       "<Figure size 1080x648 with 1 Axes>"
      ]
     },
     "metadata": {},
     "output_type": "display_data"
    }
   ],
   "source": [
    "with sns.axes_style(\"darkgrid\"):\n",
    "    x = topicnums\n",
    "    y = coherence.values()\n",
    "    plt.figure(figsize = (15, 9))\n",
    "    plt.plot(x,y,label='Coherence by Topics')\n",
    "    plt.xlabel('Number of topics')\n",
    "    plt.ylabel('Coherence')   \n",
    "    plt.title('Coherence by Topics')  \n",
    "    plt.show()"
   ]
  },
  {
   "cell_type": "code",
   "execution_count": 131,
   "metadata": {},
   "outputs": [],
   "source": [
    "num_topics = 5\n",
    "lda_model_5 = models.ldamodel.LdaModel.load('models/ldamodels_bow_'+str(num_topics)+'.lda')\n",
    "doc_dict = pickle.load(open('pickled_files/pub_ldamodels_bow_dictionary.pkl','rb'))"
   ]
  },
  {
   "cell_type": "code",
   "execution_count": 132,
   "metadata": {
    "scrolled": true
   },
   "outputs": [
    {
     "data": {
      "text/plain": [
       "[(0,\n",
       "  '0.006*\"time\" + 0.005*\"border\" + 0.005*\"trump\" + 0.004*\"state\" + 0.004*\"new\" + 0.004*\"get\" + 0.004*\"people\" + 0.004*\"work\" + 0.004*\"mexico\" + 0.003*\"take\"'),\n",
       " (1,\n",
       "  '0.005*\"time\" + 0.005*\"dam\" + 0.004*\"new\" + 0.004*\"day\" + 0.004*\"get\" + 0.003*\"know\" + 0.003*\"people\" + 0.003*\"life\" + 0.003*\"work\" + 0.003*\"find\"'),\n",
       " (2,\n",
       "  '0.007*\"people\" + 0.007*\"woman\" + 0.004*\"new\" + 0.004*\"school\" + 0.004*\"first\" + 0.003*\"time\" + 0.003*\"american\" + 0.003*\"president\" + 0.003*\"life\" + 0.003*\"tell\"'),\n",
       " (3,\n",
       "  '0.009*\"trump\" + 0.006*\"new\" + 0.006*\"president\" + 0.005*\"people\" + 0.004*\"time\" + 0.004*\"know\" + 0.004*\"get\" + 0.004*\"come\" + 0.004*\"work\" + 0.004*\"first\"'),\n",
       " (4,\n",
       "  '0.006*\"new\" + 0.006*\"state\" + 0.004*\"trump\" + 0.004*\"government\" + 0.004*\"people\" + 0.004*\"president\" + 0.004*\"time\" + 0.003*\"michael\" + 0.003*\"day\" + 0.003*\"know\"')]"
      ]
     },
     "execution_count": 132,
     "metadata": {},
     "output_type": "execute_result"
    }
   ],
   "source": [
    "lda_model_5.print_topics()"
   ]
  },
  {
   "cell_type": "markdown",
   "metadata": {},
   "source": [
    "# Optimal Model\n",
    "\n",
    "Based on the above analysis we see the following: \n",
    "1. average jaccard similarity between the topics continue to decrease until number of topic reaches 6 \n",
    "2. Coherence score is the higest at 3/4 \n",
    "3. I decided to use a number of topic that is between 6 and 3 and picked 5 for the purpose of the project\n"
   ]
  },
  {
   "cell_type": "code",
   "execution_count": 133,
   "metadata": {},
   "outputs": [],
   "source": [
    "num_topics = 5\n",
    "lda_model = models.ldamodel.LdaModel.load('models/ldamodels_bow_'+str(num_topics)+'.lda')\n",
    "doc_dict = pickle.load(open('pickled_files/pub_ldamodels_bow_dictionary.pkl','rb'))"
   ]
  },
  {
   "cell_type": "code",
   "execution_count": 134,
   "metadata": {},
   "outputs": [
    {
     "data": {
      "text/plain": [
       "[(0,\n",
       "  '0.006*\"time\" + 0.005*\"border\" + 0.005*\"trump\" + 0.004*\"state\" + 0.004*\"new\" + 0.004*\"get\" + 0.004*\"people\" + 0.004*\"work\" + 0.004*\"mexico\" + 0.003*\"take\"'),\n",
       " (1,\n",
       "  '0.005*\"time\" + 0.005*\"dam\" + 0.004*\"new\" + 0.004*\"day\" + 0.004*\"get\" + 0.003*\"know\" + 0.003*\"people\" + 0.003*\"life\" + 0.003*\"work\" + 0.003*\"find\"'),\n",
       " (2,\n",
       "  '0.007*\"people\" + 0.007*\"woman\" + 0.004*\"new\" + 0.004*\"school\" + 0.004*\"first\" + 0.003*\"time\" + 0.003*\"american\" + 0.003*\"president\" + 0.003*\"life\" + 0.003*\"tell\"'),\n",
       " (3,\n",
       "  '0.009*\"trump\" + 0.006*\"new\" + 0.006*\"president\" + 0.005*\"people\" + 0.004*\"time\" + 0.004*\"know\" + 0.004*\"get\" + 0.004*\"come\" + 0.004*\"work\" + 0.004*\"first\"'),\n",
       " (4,\n",
       "  '0.006*\"new\" + 0.006*\"state\" + 0.004*\"trump\" + 0.004*\"government\" + 0.004*\"people\" + 0.004*\"president\" + 0.004*\"time\" + 0.003*\"michael\" + 0.003*\"day\" + 0.003*\"know\"')]"
      ]
     },
     "execution_count": 134,
     "metadata": {},
     "output_type": "execute_result"
    }
   ],
   "source": [
    "lda_model.print_topics()"
   ]
  },
  {
   "cell_type": "code",
   "execution_count": 135,
   "metadata": {},
   "outputs": [
    {
     "name": "stderr",
     "output_type": "stream",
     "text": [
      "/anaconda3/lib/python3.7/site-packages/pyLDAvis/_prepare.py:257: FutureWarning: Sorting because non-concatenation axis is not aligned. A future version\n",
      "of pandas will change to not sort by default.\n",
      "\n",
      "To accept the future behavior, pass 'sort=False'.\n",
      "\n",
      "To retain the current behavior and silence the warning, pass 'sort=True'.\n",
      "\n",
      "  return pd.concat([default_term_info] + list(topic_dfs))\n"
     ]
    },
    {
     "data": {
      "text/html": [
       "\n",
       "<link rel=\"stylesheet\" type=\"text/css\" href=\"https://cdn.rawgit.com/bmabey/pyLDAvis/files/ldavis.v1.0.0.css\">\n",
       "\n",
       "\n",
       "<div id=\"ldavis_el25100112818073416250107552\"></div>\n",
       "<script type=\"text/javascript\">\n",
       "\n",
       "var ldavis_el25100112818073416250107552_data = {\"mdsDat\": {\"x\": [0.027367177213607402, -0.05217713692237426, 0.028187919955518097, 0.017487215618741694, -0.020865175865492882], \"y\": [-0.030381211944204473, -0.025864175022595495, 0.021550828989474913, -0.010472243411993194, 0.045166801389318265], \"topics\": [1, 2, 3, 4, 5], \"cluster\": [1, 1, 1, 1, 1], \"Freq\": [26.641569137573242, 21.053937911987305, 18.699399948120117, 17.14454460144043, 16.460552215576172]}, \"tinfo\": {\"Category\": [\"Default\", \"Default\", \"Default\", \"Default\", \"Default\", \"Default\", \"Default\", \"Default\", \"Default\", \"Default\", \"Default\", \"Default\", \"Default\", \"Default\", \"Default\", \"Default\", \"Default\", \"Default\", \"Default\", \"Default\", \"Default\", \"Default\", \"Default\", \"Default\", \"Default\", \"Default\", \"Default\", \"Default\", \"Default\", \"Default\", \"Topic1\", \"Topic1\", \"Topic1\", \"Topic1\", \"Topic1\", \"Topic1\", \"Topic1\", \"Topic1\", \"Topic1\", \"Topic1\", \"Topic1\", \"Topic1\", \"Topic1\", \"Topic1\", \"Topic1\", \"Topic1\", \"Topic1\", \"Topic1\", \"Topic1\", \"Topic1\", \"Topic1\", \"Topic1\", \"Topic1\", \"Topic1\", \"Topic1\", \"Topic1\", \"Topic1\", \"Topic1\", \"Topic1\", \"Topic1\", \"Topic1\", \"Topic1\", \"Topic1\", \"Topic1\", \"Topic1\", \"Topic1\", \"Topic1\", \"Topic1\", \"Topic1\", \"Topic1\", \"Topic1\", \"Topic1\", \"Topic1\", \"Topic1\", \"Topic1\", \"Topic1\", \"Topic1\", \"Topic1\", \"Topic1\", \"Topic1\", \"Topic1\", \"Topic1\", \"Topic1\", \"Topic1\", \"Topic1\", \"Topic1\", \"Topic1\", \"Topic1\", \"Topic1\", \"Topic1\", \"Topic1\", \"Topic1\", \"Topic1\", \"Topic1\", \"Topic1\", \"Topic1\", \"Topic1\", \"Topic1\", \"Topic1\", \"Topic1\", \"Topic1\", \"Topic1\", \"Topic1\", \"Topic1\", \"Topic1\", \"Topic1\", \"Topic1\", \"Topic1\", \"Topic1\", \"Topic1\", \"Topic1\", \"Topic1\", \"Topic1\", \"Topic1\", \"Topic2\", \"Topic2\", \"Topic2\", \"Topic2\", \"Topic2\", \"Topic2\", \"Topic2\", \"Topic2\", \"Topic2\", \"Topic2\", \"Topic2\", \"Topic2\", \"Topic2\", \"Topic2\", \"Topic2\", \"Topic2\", \"Topic2\", \"Topic2\", \"Topic2\", \"Topic2\", \"Topic2\", \"Topic2\", \"Topic2\", \"Topic2\", \"Topic2\", \"Topic2\", \"Topic2\", \"Topic2\", \"Topic2\", \"Topic2\", \"Topic2\", \"Topic2\", \"Topic2\", \"Topic2\", \"Topic2\", \"Topic2\", \"Topic2\", \"Topic2\", \"Topic2\", \"Topic2\", \"Topic2\", \"Topic2\", \"Topic2\", \"Topic2\", \"Topic2\", \"Topic2\", \"Topic2\", \"Topic2\", \"Topic2\", \"Topic2\", \"Topic2\", \"Topic2\", \"Topic2\", \"Topic2\", \"Topic2\", \"Topic2\", \"Topic2\", \"Topic2\", \"Topic2\", \"Topic2\", \"Topic2\", \"Topic2\", \"Topic2\", \"Topic2\", \"Topic2\", \"Topic2\", \"Topic2\", \"Topic2\", \"Topic2\", \"Topic2\", \"Topic2\", \"Topic2\", \"Topic2\", \"Topic2\", \"Topic2\", \"Topic2\", \"Topic2\", \"Topic2\", \"Topic2\", \"Topic2\", \"Topic2\", \"Topic2\", \"Topic2\", \"Topic2\", \"Topic2\", \"Topic2\", \"Topic2\", \"Topic2\", \"Topic2\", \"Topic2\", \"Topic2\", \"Topic2\", \"Topic2\", \"Topic2\", \"Topic3\", \"Topic3\", \"Topic3\", \"Topic3\", \"Topic3\", \"Topic3\", \"Topic3\", \"Topic3\", \"Topic3\", \"Topic3\", \"Topic3\", \"Topic3\", \"Topic3\", \"Topic3\", \"Topic3\", \"Topic3\", \"Topic3\", \"Topic3\", \"Topic3\", \"Topic3\", \"Topic3\", \"Topic3\", \"Topic3\", \"Topic3\", \"Topic3\", \"Topic3\", \"Topic3\", \"Topic3\", \"Topic3\", \"Topic3\", \"Topic3\", \"Topic3\", \"Topic3\", \"Topic3\", \"Topic3\", \"Topic3\", \"Topic3\", \"Topic3\", \"Topic3\", \"Topic3\", \"Topic3\", \"Topic3\", \"Topic3\", \"Topic3\", \"Topic3\", \"Topic3\", \"Topic3\", \"Topic3\", \"Topic3\", \"Topic3\", \"Topic3\", \"Topic3\", \"Topic3\", \"Topic3\", \"Topic3\", \"Topic3\", \"Topic3\", \"Topic3\", \"Topic3\", \"Topic3\", \"Topic3\", \"Topic3\", \"Topic3\", \"Topic3\", \"Topic3\", \"Topic3\", \"Topic3\", \"Topic3\", \"Topic3\", \"Topic3\", \"Topic3\", \"Topic3\", \"Topic3\", \"Topic3\", \"Topic3\", \"Topic3\", \"Topic3\", \"Topic3\", \"Topic3\", \"Topic3\", \"Topic3\", \"Topic3\", \"Topic3\", \"Topic3\", \"Topic3\", \"Topic3\", \"Topic3\", \"Topic3\", \"Topic3\", \"Topic3\", \"Topic3\", \"Topic3\", \"Topic3\", \"Topic3\", \"Topic4\", \"Topic4\", \"Topic4\", \"Topic4\", \"Topic4\", \"Topic4\", \"Topic4\", \"Topic4\", \"Topic4\", \"Topic4\", \"Topic4\", \"Topic4\", \"Topic4\", \"Topic4\", \"Topic4\", \"Topic4\", \"Topic4\", \"Topic4\", \"Topic4\", \"Topic4\", \"Topic4\", \"Topic4\", \"Topic4\", \"Topic4\", \"Topic4\", \"Topic4\", \"Topic4\", \"Topic4\", \"Topic4\", \"Topic4\", \"Topic4\", \"Topic4\", \"Topic4\", \"Topic4\", \"Topic4\", \"Topic4\", \"Topic4\", \"Topic4\", \"Topic4\", \"Topic4\", \"Topic4\", \"Topic4\", \"Topic4\", \"Topic4\", \"Topic4\", \"Topic4\", \"Topic4\", \"Topic4\", \"Topic4\", \"Topic4\", \"Topic4\", \"Topic4\", \"Topic4\", \"Topic4\", \"Topic4\", \"Topic4\", \"Topic4\", \"Topic4\", \"Topic4\", \"Topic4\", \"Topic4\", \"Topic4\", \"Topic4\", \"Topic4\", \"Topic4\", \"Topic4\", \"Topic4\", \"Topic4\", \"Topic4\", \"Topic4\", \"Topic4\", \"Topic4\", \"Topic4\", \"Topic4\", \"Topic4\", \"Topic4\", \"Topic4\", \"Topic5\", \"Topic5\", \"Topic5\", \"Topic5\", \"Topic5\", \"Topic5\", \"Topic5\", \"Topic5\", \"Topic5\", \"Topic5\", \"Topic5\", \"Topic5\", \"Topic5\", \"Topic5\", \"Topic5\", \"Topic5\", \"Topic5\", \"Topic5\", \"Topic5\", \"Topic5\", \"Topic5\", \"Topic5\", \"Topic5\", \"Topic5\", \"Topic5\", \"Topic5\", \"Topic5\", \"Topic5\", \"Topic5\", \"Topic5\", \"Topic5\", \"Topic5\", \"Topic5\", \"Topic5\", \"Topic5\", \"Topic5\", \"Topic5\", \"Topic5\", \"Topic5\", \"Topic5\", \"Topic5\", \"Topic5\", \"Topic5\", \"Topic5\", \"Topic5\", \"Topic5\", \"Topic5\", \"Topic5\", \"Topic5\", \"Topic5\", \"Topic5\", \"Topic5\", \"Topic5\", \"Topic5\", \"Topic5\", \"Topic5\", \"Topic5\", \"Topic5\", \"Topic5\", \"Topic5\", \"Topic5\", \"Topic5\", \"Topic5\", \"Topic5\", \"Topic5\", \"Topic5\", \"Topic5\", \"Topic5\", \"Topic5\", \"Topic5\", \"Topic5\", \"Topic5\", \"Topic5\", \"Topic5\", \"Topic5\", \"Topic5\", \"Topic5\", \"Topic5\", \"Topic5\", \"Topic5\", \"Topic5\", \"Topic5\", \"Topic5\", \"Topic5\", \"Topic5\", \"Topic5\", \"Topic5\", \"Topic5\", \"Topic5\"], \"Freq\": [758.0, 1043.0, 1871.0, 642.0, 321.0, 312.0, 444.0, 551.0, 620.0, 157.0, 301.0, 181.0, 195.0, 787.0, 84.0, 454.0, 248.0, 203.0, 1870.0, 1499.0, 235.0, 132.0, 137.0, 64.0, 199.0, 332.0, 219.0, 593.0, 823.0, 398.0, 49.478363037109375, 22.3358211517334, 16.4119815826416, 15.519740104675293, 15.522521018981934, 23.44845962524414, 11.399468421936035, 290.4440612792969, 15.071568489074707, 11.67939567565918, 14.8270845413208, 278.4557189941406, 14.613460540771484, 6.935707092285156, 7.815191745758057, 23.39885139465332, 7.729737281799316, 16.057960510253906, 29.520347595214844, 7.573761463165283, 21.021743774414062, 40.50273513793945, 7.408390522003174, 7.4297943115234375, 8.539214134216309, 7.904533386230469, 7.974925518035889, 7.540311336517334, 7.407907009124756, 7.387670993804932, 14.482666969299316, 24.977725982666016, 10.352279663085938, 43.7913703918457, 10.34041976928711, 33.765533447265625, 51.87038040161133, 71.262939453125, 14.784317970275879, 36.161556243896484, 30.29081916809082, 238.181640625, 328.078125, 317.7440185546875, 198.7617645263672, 485.494384765625, 199.00770568847656, 90.61259460449219, 381.5142517089844, 172.0972137451172, 172.99594116210938, 107.85383605957031, 280.3331604003906, 609.8628540039062, 331.17626953125, 287.38104248046875, 194.86605834960938, 146.26870727539062, 179.23562622070312, 213.32955932617188, 317.4179992675781, 325.0603942871094, 319.91748046875, 620.6851196289062, 206.1862335205078, 232.16189575195312, 211.61825561523438, 197.5387420654297, 438.0536804199219, 496.7052307128906, 370.231201171875, 268.5962829589844, 272.24981689453125, 439.7477722167969, 430.66827392578125, 334.5299377441406, 293.36529541015625, 313.8841552734375, 258.18402099609375, 294.5942687988281, 274.5128173828125, 268.82354736328125, 259.0395202636719, 263.53411865234375, 8.45722484588623, 28.28086280822754, 36.38100051879883, 8.000154495239258, 7.992100238800049, 7.986095905303955, 7.986062049865723, 7.98378849029541, 7.979701042175293, 7.974937438964844, 8.266704559326172, 8.137704849243164, 8.233481407165527, 14.68421459197998, 7.772952079772949, 17.218608856201172, 15.07361125946045, 12.359798431396484, 7.78937292098999, 8.06827163696289, 8.053779602050781, 7.620666980743408, 55.83116149902344, 7.728182792663574, 7.27686882019043, 23.52920150756836, 7.401466369628906, 9.54455852508545, 10.450658798217773, 10.417057991027832, 63.085140228271484, 52.701255798339844, 16.03762435913086, 105.39351654052734, 110.04547119140625, 16.899242401123047, 19.427457809448242, 26.95269203186035, 166.93328857421875, 70.38790893554688, 192.6065216064453, 20.794723510742188, 23.378170013427734, 571.7173461914062, 156.0165252685547, 115.72086334228516, 30.01087760925293, 15.97521686553955, 20.007415771484375, 330.75067138671875, 91.8641128540039, 242.73748779296875, 97.62416076660156, 189.77963256835938, 210.3760528564453, 66.78184509277344, 113.50042724609375, 187.665283203125, 56.628807067871094, 81.83222961425781, 39.77393341064453, 132.89772033691406, 591.7863159179688, 152.2141876220703, 284.5964660644531, 179.00047302246094, 178.93458557128906, 112.11077117919922, 293.06500244140625, 265.35382080078125, 317.4351806640625, 150.7056884765625, 140.0560302734375, 208.73468017578125, 237.27752685546875, 207.24456787109375, 242.08981323242188, 229.88723754882812, 348.2773132324219, 232.6102294921875, 241.0211944580078, 292.0025634765625, 221.90365600585938, 262.3309631347656, 294.2867431640625, 201.7860565185547, 237.64495849609375, 239.42767333984375, 209.16546630859375, 212.07833862304688, 248.12521362304688, 206.44740295410156, 218.00559997558594, 200.60467529296875, 15.760368347167969, 11.882338523864746, 31.35245704650879, 18.42379379272461, 22.678604125976562, 8.21872329711914, 33.02910614013672, 12.34387493133545, 8.066650390625, 7.870625019073486, 5.324995040893555, 5.324995040893555, 19.150127410888672, 34.225807189941406, 7.69234037399292, 8.521456718444824, 10.416500091552734, 12.638436317443848, 4.448035717010498, 7.108835697174072, 7.903555870056152, 7.077345848083496, 4.1645660400390625, 4.3043413162231445, 4.630218505859375, 13.27293586730957, 18.595298767089844, 4.2600321769714355, 10.358970642089844, 4.221001625061035, 14.085351943969727, 8.54946231842041, 29.445903778076172, 19.396730422973633, 27.649572372436523, 42.226322174072266, 99.01728820800781, 28.88773536682129, 60.648685455322266, 138.70484924316406, 26.833480834960938, 276.4274597167969, 34.185707092285156, 46.076114654541016, 31.700599670410156, 393.36761474609375, 112.171875, 41.13634490966797, 109.33506774902344, 120.7538833618164, 120.92713165283203, 166.0081787109375, 55.19895553588867, 57.498512268066406, 64.65816497802734, 73.33043670654297, 501.30584716796875, 200.0760040283203, 65.90969848632812, 52.21803283691406, 63.30360412597656, 123.66316986083984, 50.26908493041992, 333.4363708496094, 98.11759185791016, 346.1634826660156, 122.61389923095703, 140.49224853515625, 281.385986328125, 360.5612487792969, 199.28692626953125, 197.22738647460938, 215.63648986816406, 262.54248046875, 331.498779296875, 152.1740264892578, 216.51051330566406, 228.7711944580078, 333.80181884765625, 165.36643981933594, 181.87550354003906, 236.16900634765625, 245.60870361328125, 204.74493408203125, 172.3837432861328, 144.39202880859375, 187.84530639648438, 173.47560119628906, 151.25767517089844, 163.78363037109375, 155.8271484375, 158.54971313476562, 156.3998260498047, 156.43634033203125, 81.92945861816406, 51.244667053222656, 51.022159576416016, 41.002899169921875, 40.96489334106445, 40.887088775634766, 61.61884689331055, 41.00865936279297, 20.393047332763672, 20.375476837158203, 20.352519989013672, 20.32261848449707, 30.767961502075195, 41.33125686645508, 41.15162658691406, 20.742137908935547, 20.513072967529297, 16.732847213745117, 10.183341026306152, 10.17349624633789, 10.174599647521973, 10.171982765197754, 10.156758308410645, 10.161599159240723, 13.108380317687988, 10.156426429748535, 10.144859313964844, 10.140424728393555, 10.144930839538574, 10.12699031829834, 21.2469482421875, 19.008604049682617, 42.262718200683594, 16.17534637451172, 15.626791954040527, 54.110652923583984, 27.418399810791016, 23.725173950195312, 42.45540237426758, 23.11662483215332, 23.84719467163086, 627.2199096679688, 101.80917358398438, 47.29441452026367, 81.33386993408203, 406.975830078125, 112.99101257324219, 274.0599060058594, 236.43553161621094, 426.7212219238281, 244.29977416992188, 191.12255859375, 287.5181579589844, 270.28277587890625, 267.8875732421875, 359.6118469238281, 168.4729766845703, 237.80589294433594, 277.0246887207031, 255.73562622070312, 214.691162109375, 208.302978515625, 306.9912109375, 157.68833923339844, 179.5045166015625, 131.20816040039062, 109.76329040527344, 162.32650756835938, 164.97486877441406, 171.78265380859375, 171.19390869140625, 166.80551147460938, 215.0385284423828, 171.9324951171875, 186.2825164794922, 164.12489318847656, 160.24391174316406, 55.113853454589844, 34.11804962158203, 11.681559562683105, 6.719548225402832, 6.522669315338135, 11.118700981140137, 6.5761399269104, 6.564417362213135, 6.557180881500244, 6.537392616271973, 6.362064361572266, 6.9875383377075195, 6.482668876647949, 6.395746231079102, 36.049442291259766, 36.81675720214844, 13.19249153137207, 11.016081809997559, 28.418846130371094, 6.636809825897217, 6.6005635261535645, 6.631964206695557, 12.89122486114502, 6.0154852867126465, 9.561934471130371, 8.260380744934082, 6.940574645996094, 9.734536170959473, 6.500497341156006, 43.24232864379883, 26.190593719482422, 34.58173370361328, 34.38656234741211, 14.246175765991211, 9.954179763793945, 29.383678436279297, 102.52106475830078, 316.9896240234375, 114.73495483398438, 103.80450439453125, 13.912842750549316, 10.734722137451172, 23.5441837310791, 13.031277656555176, 80.04467010498047, 12.399467468261719, 67.12188720703125, 46.0324821472168, 42.119239807128906, 52.600494384765625, 33.67532730102539, 35.73542785644531, 82.07133483886719, 100.49342346191406, 59.13048553466797, 212.46914672851562, 126.39897155761719, 286.0951843261719, 55.15184020996094, 65.71704864501953, 336.8370056152344, 201.05299377441406, 71.99835968017578, 189.29234313964844, 256.149169921875, 233.1040496826172, 155.89544677734375, 289.8132629394531, 121.76509857177734, 173.90692138671875, 179.24295043945312, 176.30184936523438, 206.04832458496094, 189.322021484375, 159.1124267578125, 132.1607666015625, 193.15321350097656, 159.2388458251953, 163.77645874023438, 164.83074951171875, 212.82455444335938, 143.19642639160156, 135.92257690429688, 135.45272827148438, 169.3773193359375, 143.2506866455078, 144.49478149414062, 132.93809509277344, 139.19482421875], \"Term\": [\"border\", \"woman\", \"trump\", \"dam\", \"rashida\", \"tlaib\", \"mexico\", \"shutdown\", \"school\", \"eclipse\", \"elizabeth\", \"moon\", \"texas\", \"life\", \"lapita\", \"police\", \"catholic\", \"tax\", \"time\", \"president\", \"pelosi\", \"asylum\", \"phillips\", \"skull\", \"brief\", \"dr\", \"migrant\", \"wall\", \"house\", \"representative\", \"newark\", \"procedural\", \"deripaska\", \"libya\", \"musk\", \"ginsburg\", \"tanker\", \"rashida\", \"physic\", \"bader\", \"neville\", \"tlaib\", \"mastercard\", \"milken\", \"lori\", \"mnuchin\", \"inbound\", \"tesla\", \"oligarch\", \"commercially\", \"municipality\", \"treaty\", \"absentee\", \"oleg\", \"jenner\", \"amc\", \"takeoff\", \"merger\", \"contraception\", \"yalitza\", \"certification\", \"guild\", \"rbg\", \"hi\", \"reddish\", \"snub\", \"feed\", \"andy\", \"mister\", \"palestinian\", \"zealand\", \"representative\", \"democrat\", \"shutdown\", \"vote\", \"government\", \"agency\", \"nomination\", \"michael\", \"tuesday\", \"senate\", \"european\", \"official\", \"state\", \"unite\", \"barbaro\", \"win\", \"service\", \"democratic\", \"report\", \"include\", \"company\", \"house\", \"new\", \"add\", \"federal\", \"member\", \"force\", \"president\", \"trump\", \"day\", \"week\", \"record\", \"people\", \"time\", \"know\", \"come\", \"take\", \"country\", \"work\", \"last\", \"american\", \"call\", \"could\", \"emiratis\", \"glazer\", \"mallory\", \"escapist\", \"thematic\", \"killmonger\", \"vudu\", \"challa\", \"techno\", \"wakanda\", \"chadwick\", \"cello\", \"boseman\", \"mason\", \"misinformation\", \"kaya\", \"mcgowan\", \"pakistani\", \"segregate\", \"utopian\", \"itunes\", \"posthumously\", \"weinstein\", \"umair\", \"retract\", \"panther\", \"demonstrator\", \"mogul\", \"choreography\", \"chisholm\", \"conversion\", \"oliver\", \"taitano\", \"phillips\", \"lincoln\", \"darren\", \"mascot\", \"demographic\", \"catholic\", \"kelly\", \"elizabeth\", \"flynn\", \"superhero\", \"woman\", \"boy\", \"sexual\", \"muhammad\", \"farfan\", \"bercow\", \"school\", \"indigenous\", \"police\", \"memorial\", \"student\", \"black\", \"identity\", \"shoot\", \"medium\", \"harris\", \"writer\", \"memoir\", \"men\", \"people\", \"march\", \"life\", \"high\", \"man\", \"officer\", \"american\", \"tell\", \"first\", \"community\", \"young\", \"group\", \"right\", \"show\", \"even\", \"think\", \"new\", \"way\", \"last\", \"president\", \"many\", \"get\", \"time\", \"become\", \"take\", \"know\", \"want\", \"see\", \"trump\", \"end\", \"state\", \"start\", \"tucson\", \"snarl\", \"overdose\", \"opioid\", \"transplant\", \"fredericksburg\", \"seizure\", \"embryo\", \"shiitake\", \"bulldozer\", \"centro\", \"yuma\", \"chronic\", \"heroin\", \"candle\", \"unaccompanied\", \"undecided\", \"methamphetamine\", \"abut\", \"ezra\", \"erie\", \"pliskova\", \"fishnet\", \"trepidation\", \"deprivation\", \"prune\", \"cozy\", \"shallot\", \"rub\", \"creaminess\", \"tricky\", \"ream\", \"piedras\", \"conan\", \"baldwin\", \"tijuana\", \"asylum\", \"negras\", \"rio\", \"texas\", \"immune\", \"mexico\", \"mouse\", \"grande\", \"database\", \"border\", \"immigrant\", \"del\", \"drug\", \"cross\", \"migrant\", \"dr\", \"ghosn\", \"entry\", \"mexican\", \"immigration\", \"time\", \"law\", \"doctor\", \"pain\", \"bird\", \"study\", \"el\", \"get\", \"crime\", \"state\", \"system\", \"spend\", \"work\", \"trump\", \"month\", \"unite\", \"find\", \"take\", \"people\", \"since\", \"even\", \"could\", \"new\", \"wall\", \"use\", \"day\", \"president\", \"last\", \"company\", \"case\", \"know\", \"first\", \"need\", \"come\", \"include\", \"government\", \"tell\", \"american\", \"lapita\", \"teouma\", \"vanuatu\", \"oceania\", \"papuan\", \"austronesian\", \"skull\", \"reich\", \"pinhasi\", \"dublin\", \"petrous\", \"prehistory\", \"papua\", \"guinea\", \"bedford\", \"archaeological\", \"tonga\", \"halep\", \"densest\", \"dentate\", \"alben\", \"guinean\", \"botanist\", \"incorporation\", \"tropic\", \"archaeology\", \"invention\", \"genomic\", \"heterogenous\", \"nubbin\", \"stuart\", \"troll\", \"archaeologist\", \"garde\", \"bandit\", \"ancient\", \"pawn\", \"innovation\", \"genetic\", \"shorthand\", \"southwest\", \"trump\", \"brief\", \"playback\", \"dna\", \"president\", \"union\", \"come\", \"house\", \"new\", \"back\", \"white\", \"know\", \"work\", \"first\", \"people\", \"wall\", \"could\", \"get\", \"take\", \"call\", \"think\", \"time\", \"leave\", \"end\", \"archive\", \"mile\", \"become\", \"record\", \"right\", \"many\", \"want\", \"state\", \"way\", \"day\", \"find\", \"last\", \"woodard\", \"browser\", \"maw\", \"aura\", \"socialite\", \"gdansk\", \"nowacek\", \"seaboard\", \"pressurize\", \"hydrophones\", \"\\u00e9migr\\u00e9\", \"dimensional\", \"loudest\", \"exceedingly\", \"explorer\", \"gergel\", \"seismic\", \"fortnite\", \"dunn\", \"acoustic\", \"amelia\", \"lawn\", \"offshore\", \"dickens\", \"preordain\", \"chaplain\", \"latitude\", \"careless\", \"bookshelf\", \"dyke\", \"library\", \"nytimes\", \"whale\", \"laquan\", \"binoculars\", \"jackie\", \"eclipse\", \"dam\", \"tax\", \"moon\", \"cosmic\", \"eighth\", \"wolf\", \"silt\", \"earth\", \"calorie\", \"tail\", \"internet\", \"rourke\", \"van\", \"atlantic\", \"upgrade\", \"collapse\", \"judge\", \"credit\", \"life\", \"book\", \"day\", \"mud\", \"total\", \"time\", \"find\", \"earlier\", \"start\", \"get\", \"know\", \"look\", \"new\", \"child\", \"right\", \"call\", \"back\", \"work\", \"could\", \"city\", \"home\", \"first\", \"company\", \"see\", \"way\", \"people\", \"record\", \"world\", \"york\", \"state\", \"even\", \"take\", \"want\", \"trump\"], \"Total\": [758.0, 1043.0, 1871.0, 642.0, 321.0, 312.0, 444.0, 551.0, 620.0, 157.0, 301.0, 181.0, 195.0, 787.0, 84.0, 454.0, 248.0, 203.0, 1870.0, 1499.0, 235.0, 132.0, 137.0, 64.0, 199.0, 332.0, 219.0, 593.0, 823.0, 398.0, 51.47966003417969, 23.663972854614258, 17.610759735107422, 16.728139877319336, 16.771743774414062, 25.642711639404297, 12.513092041015625, 321.49591064453125, 16.762306213378906, 13.048981666564941, 16.64638328552246, 312.8511047363281, 16.439002990722656, 7.81390905380249, 8.849499702453613, 26.54416847229004, 8.823612213134766, 18.38123893737793, 33.8082160949707, 8.695836067199707, 24.155664443969727, 46.7610969543457, 8.559052467346191, 8.605670928955078, 9.969843864440918, 9.229249954223633, 9.314961433410645, 8.863691329956055, 8.710775375366211, 8.69639778137207, 17.0542049407959, 30.0814208984375, 12.256561279296875, 56.77223587036133, 12.268011093139648, 43.34601593017578, 69.26557159423828, 98.4859619140625, 18.08709716796875, 48.06986618041992, 40.01420593261719, 398.5521240234375, 571.5791625976562, 551.876953125, 337.5679016113281, 941.9724731445312, 348.4483642578125, 142.64688110351562, 797.811279296875, 318.63922119140625, 327.42584228515625, 184.7923583984375, 594.295166015625, 1558.4478759765625, 739.9603881835938, 630.9701538085938, 399.9537048339844, 279.3765869140625, 364.9994812011719, 461.4912414550781, 777.91357421875, 835.3746337890625, 823.1477661132812, 2019.298583984375, 461.2441101074219, 547.7964477539062, 485.70147705078125, 452.79888916015625, 1499.379638671875, 1871.806396484375, 1243.484375, 761.5457153320312, 785.4620361328125, 1935.46923828125, 1870.089111328125, 1282.4251708984375, 1014.8484497070312, 1214.302001953125, 820.1415405273438, 1203.83251953125, 1001.7649536132812, 969.5073852539062, 923.863037109375, 1036.9466552734375, 9.357532501220703, 31.464645385742188, 40.47870635986328, 8.989131927490234, 8.98576545715332, 8.982454299926758, 8.982660293579102, 8.981966018676758, 8.979635238647461, 8.977591514587402, 9.398147583007812, 9.28941535949707, 9.399024963378906, 16.8431396484375, 8.941457748413086, 19.825170516967773, 17.39618682861328, 14.294363975524902, 9.043075561523438, 9.37878704071045, 9.364583015441895, 8.879773139953613, 65.09770202636719, 9.012625694274902, 8.500397682189941, 27.566883087158203, 8.741408348083496, 11.485374450683594, 12.604607582092285, 12.588335990905762, 77.19910430908203, 64.39788818359375, 19.513437271118164, 137.5936279296875, 150.4199981689453, 20.649539947509766, 24.05190658569336, 34.20267105102539, 248.281982421875, 98.1376953125, 301.7452087402344, 26.154115676879883, 29.81513786315918, 1043.674560546875, 260.3889465332031, 185.46554565429688, 40.14631652832031, 19.6666259765625, 25.444881439208984, 620.4835205078125, 147.19833374023438, 454.26177978515625, 162.3106231689453, 357.5081481933594, 405.85650634765625, 105.91879272460938, 210.393798828125, 391.60076904296875, 91.23175048828125, 145.6519775390625, 58.792415618896484, 275.6964111328125, 1935.46923828125, 341.9350280761719, 787.0548095703125, 438.41796875, 452.089111328125, 238.5893096923828, 969.5073852539062, 896.692138671875, 1208.2874755859375, 382.99212646484375, 342.4894104003906, 683.9110107421875, 865.784912109375, 704.3307495117188, 941.2100219726562, 888.0164184570312, 2019.298583984375, 922.6231689453125, 1001.7649536132812, 1499.379638671875, 896.9856567382812, 1386.4493408203125, 1870.089111328125, 730.3837890625, 1214.302001953125, 1282.4251708984375, 850.663818359375, 909.0013427734375, 1871.806396484375, 826.8421630859375, 1558.4478759765625, 835.0533447265625, 16.898529052734375, 12.975738525390625, 34.63548278808594, 20.456493377685547, 25.331235885620117, 9.34359073638916, 37.63910675048828, 14.117753982543945, 9.258068084716797, 9.165595054626465, 6.271144866943359, 6.271144866943359, 22.89947509765625, 41.0809440612793, 9.235856056213379, 10.23935317993164, 12.53221321105957, 15.250178337097168, 5.372593879699707, 8.631881713867188, 9.713373184204102, 8.71304702758789, 5.137825012207031, 5.3276543617248535, 5.739533424377441, 16.457439422607422, 23.201610565185547, 5.320313930511475, 12.948152542114258, 5.281288146972656, 17.652957916259766, 10.722044944763184, 37.707916259765625, 24.69060707092285, 35.45611572265625, 54.87430953979492, 132.81080627441406, 37.68820571899414, 81.72046661376953, 195.27146911621094, 35.0908203125, 444.7739562988281, 46.5876350402832, 65.0700912475586, 44.13133239746094, 758.2380981445312, 193.61212158203125, 60.93043899536133, 191.8798370361328, 219.10650634765625, 219.86624145507812, 332.6531677246094, 90.71920776367188, 97.56128692626953, 113.40809631347656, 136.70838928222656, 1870.089111328125, 541.5236206054688, 122.71099853515625, 89.33909606933594, 118.06935119628906, 318.7424621582031, 85.01057434082031, 1386.4493408203125, 228.18768310546875, 1558.4478759765625, 328.35552978515625, 409.5013122558594, 1203.83251953125, 1871.806396484375, 729.36572265625, 739.9603881835938, 862.7510375976562, 1214.302001953125, 1935.46923828125, 505.80194091796875, 941.2100219726562, 1036.9466552734375, 2019.298583984375, 593.6720581054688, 718.401123046875, 1243.484375, 1499.379638671875, 1001.7649536132812, 835.3746337890625, 499.5948181152344, 1282.4251708984375, 1208.2874755859375, 658.6170654296875, 1014.8484497070312, 777.91357421875, 941.9724731445312, 896.692138671875, 969.5073852539062, 84.26659393310547, 52.99960708618164, 52.98442077636719, 42.57986831665039, 42.54331588745117, 42.55226516723633, 64.48802185058594, 42.942928314208984, 21.685598373413086, 21.671077728271484, 21.659143447875977, 21.6517333984375, 32.90174102783203, 44.434818267822266, 44.389381408691406, 22.541057586669922, 22.465051651000977, 18.4276180267334, 11.243020057678223, 11.235294342041016, 11.238822937011719, 11.239757537841797, 11.225785255432129, 11.232688903808594, 14.490386962890625, 11.228141784667969, 11.216873168945312, 11.213054656982422, 11.220721244812012, 11.20650863647461, 23.536441802978516, 21.362810134887695, 51.1963996887207, 18.519241333007812, 17.8762264251709, 72.4608154296875, 36.16130447387695, 30.7457218170166, 62.1695442199707, 29.89896011352539, 31.227746963500977, 1871.806396484375, 199.2849578857422, 78.56773376464844, 164.33355712890625, 1499.379638671875, 276.73260498046875, 1014.8484497070312, 823.1477661132812, 2019.298583984375, 898.5531005859375, 651.7349853515625, 1282.4251708984375, 1203.83251953125, 1208.2874755859375, 1935.46923828125, 593.6720581054688, 1036.9466552734375, 1386.4493408203125, 1214.302001953125, 923.863037109375, 888.0164184570312, 1870.089111328125, 633.5159912109375, 826.8421630859375, 443.7215270996094, 317.346923828125, 730.3837890625, 785.4620361328125, 865.784912109375, 896.9856567382812, 850.663818359375, 1558.4478759765625, 922.6231689453125, 1243.484375, 862.7510375976562, 1001.7649536132812, 59.20988845825195, 37.80203628540039, 13.017736434936523, 7.547954559326172, 7.402312278747559, 12.679718017578125, 7.528635025024414, 7.522850513458252, 7.515261650085449, 7.509743690490723, 7.313432216644287, 8.05908203125, 7.486177921295166, 7.399665832519531, 41.85679626464844, 43.116275787353516, 15.580262184143066, 13.024831771850586, 33.7839241027832, 7.914677619934082, 7.8802103996276855, 7.925561904907227, 15.44622802734375, 7.216281890869141, 11.484166145324707, 9.931890487670898, 8.358782768249512, 11.727893829345703, 7.839035511016846, 52.36555480957031, 32.538028717041016, 43.60940933227539, 43.98379898071289, 17.70458221435547, 12.195985794067383, 39.02436828613281, 157.78179931640625, 642.6362915039062, 203.1126251220703, 181.17269897460938, 18.092546463012695, 13.456006050109863, 34.709537506103516, 17.176162719726562, 161.53233337402344, 16.29517936706543, 131.38790893554688, 87.09650421142578, 78.70457458496094, 106.69452667236328, 59.39627456665039, 64.39016723632812, 195.03494262695312, 260.2950439453125, 128.60401916503906, 787.0548095703125, 383.888916015625, 1243.484375, 122.71887969970703, 160.54214477539062, 1870.089111328125, 862.7510375976562, 186.32717895507812, 835.0533447265625, 1386.4493408203125, 1282.4251708984375, 688.3048706054688, 2019.298583984375, 453.03253173828125, 865.784912109375, 923.863037109375, 898.5531005859375, 1203.83251953125, 1036.9466552734375, 782.3068237304688, 560.4476928710938, 1208.2874755859375, 835.3746337890625, 909.0013427734375, 922.6231689453125, 1935.46923828125, 785.4620361328125, 687.630859375, 691.387451171875, 1558.4478759765625, 941.2100219726562, 1214.302001953125, 850.663818359375, 1871.806396484375], \"loglift\": [30.0, 29.0, 28.0, 27.0, 26.0, 25.0, 24.0, 23.0, 22.0, 21.0, 20.0, 19.0, 18.0, 17.0, 16.0, 15.0, 14.0, 13.0, 12.0, 11.0, 10.0, 9.0, 8.0, 7.0, 6.0, 5.0, 4.0, 3.0, 2.0, 1.0, 1.2829999923706055, 1.2648999691009521, 1.2522000074386597, 1.2476999759674072, 1.245300054550171, 1.233199954032898, 1.2295000553131104, 1.2210999727249146, 1.2164000272750854, 1.2117999792099, 1.2070000171661377, 1.2062000036239624, 1.2050000429153442, 1.2035000324249268, 1.1984000205993652, 1.1965999603271484, 1.1902999877929688, 1.187600016593933, 1.1871000528335571, 1.184499979019165, 1.1836999654769897, 1.1790000200271606, 1.1783000230789185, 1.1757999658584595, 1.167799949645996, 1.167799949645996, 1.1674000024795532, 1.1610000133514404, 1.1606999635696411, 1.159600019454956, 1.1592999696731567, 1.1368000507354736, 1.1538000106811523, 1.063099980354309, 1.1518000364303589, 1.0729000568389893, 1.0334999561309814, 0.9991999864578247, 1.1210999488830566, 1.0379999876022339, 1.0442999601364136, 0.8079000115394592, 0.7674999833106995, 0.7706000208854675, 0.7929999828338623, 0.6599000096321106, 0.7626000046730042, 0.8689000010490417, 0.5849999785423279, 0.7067000269889832, 0.6847000122070312, 0.7842000126838684, 0.5713000297546387, 0.38449999690055847, 0.5188000202178955, 0.5361999869346619, 0.6036999821662903, 0.675599992275238, 0.6115000247955322, 0.5511000156402588, 0.4262999892234802, 0.37880000472068787, 0.3776000142097473, 0.14300000667572021, 0.5175999999046326, 0.4641999900341034, 0.4918999969959259, 0.49320000410079956, 0.09220000356435776, -0.004000000189989805, 0.1111999973654747, 0.28060001134872437, 0.2630999982357025, -0.15919999778270721, -0.14569999277591705, -0.0210999995470047, 0.08160000294446945, -0.03020000085234642, 0.16689999401569366, -0.08500000089406967, 0.028200000524520874, 0.03999999910593033, 0.051100000739097595, -0.047200001776218414, 1.4569000005722046, 1.4514000415802002, 1.4514000415802002, 1.441499948501587, 1.4408999681472778, 1.440500020980835, 1.440500020980835, 1.4402999877929688, 1.440000057220459, 1.4397000074386597, 1.429800033569336, 1.4256999492645264, 1.4256999492645264, 1.4208999872207642, 1.4179999828338623, 1.417099952697754, 1.4148000478744507, 1.4127000570297241, 1.4088000059127808, 1.4076000452041626, 1.4072999954223633, 1.4052000045776367, 1.4045000076293945, 1.4042999744415283, 1.4026999473571777, 1.3997000455856323, 1.391700029373169, 1.3730000257492065, 1.3707000017166138, 1.3688000440597534, 1.3561999797821045, 1.3575999736785889, 1.361899971961975, 1.2914999723434448, 1.2454999685287476, 1.357699990272522, 1.344599962234497, 1.3199000358581543, 1.1611000299453735, 1.2257000207901, 1.1090999841690063, 1.3287999629974365, 1.3149000406265259, 0.9562000036239624, 1.0458999872207642, 1.086400032043457, 1.2670999765396118, 1.3502000570297241, 1.3177000284194946, 0.9289000034332275, 1.0865999460220337, 0.9314000010490417, 1.0497000217437744, 0.9247999787330627, 0.9010000228881836, 1.0967999696731567, 0.9409000277519226, 0.8224999904632568, 1.0812000036239624, 0.9815000295639038, 1.1672999858856201, 0.8284000158309937, 0.37310001254081726, 0.7487999796867371, 0.5408999919891357, 0.6622999906539917, 0.6312000155448914, 0.8027999997138977, 0.36169999837875366, 0.34040001034736633, 0.22139999270439148, 0.6254000067710876, 0.6639000177383423, 0.37130001187324524, 0.263700008392334, 0.33469998836517334, 0.20020000636577606, 0.20669999718666077, -0.19939999282360077, 0.18019999563694, 0.13339999318122864, -0.07800000160932541, 0.16130000352859497, -0.10679999738931656, -0.29109999537467957, 0.271699994802475, -0.0731000006198883, -0.12020000070333481, 0.15520000457763672, 0.10270000249147415, -0.4625999927520752, 0.1704999953508377, -0.40880000591278076, 0.13189999759197235, 1.6069999933242798, 1.5887000560760498, 1.5771000385284424, 1.5720000267028809, 1.566100001335144, 1.5484000444412231, 1.5460000038146973, 1.5424000024795532, 1.5389000177383423, 1.524399995803833, 1.513100028038025, 1.513100028038025, 1.4979000091552734, 1.4940999746322632, 1.4938000440597534, 1.4930000305175781, 1.4917999505996704, 1.488800048828125, 1.4878000020980835, 1.4825999736785889, 1.4704999923706055, 1.4687999486923218, 1.4666999578475952, 1.4634000062942505, 1.461899995803833, 1.4615999460220337, 1.455399990081787, 1.4543999433517456, 1.4536000490188599, 1.4526000022888184, 1.4508999586105347, 1.4501999616622925, 1.4293999671936035, 1.4354000091552734, 1.4279999732971191, 1.4147000312805176, 1.3830000162124634, 1.4106999635696411, 1.378499984741211, 1.3345999717712402, 1.408400058746338, 1.2010999917984009, 1.3672000169754028, 1.3315000534057617, 1.3458000421524048, 1.020400047302246, 1.1309000253677368, 1.2838000059127808, 1.1141999959945679, 1.080899953842163, 1.0787999629974365, 0.9815999865531921, 1.179900050163269, 1.1480000019073486, 1.114799976348877, 1.0537999868392944, 0.3601999878883362, 0.6809999942779541, 1.0550999641418457, 1.1397000551223755, 1.0533000230789185, 0.7299000024795532, 1.1512999534606934, 0.2515999972820282, 0.8327000141143799, 0.1720999926328659, 0.6916000247001648, 0.6068999767303467, 0.22310000658035278, 0.02969999983906746, 0.3792000114917755, 0.35440000891685486, 0.29010000824928284, 0.1451999992132187, -0.08780000358819962, 0.475600004196167, 0.20720000565052032, 0.16539999842643738, -0.12330000102519989, 0.398499995470047, 0.30300000309944153, 0.015599999576807022, -0.1324000060558319, 0.08889999985694885, 0.09849999845027924, 0.43540000915527344, -0.24420000612735748, -0.26420000195503235, 0.20550000667572021, -0.14730000495910645, 0.06880000233650208, -0.10520000010728836, -0.06960000097751617, -0.14749999344348907, 1.7353999614715576, 1.7297999858856201, 1.7258000373840332, 1.7258000373840332, 1.7257000207901, 1.7236000299453735, 1.718000054359436, 1.7173999547958374, 1.7020000219345093, 1.701799988746643, 1.701300024986267, 1.7000999450683594, 1.6964000463485718, 1.691100001335144, 1.6878000497817993, 1.680299997329712, 1.6726000308990479, 1.6670000553131104, 1.6644999980926514, 1.664199948310852, 1.6640000343322754, 1.663699984550476, 1.6634000539779663, 1.6633000373840332, 1.6633000373840332, 1.6632000207901, 1.6629999876022339, 1.6628999710083008, 1.6627000570297241, 1.6621999740600586, 1.6612000465393066, 1.6467000246047974, 1.5716999769210815, 1.6282000541687012, 1.628999948501587, 1.471500039100647, 1.4867000579833984, 1.5042999982833862, 1.382099986076355, 1.5061999559402466, 1.4938000440597534, 0.6700999736785889, 1.0918999910354614, 1.2559000253677368, 1.0601999759674072, 0.4593999981880188, 0.8676999807357788, 0.4542999863624573, 0.515999972820282, 0.20909999310970306, 0.4611000120639801, 0.5368000268936157, 0.26829999685287476, 0.26969999074935913, 0.257099986076355, 0.0803999975323677, 0.5038999915122986, 0.29089999198913574, 0.15309999883174896, 0.20569999516010284, 0.30410000681877136, 0.31349998712539673, -0.04340000078082085, 0.37279999256134033, 0.2361000031232834, 0.5450999736785889, 0.7017999887466431, 0.25949999690055847, 0.2029999941587448, 0.1460999995470047, 0.10719999670982361, 0.13429999351501465, -0.21709999442100525, 0.08340000361204147, -0.13490000367164612, 0.10400000214576721, -0.06930000334978104, 1.7324999570846558, 1.70169997215271, 1.6958999633789062, 1.6878999471664429, 1.6777000427246094, 1.6727999448776245, 1.6689000129699707, 1.6678999662399292, 1.667799949645996, 1.6655000448226929, 1.6648000478744507, 1.6614999771118164, 1.6603000164031982, 1.658400058746338, 1.6548000574111938, 1.646299958229065, 1.6377999782562256, 1.6367000341415405, 1.6312999725341797, 1.628100037574768, 1.6269999742507935, 1.6260000467300415, 1.6233999729156494, 1.6222000122070312, 1.621000051498413, 1.6198999881744385, 1.618299961090088, 1.617900013923645, 1.6169999837875366, 1.6128000020980835, 1.5872000455856323, 1.5722999572753906, 1.5579999685287476, 1.586899995803833, 1.601099967956543, 1.5204999446868896, 1.3731000423431396, 1.097499966621399, 1.2331000566482544, 1.2473000288009644, 1.5414999723434448, 1.5782999992370605, 1.416100025177002, 1.527999997138977, 1.1021000146865845, 1.531000018119812, 1.132599949836731, 1.1664999723434448, 1.1790000200271606, 1.097000002861023, 1.2367000579833984, 1.215399980545044, 0.9386000037193298, 0.8525000214576721, 1.0271999835968018, 0.49470001459121704, 0.6933000087738037, 0.33489999175071716, 1.0044000148773193, 0.9110000133514404, 0.09009999781847, 0.3476000130176544, 0.8532999753952026, 0.3199999928474426, 0.11550000309944153, 0.09920000284910202, 0.3192000091075897, -0.1370999962091446, 0.4902999997138977, 0.19910000264644623, 0.16439999639987946, 0.17560000717639923, 0.039000000804662704, 0.10360000282526016, 0.21160000562667847, 0.359499990940094, -0.02930000051856041, 0.14669999480247498, 0.09040000289678574, 0.08190000057220459, -0.4034000039100647, 0.10209999978542328, 0.18299999833106995, 0.17409999668598175, -0.41510000824928284, -0.07840000092983246, -0.3244999945163727, -0.051899999380111694, -0.7946000099182129], \"logprob\": [30.0, 29.0, 28.0, 27.0, 26.0, 25.0, 24.0, 23.0, 22.0, 21.0, 20.0, 19.0, 18.0, 17.0, 16.0, 15.0, 14.0, 13.0, 12.0, 11.0, 10.0, 9.0, 8.0, 7.0, 6.0, 5.0, 4.0, 3.0, 2.0, 1.0, -7.710700035095215, -8.506099700927734, -8.814200401306152, -8.870100021362305, -8.869999885559082, -8.457500457763672, -9.17870044708252, -5.940800189971924, -8.899399757385254, -9.154399871826172, -8.915800094604492, -5.982999801635742, -8.930299758911133, -9.675600051879883, -9.55620002746582, -8.459600448608398, -9.56719970703125, -8.836099624633789, -8.22719955444336, -9.587599754333496, -8.566699981689453, -7.910900115966797, -9.609600067138672, -9.606800079345703, -9.467599868774414, -9.5447998046875, -9.53600025177002, -9.592000007629395, -9.609700202941895, -9.61240005493164, -8.939299583435059, -8.39430046081543, -9.275099754333496, -7.832799911499023, -9.276200294494629, -8.09280014038086, -7.66349983215332, -7.345900058746338, -8.918700218200684, -8.024299621582031, -8.201399803161621, -6.139200210571289, -5.818999767303467, -5.85099983215332, -6.320199966430664, -5.42710018157959, -6.318900108337402, -7.1057000160217285, -5.668099880218506, -6.464200019836426, -6.459000110626221, -6.93149995803833, -5.97629976272583, -5.198999881744385, -5.809599876403809, -5.951399803161621, -6.339900016784668, -6.626800060272217, -6.423600196838379, -6.2494001388549805, -5.8520002365112305, -5.828199863433838, -5.844200134277344, -5.181399822235107, -6.2835001945495605, -6.16480016708374, -6.257500171661377, -6.326300144195557, -5.529900074005127, -5.404300212860107, -5.6981000900268555, -6.019000053405762, -6.005499839782715, -5.526100158691406, -5.546899795532227, -5.799499988555908, -5.930799961090088, -5.8632001876831055, -6.058599948883057, -5.926700115203857, -5.997300148010254, -6.018199920654297, -6.055300235748291, -6.038099765777588, -9.241900444030762, -8.034700393676758, -7.782800197601318, -9.29740047454834, -9.298399925231934, -9.299200057983398, -9.299200057983398, -9.299500465393066, -9.300000190734863, -9.300600051879883, -9.264599800109863, -9.280400276184082, -9.268699645996094, -8.690099716186523, -9.326199531555176, -8.530900001525879, -8.663900375366211, -8.86240005493164, -9.32409954071045, -9.288900375366211, -9.29069995880127, -9.345999717712402, -7.354499816894531, -9.331999778747559, -9.392200469970703, -8.218600273132324, -9.375200271606445, -9.12090015411377, -9.030200004577637, -9.03339958190918, -7.232399940490723, -7.412199974060059, -8.601900100708008, -6.719200134277344, -6.676000118255615, -8.549599647521973, -8.410200119018555, -8.082799911499023, -6.259300231933594, -7.122900009155273, -6.116199970245361, -8.34220027923584, -8.225099563598633, -5.028200149536133, -6.326900005340576, -6.625699996948242, -7.975299835205078, -8.605799674987793, -8.380800247192383, -5.575500011444092, -6.856599807739258, -5.884900093078613, -6.7957000732421875, -6.13100004196167, -6.0279998779296875, -7.1753997802734375, -6.645100116729736, -6.142199993133545, -7.340400218963623, -6.9721999168396, -7.693699836730957, -6.487299919128418, -4.99370002746582, -6.351600170135498, -5.725800037384033, -6.189499855041504, -6.189899921417236, -6.657400131225586, -5.696499824523926, -5.79580020904541, -5.616600036621094, -6.361499786376953, -6.434800148010254, -6.035799980163574, -5.907599925994873, -6.043000221252441, -5.887599945068359, -5.939300060272217, -5.523900032043457, -5.927499771118164, -5.892000198364258, -5.700099945068359, -5.974599838256836, -5.807300090789795, -5.692299842834473, -6.069699764251709, -5.906099796295166, -5.898600101470947, -6.033699989318848, -6.019899845123291, -5.8628997802734375, -6.046800136566162, -5.992400169372559, -6.075500011444092, -8.500800132751465, -8.78320026397705, -7.813000202178955, -8.344599723815918, -8.136899948120117, -9.151900291442871, -7.760900020599365, -8.745100021362305, -9.170499801635742, -9.195099830627441, -9.58590030670166, -9.58590030670166, -8.305999755859375, -7.725299835205078, -9.218099594116211, -9.115699768066406, -8.914899826049805, -8.721500396728516, -9.765800476074219, -9.296899795532227, -9.190999984741211, -9.301400184631348, -9.831700325012207, -9.798700332641602, -9.725700378417969, -8.672599792480469, -8.335399627685547, -9.809000015258789, -8.92039966583252, -9.81820011138916, -8.613100051879883, -9.11240005493164, -7.875699996948242, -8.29319953918457, -7.938700199127197, -7.515200138092041, -6.663000106811523, -7.894899845123291, -7.153200149536133, -6.325900077819824, -7.968599796295166, -5.636300086975098, -7.726500034332275, -7.427999973297119, -7.8018999099731445, -5.2835001945495605, -6.5381999015808105, -7.541399955749512, -6.563899993896484, -6.4644999504089355, -6.463099956512451, -6.146200180053711, -7.247300148010254, -7.206500053405762, -7.089200019836426, -6.9633002281188965, -5.041100025177002, -5.95959997177124, -7.070000171661377, -7.302800178527832, -7.110300064086914, -6.440700054168701, -7.34089994430542, -5.448800086975098, -6.672100067138672, -5.411399841308594, -6.44920015335083, -6.3130998611450195, -5.618599891662598, -5.37060022354126, -5.963500022888184, -5.973899841308594, -5.884699821472168, -5.687900066375732, -5.454699993133545, -6.23330020904541, -5.8805999755859375, -5.8256001472473145, -5.447700023651123, -6.150100231170654, -6.054999828338623, -5.793700218200684, -5.754499912261963, -5.936500072479248, -6.10860013961792, -6.285699844360352, -6.02269983291626, -6.102200031280518, -6.239299774169922, -6.1596999168396, -6.209499835968018, -6.192200183868408, -6.205900192260742, -6.205599784851074, -6.765600204467773, -7.234899997711182, -7.239200115203857, -7.457799911499023, -7.458799839019775, -7.460700035095215, -7.05049991607666, -7.457699775695801, -8.156299591064453, -8.157099723815918, -8.158300399780273, -8.159700393676758, -7.744999885559082, -7.44980001449585, -7.45419979095459, -8.139300346374512, -8.150400161743164, -8.354100227355957, -8.850700378417969, -8.851699829101562, -8.85159969329834, -8.851799964904785, -8.853300094604492, -8.852800369262695, -8.598199844360352, -8.853400230407715, -8.854499816894531, -8.854900360107422, -8.854499816894531, -8.856300354003906, -8.115300178527832, -8.22659969329834, -7.427599906921387, -8.387999534606934, -8.422499656677246, -7.1803998947143555, -7.860300064086914, -8.004899978637695, -7.422999858856201, -8.030900001525879, -7.999800205230713, -4.730199813842773, -6.548399925231934, -7.315100193023682, -6.772900104522705, -5.162700176239014, -6.444200038909912, -5.55810022354126, -5.7058000564575195, -5.115300178527832, -5.673099994659424, -5.918600082397461, -5.510200023651123, -5.572000026702881, -5.580900192260742, -5.286399841308594, -6.0447001457214355, -5.699999809265137, -5.547399997711182, -5.627299785614014, -5.802299976348877, -5.832499980926514, -5.4446001052856445, -6.110799789428711, -5.981299877166748, -6.2947001457214355, -6.473100185394287, -6.081900119781494, -6.065700054168701, -6.025199890136719, -6.02869987487793, -6.054599761962891, -5.800600051879883, -6.024400234222412, -5.944200038909912, -6.070799827575684, -6.094799995422363, -7.121399879455566, -7.600900173187256, -8.672699928283691, -9.225700378417969, -9.255499839782715, -8.722100257873535, -9.247300148010254, -9.249099731445312, -9.250200271606445, -9.253199577331543, -9.280400276184082, -9.186599731445312, -9.26159954071045, -9.275099754333496, -7.545899868011475, -7.524799823760986, -8.55109977722168, -8.731399536132812, -7.783699989318848, -9.238100051879883, -9.243599891662598, -9.238900184631348, -8.574199676513672, -9.336400032043457, -8.873000144958496, -9.01930046081543, -9.193400382995605, -8.85509967803955, -9.258899688720703, -7.363900184631348, -7.8653998374938965, -7.587399959564209, -7.593100070953369, -8.474300384521484, -8.832799911499023, -7.75029993057251, -6.500699996948242, -5.3719000816345215, -6.3881001472473145, -6.4882001876831055, -8.497900009155273, -8.75730037689209, -7.97189998626709, -8.563400268554688, -6.748199939727783, -8.613100051879883, -6.924200057983398, -7.301400184631348, -7.390200138092041, -7.168000221252441, -7.613999843597412, -7.554599761962891, -6.723199844360352, -6.520699977874756, -7.051000118255615, -5.771999835968018, -6.291299819946289, -5.474400043487549, -7.120699882507324, -6.945400238037109, -5.311200141906738, -5.827199935913086, -6.854100227355957, -5.887499809265137, -5.585000038146973, -5.679299831390381, -6.081600189208984, -5.46150016784668, -6.328700065612793, -5.9721999168396, -5.941999912261963, -5.958600044250488, -5.802599906921387, -5.88730001449585, -6.061100006103516, -6.246699810028076, -5.867300033569336, -6.060299873352051, -6.032299995422363, -6.0258002281188965, -5.770299911499023, -6.166500091552734, -6.218699932098389, -6.222099781036377, -5.998600006103516, -6.166200160980225, -6.15749979019165, -6.240900039672852, -6.194900035858154]}, \"token.table\": {\"Topic\": [1, 3, 5, 1, 2, 3, 4, 5, 1, 2, 3, 4, 5, 4, 1, 1, 5, 1, 2, 3, 4, 5, 1, 2, 3, 4, 5, 1, 2, 3, 4, 5, 4, 5, 1, 2, 3, 4, 5, 4, 1, 2, 3, 4, 5, 1, 2, 3, 4, 5, 1, 2, 3, 4, 5, 5, 4, 1, 2, 3, 4, 5, 1, 1, 2, 3, 4, 5, 1, 3, 4, 1, 2, 3, 4, 5, 1, 2, 3, 4, 5, 1, 2, 3, 4, 5, 1, 2, 5, 4, 5, 1, 2, 3, 4, 5, 1, 2, 3, 4, 5, 1, 2, 3, 4, 5, 5, 1, 2, 3, 4, 5, 2, 4, 1, 2, 3, 4, 5, 1, 2, 3, 4, 5, 2, 3, 5, 2, 3, 1, 2, 3, 4, 5, 1, 3, 5, 3, 5, 2, 5, 1, 2, 3, 4, 5, 1, 2, 3, 4, 5, 2, 3, 1, 3, 5, 2, 2, 1, 5, 1, 2, 3, 4, 5, 2, 3, 2, 3, 1, 2, 3, 5, 1, 2, 3, 4, 5, 1, 2, 3, 4, 5, 1, 2, 3, 4, 5, 1, 1, 2, 3, 4, 5, 1, 2, 3, 4, 5, 3, 4, 5, 1, 2, 1, 2, 3, 4, 5, 1, 3, 5, 1, 2, 3, 4, 5, 1, 2, 3, 4, 5, 1, 2, 3, 4, 5, 3, 1, 2, 3, 4, 5, 1, 2, 3, 4, 5, 1, 2, 3, 4, 5, 1, 2, 3, 4, 5, 1, 2, 1, 2, 3, 4, 5, 1, 2, 3, 4, 5, 1, 2, 3, 4, 5, 1, 2, 3, 4, 5, 1, 2, 3, 4, 5, 1, 2, 3, 5, 2, 4, 4, 3, 1, 5, 5, 1, 2, 3, 4, 5, 1, 2, 3, 4, 5, 1, 2, 3, 4, 5, 1, 2, 3, 4, 5, 4, 2, 3, 5, 1, 2, 5, 1, 2, 3, 4, 5, 1, 2, 3, 4, 5, 1, 3, 5, 1, 4, 5, 1, 2, 3, 4, 5, 1, 2, 3, 4, 5, 2, 3, 2, 1, 2, 3, 4, 5, 1, 2, 3, 4, 5, 1, 3, 2, 1, 2, 3, 4, 5, 1, 2, 3, 4, 5, 5, 1, 2, 3, 4, 5, 1, 3, 1, 2, 1, 2, 3, 4, 5, 1, 2, 3, 4, 5, 1, 2, 3, 4, 5, 1, 2, 3, 4, 5, 3, 1, 2, 3, 4, 5, 1, 2, 3, 4, 5, 2, 5, 3, 1, 2, 4, 5, 1, 5, 1, 2, 3, 4, 5, 4, 1, 2, 4, 5, 1, 2, 3, 4, 5, 1, 2, 3, 4, 5, 1, 2, 5, 2, 3, 5, 1, 2, 3, 4, 5, 1, 2, 3, 4, 5, 1, 2, 3, 4, 5, 1, 2, 3, 4, 1, 2, 3, 4, 5, 4, 3, 4, 1, 2, 3, 4, 5, 1, 2, 3, 4, 5, 4, 1, 2, 3, 4, 5, 1, 2, 3, 4, 5, 1, 2, 3, 4, 5, 1, 2, 3, 4, 5, 5, 1, 2, 3, 4, 5, 1, 2, 3, 4, 5, 1, 2, 3, 4, 5, 1, 2, 3, 4, 5, 1, 1, 2, 3, 4, 5, 4, 1, 2, 3, 4, 5, 1, 2, 3, 4, 5, 1, 2, 3, 4, 5, 4, 2, 1, 2, 3, 4, 5, 1, 4, 1, 2, 3, 4, 5, 1, 2, 1, 2, 3, 4, 5, 2, 1, 2, 3, 4, 5, 1, 2, 3, 4, 5, 2, 5, 1, 2, 3, 4, 5, 1, 5, 1, 2, 3, 4, 5, 3, 5, 1, 2, 3, 4, 5, 1, 2, 3, 4, 5, 1, 1, 2, 3, 4, 5, 1, 2, 3, 4, 5, 1, 2, 3, 4, 5, 1, 5, 1, 2, 3, 5, 1, 2, 3, 4, 5, 1, 2, 3, 4, 5, 1, 2, 3, 4, 5, 1, 2, 5, 2, 3, 1, 5, 3, 5, 2, 3, 1, 2, 3, 4, 5, 1, 2, 3, 4, 5, 1, 2, 3, 4, 5, 1, 2, 3, 4, 5, 1, 2, 3, 4, 5, 1, 5, 2, 3, 5, 1, 2, 3, 4, 5, 1, 2, 3, 4, 5, 1, 2, 3, 4, 5, 1, 2, 3, 4, 5, 1, 2, 3, 4, 5, 1, 2, 5, 1, 2, 4, 5, 1, 4, 5, 2, 3, 1, 2, 3, 4, 5, 1, 2, 3, 4, 5, 2, 3, 4, 5, 1, 2, 3, 4, 5, 1, 2, 3, 4, 5, 1, 2, 4, 5, 1, 1, 2, 3, 4, 5, 1, 3, 4, 5, 1, 4, 1, 2, 3, 4, 5, 1, 5, 1, 2, 3, 4, 5, 5, 4, 1, 2, 3, 4, 5, 4, 5, 1, 2, 3, 4, 5, 1, 2, 3, 4, 5, 1, 3, 4, 5, 1, 1, 3, 4, 5, 1, 2, 3, 4, 5, 1, 3, 5, 1, 3, 5, 1, 2, 3, 4, 5, 2, 3, 1, 2, 3, 4, 5, 1, 2, 3, 4, 5, 1, 3, 4, 5, 4, 1, 4, 1, 2, 3, 4, 5, 1, 2, 3, 4, 5, 4, 1, 2, 3, 4, 5, 1, 5, 1, 3, 4, 5, 4, 1, 2, 3, 4, 5, 1, 3, 1, 2, 3, 4, 5, 2, 4, 2, 5, 1, 2, 3, 4, 5, 5, 1, 1, 3, 5, 1, 2, 4, 5, 1, 2, 4, 3, 4, 5, 1, 2, 3, 4, 5, 1, 4, 5, 1, 4, 5, 1, 2, 3, 4, 5, 1, 2, 3, 4, 5, 2, 1, 2, 3, 4, 5, 1, 2, 3, 4, 5, 1, 2, 3, 4, 5, 3, 4, 1, 2, 3, 4, 5, 5, 1, 2, 3, 4, 5, 2, 5, 1, 2, 3, 5, 1, 2, 3, 4, 5, 1, 2, 3, 4, 5, 1, 2, 3, 4, 5, 1, 2, 3, 4, 5, 3, 3, 5, 1, 2, 3, 4, 5, 2, 3, 4, 5, 1, 2, 3, 4, 5, 1, 2, 3, 4, 5, 1, 2, 3, 4, 5, 1, 2, 3, 4, 5, 1, 2, 3, 4, 5, 3, 1, 2, 3, 4, 5, 5, 1, 2, 3, 4, 5, 1, 2, 3, 4, 5, 1, 2, 3, 4, 5, 1, 2, 3, 4, 5, 1, 2, 3, 4, 5, 1, 2, 3, 4, 5, 1, 2, 3, 4, 5, 1, 2, 3, 5, 1, 2, 3, 4, 5, 1, 2, 3, 4, 5, 1, 2, 1, 2, 3, 4, 5, 1, 5, 1, 1, 2, 3, 4, 5, 2, 1, 2, 3, 4, 5, 4, 5, 1, 2, 5, 1, 2, 3, 4, 5, 2, 1, 2, 3, 4, 5, 1, 3, 4, 5, 1, 2, 3, 4, 5, 1, 2, 3, 4, 5, 1, 4, 5, 1, 2, 3, 4, 5, 2, 3, 4, 1, 2, 3, 4, 5, 3, 3, 4, 4, 5, 1, 4, 1, 2, 3, 4, 5, 3, 1, 2, 3, 4, 5, 2, 5, 3, 5, 3, 4, 1, 2, 3, 4, 5, 1, 2, 3, 4, 5, 1, 3, 4, 5, 1, 2, 3, 4, 5, 2, 1, 2, 3, 4, 5, 4, 5, 1, 2, 3, 4, 5, 2, 2, 1, 2, 3, 4, 5, 1, 2, 3, 4, 5, 1, 2, 3, 4, 5, 1, 2, 3, 4, 5, 2, 3, 4, 5, 1, 2, 3, 5, 1, 2, 3, 4, 5, 1, 2, 3, 4, 5, 1, 2, 3, 4, 5, 1, 2, 3, 4, 5, 1, 2, 5, 1, 2, 3, 4, 5, 1, 2, 3, 4, 5, 1, 2, 3, 4, 5, 1, 1, 2, 3, 4, 5, 1, 2, 3, 4, 5, 3, 1, 2, 3, 4, 5, 5], \"Freq\": [0.8178475499153137, 0.7445193529129028, 0.8844327330589294, 0.4466181695461273, 0.18211615085601807, 0.1864522397518158, 0.07154563069343567, 0.1105705201625824, 0.5711032748222351, 0.12627409398555756, 0.13488368690013885, 0.10331516712903976, 0.06600691378116608, 0.889772891998291, 0.8668093085289001, 0.12690016627311707, 0.8883011341094971, 0.2774604856967926, 0.3022153377532959, 0.16090646386146545, 0.1237742006778717, 0.13512016832828522, 0.06900281459093094, 0.05520224943757057, 0.027601124718785286, 0.7452303767204285, 0.09660393744707108, 0.720914900302887, 0.13199850916862488, 0.02030746266245842, 0.1015373170375824, 0.02030746266245842, 0.9316332936286926, 0.044363491237163544, 0.019532622769474983, 0.019532622769474983, 0.019532622769474983, 0.8203701972961426, 0.1171957403421402, 0.8906193375587463, 0.22536657750606537, 0.29072287678718567, 0.0811319649219513, 0.2952302098274231, 0.10592228919267654, 0.09788360446691513, 0.045177046209573746, 0.745421290397644, 0.022588523104786873, 0.08282458782196045, 0.16836072504520416, 0.10101643949747086, 0.10101643949747086, 0.05050821974873543, 0.5724264979362488, 0.9274035692214966, 0.9635210037231445, 0.2637573778629303, 0.12575773894786835, 0.1424512416124344, 0.27154767513275146, 0.19587044417858124, 0.9196119904518127, 0.08461163938045502, 0.028203878551721573, 0.7897086143493652, 0.08461163938045502, 0.028203878551721573, 0.05594021826982498, 0.05594021826982498, 0.8950434923171997, 0.4548551142215729, 0.21871082484722137, 0.04596097022294998, 0.206031933426857, 0.0729036033153534, 0.23686178028583527, 0.27656692266464233, 0.12459202855825424, 0.22180119156837463, 0.13965260982513428, 0.02252791076898575, 0.02252791076898575, 0.02252791076898575, 0.9236443042755127, 0.02252791076898575, 0.15720254182815552, 0.7860127091407776, 0.03930063545703888, 0.0819941908121109, 0.8199419379234314, 0.0169391967356205, 0.067756786942482, 0.533584713935852, 0.0762263834476471, 0.3133751451969147, 0.17001082003116608, 0.5174242258071899, 0.10594877600669861, 0.11087662726640701, 0.0960930734872818, 0.1380607783794403, 0.24486249685287476, 0.10419680923223495, 0.18234442174434662, 0.3282199501991272, 0.8929669857025146, 0.23211705684661865, 0.0369277149438858, 0.5183068513870239, 0.1793631911277771, 0.03297117352485657, 0.8511521220207214, 0.890806257724762, 0.13441430032253265, 0.5991037487983704, 0.07680817693471909, 0.1228930801153183, 0.06912735849618912, 0.31613022089004517, 0.0551973432302475, 0.08530498296022415, 0.5118299126625061, 0.030107641592621803, 0.026453601196408272, 0.07936080545186996, 0.8994224667549133, 0.10910366475582123, 0.8728293180465698, 0.28034457564353943, 0.19916372001171112, 0.09416980296373367, 0.23271848261356354, 0.19375166296958923, 0.06136784330010414, 0.12273568660020828, 0.7364141345024109, 0.8661893606185913, 0.10827367007732391, 0.08526679873466492, 0.852668046951294, 0.19215571880340576, 0.26021087169647217, 0.28823357820510864, 0.06205028295516968, 0.19615896046161652, 0.10069195926189423, 0.6726223230361938, 0.028193749487400055, 0.11680267751216888, 0.0805535688996315, 0.8611952066421509, 0.7973026037216187, 0.8209118843078613, 0.05863656476140022, 0.05863656476140022, 0.851231575012207, 0.8906735777854919, 0.10068576782941818, 0.8054861426353455, 0.25605225563049316, 0.2052832692861557, 0.19424653053283691, 0.07504979521036148, 0.2692963480949402, 0.7943861484527588, 0.07943861931562424, 0.7933606505393982, 0.07933606952428818, 0.04366912320256233, 0.04366912320256233, 0.8297133445739746, 0.04366912320256233, 0.3195677101612091, 0.2058016061782837, 0.15850558876991272, 0.11248783022165298, 0.20324505865573883, 0.11280030012130737, 0.14356401562690735, 0.1230548694729805, 0.19483688473701477, 0.4204374849796295, 0.2887130677700043, 0.18426395952701569, 0.1616004854440689, 0.26999104022979736, 0.09558077156543732, 0.919980525970459, 0.20627056062221527, 0.39426398277282715, 0.09660772979259491, 0.21671463549137115, 0.08616365492343903, 0.3890469968318939, 0.11491850018501282, 0.20589564740657806, 0.09935662150382996, 0.1903337687253952, 0.7695233821868896, 0.16200493276119232, 0.04050123319029808, 0.803602397441864, 0.1148003414273262, 0.025907035917043686, 0.816071629524231, 0.03886055573821068, 0.03886055573821068, 0.07772111147642136, 0.1658141314983368, 0.05527137964963913, 0.7737993001937866, 0.2545936107635498, 0.11379563063383102, 0.2208406776189804, 0.2295200079679489, 0.18226587772369385, 0.3145798444747925, 0.21825501322746277, 0.18533386290073395, 0.16704434156417847, 0.11339505761861801, 0.04310045763850212, 0.08620091527700424, 0.81890869140625, 0.04310045763850212, 0.04310045763850212, 0.7573909759521484, 0.1555161327123642, 0.1244129091501236, 0.1088612973690033, 0.1555161327123642, 0.45877259969711304, 0.15338250994682312, 0.23664730787277222, 0.42947104573249817, 0.09202950447797775, 0.08764714747667313, 0.19625158607959747, 0.05020389333367348, 0.5522428154945374, 0.15061168372631073, 0.05020389333367348, 0.09025322645902634, 0.11515066772699356, 0.11359458416700363, 0.1882869005203247, 0.4932805895805359, 0.14528168737888336, 0.8232628703117371, 0.11329818516969681, 0.04531927406787872, 0.7251083850860596, 0.09063854813575745, 0.02265963703393936, 0.2975509762763977, 0.1326916515827179, 0.189789280295372, 0.14957968890666962, 0.2299988716840744, 0.2297702133655548, 0.0164121575653553, 0.6728984713554382, 0.0164121575653553, 0.0656486302614212, 0.5738487839698792, 0.11372002959251404, 0.09622464329004288, 0.16445666551589966, 0.05248616635799408, 0.4904116690158844, 0.14794541895389557, 0.1698632538318634, 0.12876731157302856, 0.06027405709028244, 0.11694993078708649, 0.7894120216369629, 0.05847496539354324, 0.05847496539354324, 0.8007863163948059, 0.8894407153129578, 0.890052318572998, 0.8711509704589844, 0.9085354804992676, 0.8314530849456787, 0.8685852885246277, 0.1156185045838356, 0.13995924592018127, 0.2312370091676712, 0.49289992451667786, 0.018255554139614105, 0.18743225932121277, 0.10593997687101364, 0.5378491282463074, 0.07334306091070175, 0.10593997687101364, 0.1623312383890152, 0.1052146926522255, 0.49901825189590454, 0.14128829538822174, 0.09319015592336655, 0.1459246575832367, 0.09902030229568481, 0.5680638551712036, 0.08338551968336105, 0.10423190146684647, 0.9228890538215637, 0.029599877074360847, 0.11839950829744339, 0.8287965655326843, 0.01909652166068554, 0.15277217328548431, 0.8211504817008972, 0.22540995478630066, 0.11807187646627426, 0.1985754370689392, 0.07513664662837982, 0.38641706109046936, 0.11762350797653198, 0.07428853213787079, 0.24762843549251556, 0.06190710887312889, 0.49525687098503113, 0.08239226788282394, 0.26619040966033936, 0.6528002619743347, 0.14863251149654388, 0.07431625574827194, 0.8174788355827332, 0.14115890860557556, 0.02352648414671421, 0.5881621241569519, 0.09410593658685684, 0.14115890860557556, 0.0894794687628746, 0.6396124958992004, 0.023198379203677177, 0.159074604511261, 0.0894794687628746, 0.07083279639482498, 0.8499935865402222, 0.8549262285232544, 0.2781667411327362, 0.2491406500339508, 0.14875873923301697, 0.2176957130432129, 0.10642901808023453, 0.13324958086013794, 0.06149980425834656, 0.5842481255531311, 0.13324958086013794, 0.08199974149465561, 0.10295084863901138, 0.8236067891120911, 0.8899635672569275, 0.584439754486084, 0.08658366650342941, 0.05952627211809158, 0.2110476940870285, 0.05952627211809158, 0.206117644906044, 0.25711584091186523, 0.23055428266525269, 0.15405701100826263, 0.15193209052085876, 0.8108474016189575, 0.023890983313322067, 0.023890983313322067, 0.0716729462146759, 0.023890983313322067, 0.8600753545761108, 0.11584959179162979, 0.8109471797943115, 0.15254269540309906, 0.8135610222816467, 0.4235149621963501, 0.051113877445459366, 0.2245359569787979, 0.19715352356433868, 0.10587874054908752, 0.7507337331771851, 0.02887437306344509, 0.10106030851602554, 0.04331156238913536, 0.0721859335899353, 0.18081693351268768, 0.14604444801807404, 0.25036191940307617, 0.19008959829807281, 0.23297566175460815, 0.21187010407447815, 0.2623547911643982, 0.1431778520345688, 0.2218015193939209, 0.1597301959991455, 0.7785395383834839, 0.0764698013663292, 0.8029329180717468, 0.0764698013663292, 0.0382349006831646, 0.0382349006831646, 0.43728023767471313, 0.22084860503673553, 0.11263278871774673, 0.13913461565971375, 0.0883394405245781, 0.076776422560215, 0.8445406556129456, 0.8562018871307373, 0.05399789288640022, 0.05399789288640022, 0.8639662861824036, 0.05399789288640022, 0.07886610925197601, 0.867527186870575, 0.06434018909931183, 0.032170094549655914, 0.16085046529769897, 0.6755719184875488, 0.06434018909931183, 0.8918176293373108, 0.023193098604679108, 0.06957929581403732, 0.06957929581403732, 0.8581446409225464, 0.18608686327934265, 0.18897192180156708, 0.24018187820911407, 0.19979092478752136, 0.18464432656764984, 0.22046047449111938, 0.1322762817144394, 0.6062663197517395, 0.011023024097084999, 0.03306907042860985, 0.8969410061836243, 0.038997434079647064, 0.038997434079647064, 0.8898876905441284, 0.06356340646743774, 0.03178170323371887, 0.5148770213127136, 0.10934501886367798, 0.16879473626613617, 0.14968590438365936, 0.05732651427388191, 0.1997845619916916, 0.015368043445050716, 0.7069299817085266, 0.046104129403829575, 0.015368043445050716, 0.2982844114303589, 0.3055953085422516, 0.14036913216114044, 0.17692360281944275, 0.08041981607675552, 0.8310777544975281, 0.03324311226606369, 0.03324311226606369, 0.06648622453212738, 0.02250487357378006, 0.02250487357378006, 0.02250487357378006, 0.9226998686790466, 0.02250487357378006, 0.8896989226341248, 0.05426637455821037, 0.9225283265113831, 0.16441644728183746, 0.6247825026512146, 0.08768877387046814, 0.03288329020142555, 0.09864986687898636, 0.024342186748981476, 0.024342186748981476, 0.827634334564209, 0.04868437349796295, 0.04868437349796295, 0.891208291053772, 0.7750267386436462, 0.08807121962308884, 0.017614243552088737, 0.08807121962308884, 0.017614243552088737, 0.20756448805332184, 0.4082861840724945, 0.13913662731647491, 0.14141756296157837, 0.10264177620410919, 0.24623171985149384, 0.17307591438293457, 0.19627165794372559, 0.14809589087963104, 0.23552599549293518, 0.3887515962123871, 0.10933638364076614, 0.11419577896595001, 0.28670430183410645, 0.10083243995904922, 0.9321223497390747, 0.0944119542837143, 0.6325600743293762, 0.0944119542837143, 0.0566471703350544, 0.12273553758859634, 0.1859387755393982, 0.06714455783367157, 0.5784761905670166, 0.12395918369293213, 0.04648469388484955, 0.19750067591667175, 0.08777808398008347, 0.5339833498001099, 0.06583356112241745, 0.10240776091814041, 0.0284974817186594, 0.14248740673065186, 0.769432008266449, 0.0284974817186594, 0.0284974817186594, 0.9066581726074219, 0.4075002670288086, 0.14397485554218292, 0.20053641498088837, 0.13883289694786072, 0.10798114538192749, 0.8902587890625, 0.19021955132484436, 0.6250070929527283, 0.013587110675871372, 0.15625177323818207, 0.020380664616823196, 0.032524850219488144, 0.032524850219488144, 0.032524850219488144, 0.7805964350700378, 0.13009940087795258, 0.16074123978614807, 0.10333365201950073, 0.17222276329994202, 0.034444551914930344, 0.5281497836112976, 0.8915140628814697, 0.854282557964325, 0.025625014677643776, 0.15375009179115295, 0.05125002935528755, 0.025625014677643776, 0.7431254386901855, 0.9027222394943237, 0.10030247271060944, 0.12293741852045059, 0.2151404768228531, 0.2189822643995285, 0.057626914232969284, 0.38417941331863403, 0.10088185966014862, 0.8574957847595215, 0.15284647047519684, 0.7132835388183594, 0.050948821008205414, 0.0611385852098465, 0.010189764201641083, 0.8906251788139343, 0.26122382283210754, 0.18636564910411835, 0.1465972512960434, 0.2245745062828064, 0.18168701231479645, 0.01186709851026535, 0.01186709851026535, 0.01186709851026535, 0.9731020927429199, 0.01186709851026535, 0.169447660446167, 0.7907557487487793, 0.2745154798030853, 0.2405754029750824, 0.20463882386684418, 0.1597181111574173, 0.12078681588172913, 0.11963464319705963, 0.8374425172805786, 0.21236377954483032, 0.2400633990764618, 0.3693282902240753, 0.09787200391292572, 0.08125222474336624, 0.12617401778697968, 0.8832181096076965, 0.20362548530101776, 0.26834365725517273, 0.1310148388147354, 0.2494017481803894, 0.14837825298309326, 0.06146653741598129, 0.030733268707990646, 0.06146653741598129, 0.030733268707990646, 0.7990649938583374, 0.9564721584320068, 0.13594986498355865, 0.3621094822883606, 0.12451483309268951, 0.1067270040512085, 0.26935863494873047, 0.13960909843444824, 0.7312857508659363, 0.03324026241898537, 0.046536363661289215, 0.03988831490278244, 0.24843642115592957, 0.23681366443634033, 0.10605765134096146, 0.18015272915363312, 0.22664375603199005, 0.9040058851242065, 0.8014770746231079, 0.0494086928665638, 0.8893564939498901, 0.0247043464332819, 0.0247043464332819, 0.16368454694747925, 0.3959396481513977, 0.12608133256435394, 0.16368454694747925, 0.15262477099895477, 0.2775964140892029, 0.2474955916404724, 0.13712593913078308, 0.1906384974718094, 0.14715954661369324, 0.3275476098060608, 0.4445289075374603, 0.0614151768386364, 0.09358502924442291, 0.07311330735683441, 0.08315349370241165, 0.7899581789970398, 0.08315349370241165, 0.8905702829360962, 0.059371352195739746, 0.9124640822410583, 0.060830939561128616, 0.07681827247142792, 0.921819269657135, 0.8622578978538513, 0.05748386308550835, 0.1813071072101593, 0.480080783367157, 0.12768106162548065, 0.09193035960197449, 0.12002019584178925, 0.43648210167884827, 0.19559338688850403, 0.1338270604610443, 0.1111794039607048, 0.12353266775608063, 0.03401799499988556, 0.6803598403930664, 0.01700899749994278, 0.05102698877453804, 0.23812595009803772, 0.22795796394348145, 0.6037805676460266, 0.030805131420493126, 0.1108984723687172, 0.02464410476386547, 0.1450871229171753, 0.48241469264030457, 0.16685019433498383, 0.1450871229171753, 0.065289206802845, 0.9025585055351257, 0.11281981319189072, 0.06557300686836243, 0.8524490594863892, 0.06557300686836243, 0.19398967921733856, 0.05290627479553223, 0.5731512904167175, 0.08817712962627411, 0.08817712962627411, 0.13714832067489624, 0.03147666156291962, 0.6205399036407471, 0.13939665257930756, 0.0719466581940651, 0.47880998253822327, 0.2018021047115326, 0.06016460433602333, 0.14289093017578125, 0.11782234907150269, 0.27289319038391113, 0.050030417740345, 0.5503345727920532, 0.07277151942253113, 0.054578639566898346, 0.14495177567005157, 0.09768489003181458, 0.20797428488731384, 0.34662380814552307, 0.2016720324754715, 0.8958384394645691, 0.8947086930274963, 0.11183858662843704, 0.82932049036026, 0.055288031697273254, 0.11057606339454651, 0.055288031697273254, 0.8664803504943848, 0.07534611970186234, 0.03767305985093117, 0.8706725239753723, 0.08706725388765335, 0.2673555910587311, 0.15630018711090088, 0.27283981442451477, 0.1809791624546051, 0.12202382832765579, 0.11039190739393234, 0.027597976848483086, 0.28701895475387573, 0.005519595462828875, 0.5740379095077515, 0.10732461512088776, 0.7298073768615723, 0.08585969358682632, 0.06439477205276489, 0.11408187448978424, 0.09778446704149246, 0.146676704287529, 0.19556893408298492, 0.44817879796028137, 0.0249088853597641, 0.7472665905952454, 0.0249088853597641, 0.0249088853597641, 0.1992710828781128, 0.8693612813949585, 0.04139815643429756, 0.04139815643429756, 0.04139815643429756, 0.9539854526519775, 0.2748182713985443, 0.165498286485672, 0.22926828265190125, 0.15183329582214355, 0.17764495313167572, 0.18573449552059174, 0.7694714665412903, 0.026533499360084534, 0.026533499360084534, 0.9010966420173645, 0.06007310748100281, 0.30753251910209656, 0.17233707010746002, 0.16540396213531494, 0.21145956218242645, 0.14361421763896942, 0.9518322348594666, 0.019425148144364357, 0.637938916683197, 0.23134049773216248, 0.07010318338871002, 0.042061906307935715, 0.02804127149283886, 0.9297834038734436, 0.8923385739326477, 0.022930830717086792, 0.022930830717086792, 0.16051581501960754, 0.022930830717086792, 0.8025791049003601, 0.9628963470458984, 0.023485276848077774, 0.3059650957584381, 0.46942588686943054, 0.09639996290206909, 0.06706084311008453, 0.06286954134702682, 0.4711463451385498, 0.13629591464996338, 0.17331455647945404, 0.13124790787696838, 0.08581594377756119, 0.06474072486162186, 0.06474072486162186, 0.06474072486162186, 0.8416294455528259, 0.8134171366691589, 0.8873582482337952, 0.02957860939204693, 0.05915721878409386, 0.02957860939204693, 0.03105691820383072, 0.8230083584785461, 0.03105691820383072, 0.01552845910191536, 0.10869921743869781, 0.04888423532247543, 0.8799161911010742, 0.04888423532247543, 0.05774424970149994, 0.8950358629226685, 0.02887212485074997, 0.10073976963758469, 0.12312638759613037, 0.5820519924163818, 0.06715984642505646, 0.11193307489156723, 0.8394917249679565, 0.06995764374732971, 0.7489099502563477, 0.1456213742494583, 0.041606105864048004, 0.041606105864048004, 0.020803052932024002, 0.07255081832408905, 0.8706098794937134, 0.036275409162044525, 0.036275409162044525, 0.036275409162044525, 0.030393527820706367, 0.030393527820706367, 0.9421994090080261, 0.030393527820706367, 0.9637236595153809, 0.22123095393180847, 0.7466544508934021, 0.4549725353717804, 0.021260399371385574, 0.10630199313163757, 0.3954434096813202, 0.01700831949710846, 0.22733505070209503, 0.3058689832687378, 0.17101795971393585, 0.18600140511989594, 0.11005083471536636, 0.9233975410461426, 0.13808779418468475, 0.763116717338562, 0.0072677782736718655, 0.036338891834020615, 0.05087444931268692, 0.8948649168014526, 0.059657663106918335, 0.15911778807640076, 0.769069254398346, 0.02651963010430336, 0.02651963010430336, 0.9222710728645325, 0.15273445844650269, 0.11455084383487701, 0.07636722922325134, 0.5982099771499634, 0.05091148614883423, 0.11477041244506836, 0.8033928871154785, 0.1761099100112915, 0.534933865070343, 0.178311288356781, 0.048430223017930984, 0.06163846701383591, 0.9009239077568054, 0.9237135648727417, 0.08707641065120697, 0.8707641363143921, 0.2921208143234253, 0.1947472095489502, 0.1640678495168686, 0.2714456021785736, 0.07803227007389069, 0.9314379692077637, 0.929683268070221, 0.06076279282569885, 0.7899163365364075, 0.06076279282569885, 0.902033269405365, 0.05287780985236168, 0.03732551261782646, 0.003110459540039301, 0.8158895373344421, 0.08158895373344421, 0.08158895373344421, 0.8393921256065369, 0.09326579421758652, 0.09326579421758652, 0.34629300236701965, 0.17441962659358978, 0.08657325059175491, 0.21006743609905243, 0.1820584535598755, 0.8151280283927917, 0.08151280879974365, 0.08151280879974365, 0.023286720737814903, 0.9547555446624756, 0.023286720737814903, 0.46154722571372986, 0.14084774255752563, 0.15168218314647675, 0.09534309059381485, 0.149515300989151, 0.5971615314483643, 0.07025429606437683, 0.08530879020690918, 0.20825381577014923, 0.04014531522989273, 0.8234908580780029, 0.22291910648345947, 0.2737400531768799, 0.10395191609859467, 0.19866366684436798, 0.20097370445728302, 0.11013153195381165, 0.02447367273271084, 0.7464470267295837, 0.07342101633548737, 0.06118418276309967, 0.11435167491436005, 0.025411482900381088, 0.1778803914785385, 0.13976316154003143, 0.5336411595344543, 0.7723109722137451, 0.15446218848228455, 0.167611226439476, 0.533454954624176, 0.07897067070007324, 0.08058232069015503, 0.13860158622264862, 0.9304983615875244, 0.2739269733428955, 0.23322297632694244, 0.14961473643779755, 0.16281604766845703, 0.18041777610778809, 0.8846547603607178, 0.11058184504508972, 0.06418377161026001, 0.06418377161026001, 0.06418377161026001, 0.8343890309333801, 0.026568111032247543, 0.026568111032247543, 0.8767476677894592, 0.026568111032247543, 0.026568111032247543, 0.5283639430999756, 0.13438157737255096, 0.164922833442688, 0.1252191960811615, 0.04886602610349655, 0.5225921273231506, 0.12169953435659409, 0.13601712882518768, 0.10738193988800049, 0.10738193988800049, 0.12940408289432526, 0.6254531145095825, 0.12401225417852402, 0.05931020900607109, 0.05931020900607109, 0.7518353462219238, 0.8641111850738525, 0.10801389813423157, 0.1235777884721756, 0.5418410897254944, 0.1425897479057312, 0.0712948739528656, 0.1235777884721756, 0.1003379374742508, 0.06689196079969406, 0.7692575454711914, 0.03344598039984703, 0.2711794078350067, 0.29389601945877075, 0.1590162068605423, 0.13771939277648926, 0.13913917541503906, 0.576215386390686, 0.01811998151242733, 0.15220783650875092, 0.23012375831604004, 0.025367973372340202, 0.05822022259235382, 0.05822022259235382, 0.05822022259235382, 0.05822022259235382, 0.7568628787994385, 0.2589946687221527, 0.15816468000411987, 0.3005128800868988, 0.16409584879875183, 0.11664644628763199, 0.01550675556063652, 0.01550675556063652, 0.01550675556063652, 0.961418867111206, 0.01550675556063652, 0.924802839756012, 0.7843858003616333, 0.06921051442623138, 0.02307017147541046, 0.11535085737705231, 0.02307017147541046, 0.9456504583358765, 0.06404560804367065, 0.03202280402183533, 0.1280912160873413, 0.7685472965240479, 0.03202280402183533, 0.27106139063835144, 0.1196577325463295, 0.3418792486190796, 0.10256377607584, 0.16361363232135773, 0.1963946372270584, 0.24070318043231964, 0.1736416071653366, 0.1628638505935669, 0.22633284330368042, 0.3914150893688202, 0.13988277316093445, 0.22201576828956604, 0.13795776665210724, 0.10844122618436813, 0.04248730465769768, 0.04248730465769768, 0.04248730465769768, 0.8922334313392639, 0.04248730465769768, 0.19579973816871643, 0.5314564108848572, 0.11188556253910065, 0.06992847472429276, 0.08950845152139664, 0.15059179067611694, 0.10666918754577637, 0.3890288174152374, 0.12549316883087158, 0.2258877009153366, 0.03354001045227051, 0.7714202404022217, 0.13416004180908203, 0.03354001045227051, 0.1522739678621292, 0.14618301391601562, 0.37459397315979004, 0.08222794532775879, 0.24668383598327637, 0.08372155576944351, 0.08372155576944351, 0.13699890673160553, 0.19027626514434814, 0.5099403858184814, 0.15374021232128143, 0.8199477791786194, 0.25858476758003235, 0.19599737226963043, 0.21658532321453094, 0.21082070469856262, 0.11858664453029633, 0.858833372592926, 0.10735417157411575, 0.879079282283783, 0.16739481687545776, 0.04431039094924927, 0.05908052250742912, 0.1624714434146881, 0.5661883354187012, 0.8909047842025757, 0.24200056493282318, 0.29553064703941345, 0.17397275567054749, 0.15389896929264069, 0.13494040071964264, 0.9622712731361389, 0.018868064507842064, 0.8704527616500854, 0.05440329760313034, 0.05440329760313034, 0.10754258930683136, 0.03072645515203476, 0.7118295431137085, 0.06657398492097855, 0.08705829083919525, 0.890296995639801, 0.25449979305267334, 0.2590042054653168, 0.1159888431429863, 0.2342299073934555, 0.13625873625278473, 0.18223464488983154, 0.7653855085372925, 0.018223464488983154, 0.018223464488983154, 0.23047029972076416, 0.1572117656469345, 0.2679016590118408, 0.16416330635547638, 0.1802053153514862, 0.8886016011238098, 0.03196408599615097, 0.0031964087393134832, 0.06712458282709122, 0.0063928174786269665, 0.04451358690857887, 0.9347853064537048, 0.04451358690857887, 0.2366979718208313, 0.06228893995285034, 0.26161354780197144, 0.03114446997642517, 0.41110700368881226, 0.03947695344686508, 0.9079698920249939, 0.03947695344686508, 0.8767971992492676, 0.021385299041867256, 0.021385299041867256, 0.021385299041867256, 0.04277059808373451, 0.7507994771003723, 0.7930682301521301, 0.1699431836605072, 0.889396071434021, 0.09362064301967621, 0.06901127099990845, 0.8971465229988098, 0.2655189037322998, 0.132492333650589, 0.19286182522773743, 0.33497053384780884, 0.07425981760025024, 0.9468279480934143, 0.539795458316803, 0.1318105161190033, 0.1129804402589798, 0.1380872130393982, 0.07845863699913025, 0.8876436352729797, 0.11095545440912247, 0.8789617419242859, 0.09766241908073425, 0.797943651676178, 0.07979436218738556, 0.3974956274032593, 0.07949912548065186, 0.0722719356417656, 0.4083364009857178, 0.04336315765976906, 0.44732123613357544, 0.11216816306114197, 0.2662304639816284, 0.09595108032226562, 0.07703115046024323, 0.04659096524119377, 0.37272772192955017, 0.01553032174706459, 0.5590915679931641, 0.22410878539085388, 0.2644762098789215, 0.25334036350250244, 0.09883058071136475, 0.15868571400642395, 0.8529887795448303, 0.08435297012329102, 0.27180400490760803, 0.01874510385096073, 0.13121572136878967, 0.4967452585697174, 0.9625470638275146, 0.01887347176671028, 0.5895110368728638, 0.14515598118305206, 0.08294627815485, 0.1184946820139885, 0.06517207622528076, 0.8906047344207764, 0.8911076188087463, 0.2391892969608307, 0.1532832831144333, 0.27793121337890625, 0.28298452496528625, 0.04379522427916527, 0.2562704384326935, 0.2456904798746109, 0.14459295570850372, 0.19631727039813995, 0.15634848177433014, 0.23411507904529572, 0.25254079699516296, 0.14957351982593536, 0.18642497062683105, 0.17883791029453278, 0.35322895646095276, 0.23636138439178467, 0.1654529720544815, 0.14312994480133057, 0.10242326557636261, 0.860245406627655, 0.10753067582845688, 0.015361525118350983, 0.015361525118350983, 0.18188515305519104, 0.02273564413189888, 0.02273564413189888, 0.7730119228363037, 0.20560504496097565, 0.2531704008579254, 0.13348984718322754, 0.2930639088153839, 0.1135430857539177, 0.48755642771720886, 0.1275147646665573, 0.08500983566045761, 0.1550179421901703, 0.14501678943634033, 0.057621050626039505, 0.0864315778017044, 0.1440526247024536, 0.028810525313019753, 0.6914526224136353, 0.2337893545627594, 0.5480635762214661, 0.06802886724472046, 0.08910823613405228, 0.06036364287137985, 0.016889071092009544, 0.050667211413383484, 0.9288988709449768, 0.24505069851875305, 0.12626340985298157, 0.2334211766719818, 0.22428369522094727, 0.17112015187740326, 0.23559151589870453, 0.22104883193969727, 0.15851528942584991, 0.18614639341831207, 0.1977805346250534, 0.11671657860279083, 0.5629858374595642, 0.061791129410266876, 0.10985089093446732, 0.15104497969150543, 0.8049309849739075, 0.29505887627601624, 0.23431146144866943, 0.14463670551776886, 0.13017302751541138, 0.19525954127311707, 0.2073056846857071, 0.4087717533111572, 0.09343354403972626, 0.16058890521526337, 0.13139092922210693, 0.7973026037216187, 0.7497337460517883, 0.09996449947357178, 0.07497337460517883, 0.024991124868392944, 0.024991124868392944, 0.8204082250595093], \"Term\": [\"absentee\", \"abut\", \"acoustic\", \"add\", \"add\", \"add\", \"add\", \"add\", \"agency\", \"agency\", \"agency\", \"agency\", \"agency\", \"alben\", \"amc\", \"amelia\", \"amelia\", \"american\", \"american\", \"american\", \"american\", \"american\", \"ancient\", \"ancient\", \"ancient\", \"ancient\", \"ancient\", \"andy\", \"andy\", \"andy\", \"andy\", \"andy\", \"archaeological\", \"archaeological\", \"archaeologist\", \"archaeologist\", \"archaeologist\", \"archaeologist\", \"archaeologist\", \"archaeology\", \"archive\", \"archive\", \"archive\", \"archive\", \"archive\", \"asylum\", \"asylum\", \"asylum\", \"asylum\", \"asylum\", \"atlantic\", \"atlantic\", \"atlantic\", \"atlantic\", \"atlantic\", \"aura\", \"austronesian\", \"back\", \"back\", \"back\", \"back\", \"back\", \"bader\", \"baldwin\", \"baldwin\", \"baldwin\", \"baldwin\", \"baldwin\", \"bandit\", \"bandit\", \"bandit\", \"barbaro\", \"barbaro\", \"barbaro\", \"barbaro\", \"barbaro\", \"become\", \"become\", \"become\", \"become\", \"become\", \"bedford\", \"bedford\", \"bedford\", \"bedford\", \"bedford\", \"bercow\", \"bercow\", \"bercow\", \"binoculars\", \"binoculars\", \"bird\", \"bird\", \"bird\", \"bird\", \"bird\", \"black\", \"black\", \"black\", \"black\", \"black\", \"book\", \"book\", \"book\", \"book\", \"book\", \"bookshelf\", \"border\", \"border\", \"border\", \"border\", \"border\", \"boseman\", \"botanist\", \"boy\", \"boy\", \"boy\", \"boy\", \"boy\", \"brief\", \"brief\", \"brief\", \"brief\", \"brief\", \"browser\", \"browser\", \"browser\", \"bulldozer\", \"bulldozer\", \"call\", \"call\", \"call\", \"call\", \"call\", \"calorie\", \"calorie\", \"calorie\", \"candle\", \"candle\", \"careless\", \"careless\", \"case\", \"case\", \"case\", \"case\", \"case\", \"catholic\", \"catholic\", \"catholic\", \"catholic\", \"catholic\", \"cello\", \"centro\", \"certification\", \"certification\", \"certification\", \"chadwick\", \"challa\", \"chaplain\", \"chaplain\", \"child\", \"child\", \"child\", \"child\", \"child\", \"chisholm\", \"chisholm\", \"choreography\", \"choreography\", \"chronic\", \"chronic\", \"chronic\", \"chronic\", \"city\", \"city\", \"city\", \"city\", \"city\", \"collapse\", \"collapse\", \"collapse\", \"collapse\", \"collapse\", \"come\", \"come\", \"come\", \"come\", \"come\", \"commercially\", \"community\", \"community\", \"community\", \"community\", \"community\", \"company\", \"company\", \"company\", \"company\", \"company\", \"conan\", \"conan\", \"conan\", \"contraception\", \"contraception\", \"conversion\", \"conversion\", \"conversion\", \"conversion\", \"conversion\", \"cosmic\", \"cosmic\", \"cosmic\", \"could\", \"could\", \"could\", \"could\", \"could\", \"country\", \"country\", \"country\", \"country\", \"country\", \"cozy\", \"cozy\", \"cozy\", \"cozy\", \"cozy\", \"creaminess\", \"credit\", \"credit\", \"credit\", \"credit\", \"credit\", \"crime\", \"crime\", \"crime\", \"crime\", \"crime\", \"cross\", \"cross\", \"cross\", \"cross\", \"cross\", \"dam\", \"dam\", \"dam\", \"dam\", \"dam\", \"darren\", \"darren\", \"database\", \"database\", \"database\", \"database\", \"database\", \"day\", \"day\", \"day\", \"day\", \"day\", \"del\", \"del\", \"del\", \"del\", \"del\", \"democrat\", \"democrat\", \"democrat\", \"democrat\", \"democrat\", \"democratic\", \"democratic\", \"democratic\", \"democratic\", \"democratic\", \"demographic\", \"demographic\", \"demographic\", \"demographic\", \"demonstrator\", \"densest\", \"dentate\", \"deprivation\", \"deripaska\", \"dickens\", \"dimensional\", \"dna\", \"dna\", \"dna\", \"dna\", \"dna\", \"doctor\", \"doctor\", \"doctor\", \"doctor\", \"doctor\", \"dr\", \"dr\", \"dr\", \"dr\", \"dr\", \"drug\", \"drug\", \"drug\", \"drug\", \"drug\", \"dublin\", \"dunn\", \"dunn\", \"dunn\", \"dyke\", \"dyke\", \"dyke\", \"earlier\", \"earlier\", \"earlier\", \"earlier\", \"earlier\", \"earth\", \"earth\", \"earth\", \"earth\", \"earth\", \"eclipse\", \"eclipse\", \"eclipse\", \"eighth\", \"eighth\", \"eighth\", \"el\", \"el\", \"el\", \"el\", \"el\", \"elizabeth\", \"elizabeth\", \"elizabeth\", \"elizabeth\", \"elizabeth\", \"embryo\", \"embryo\", \"emiratis\", \"end\", \"end\", \"end\", \"end\", \"end\", \"entry\", \"entry\", \"entry\", \"entry\", \"entry\", \"erie\", \"erie\", \"escapist\", \"european\", \"european\", \"european\", \"european\", \"european\", \"even\", \"even\", \"even\", \"even\", \"even\", \"exceedingly\", \"explorer\", \"explorer\", \"explorer\", \"explorer\", \"explorer\", \"ezra\", \"ezra\", \"farfan\", \"farfan\", \"federal\", \"federal\", \"federal\", \"federal\", \"federal\", \"feed\", \"feed\", \"feed\", \"feed\", \"feed\", \"find\", \"find\", \"find\", \"find\", \"find\", \"first\", \"first\", \"first\", \"first\", \"first\", \"fishnet\", \"flynn\", \"flynn\", \"flynn\", \"flynn\", \"flynn\", \"force\", \"force\", \"force\", \"force\", \"force\", \"fortnite\", \"fortnite\", \"fredericksburg\", \"garde\", \"garde\", \"garde\", \"garde\", \"gdansk\", \"gdansk\", \"genetic\", \"genetic\", \"genetic\", \"genetic\", \"genetic\", \"genomic\", \"gergel\", \"gergel\", \"gergel\", \"gergel\", \"get\", \"get\", \"get\", \"get\", \"get\", \"ghosn\", \"ghosn\", \"ghosn\", \"ghosn\", \"ghosn\", \"ginsburg\", \"ginsburg\", \"ginsburg\", \"glazer\", \"glazer\", \"glazer\", \"government\", \"government\", \"government\", \"government\", \"government\", \"grande\", \"grande\", \"grande\", \"grande\", \"grande\", \"group\", \"group\", \"group\", \"group\", \"group\", \"guild\", \"guild\", \"guild\", \"guild\", \"guinea\", \"guinea\", \"guinea\", \"guinea\", \"guinea\", \"guinean\", \"halep\", \"halep\", \"harris\", \"harris\", \"harris\", \"harris\", \"harris\", \"heroin\", \"heroin\", \"heroin\", \"heroin\", \"heroin\", \"heterogenous\", \"hi\", \"hi\", \"hi\", \"hi\", \"hi\", \"high\", \"high\", \"high\", \"high\", \"high\", \"home\", \"home\", \"home\", \"home\", \"home\", \"house\", \"house\", \"house\", \"house\", \"house\", \"hydrophones\", \"identity\", \"identity\", \"identity\", \"identity\", \"identity\", \"immigrant\", \"immigrant\", \"immigrant\", \"immigrant\", \"immigrant\", \"immigration\", \"immigration\", \"immigration\", \"immigration\", \"immigration\", \"immune\", \"immune\", \"immune\", \"immune\", \"immune\", \"inbound\", \"include\", \"include\", \"include\", \"include\", \"include\", \"incorporation\", \"indigenous\", \"indigenous\", \"indigenous\", \"indigenous\", \"indigenous\", \"innovation\", \"innovation\", \"innovation\", \"innovation\", \"innovation\", \"internet\", \"internet\", \"internet\", \"internet\", \"internet\", \"invention\", \"itunes\", \"jackie\", \"jackie\", \"jackie\", \"jackie\", \"jackie\", \"jenner\", \"jenner\", \"judge\", \"judge\", \"judge\", \"judge\", \"judge\", \"kaya\", \"kaya\", \"kelly\", \"kelly\", \"kelly\", \"kelly\", \"kelly\", \"killmonger\", \"know\", \"know\", \"know\", \"know\", \"know\", \"lapita\", \"lapita\", \"lapita\", \"lapita\", \"lapita\", \"laquan\", \"laquan\", \"last\", \"last\", \"last\", \"last\", \"last\", \"latitude\", \"latitude\", \"law\", \"law\", \"law\", \"law\", \"law\", \"lawn\", \"lawn\", \"leave\", \"leave\", \"leave\", \"leave\", \"leave\", \"library\", \"library\", \"library\", \"library\", \"library\", \"libya\", \"life\", \"life\", \"life\", \"life\", \"life\", \"lincoln\", \"lincoln\", \"lincoln\", \"lincoln\", \"lincoln\", \"look\", \"look\", \"look\", \"look\", \"look\", \"lori\", \"loudest\", \"mallory\", \"mallory\", \"mallory\", \"mallory\", \"man\", \"man\", \"man\", \"man\", \"man\", \"many\", \"many\", \"many\", \"many\", \"many\", \"march\", \"march\", \"march\", \"march\", \"march\", \"mascot\", \"mascot\", \"mascot\", \"mason\", \"mason\", \"mastercard\", \"mastercard\", \"maw\", \"maw\", \"mcgowan\", \"mcgowan\", \"medium\", \"medium\", \"medium\", \"medium\", \"medium\", \"member\", \"member\", \"member\", \"member\", \"member\", \"memoir\", \"memoir\", \"memoir\", \"memoir\", \"memoir\", \"memorial\", \"memorial\", \"memorial\", \"memorial\", \"memorial\", \"men\", \"men\", \"men\", \"men\", \"men\", \"merger\", \"merger\", \"methamphetamine\", \"methamphetamine\", \"methamphetamine\", \"mexican\", \"mexican\", \"mexican\", \"mexican\", \"mexican\", \"mexico\", \"mexico\", \"mexico\", \"mexico\", \"mexico\", \"michael\", \"michael\", \"michael\", \"michael\", \"michael\", \"migrant\", \"migrant\", \"migrant\", \"migrant\", \"migrant\", \"mile\", \"mile\", \"mile\", \"mile\", \"mile\", \"milken\", \"misinformation\", \"misinformation\", \"mister\", \"mister\", \"mister\", \"mister\", \"mnuchin\", \"mnuchin\", \"mnuchin\", \"mogul\", \"mogul\", \"month\", \"month\", \"month\", \"month\", \"month\", \"moon\", \"moon\", \"moon\", \"moon\", \"moon\", \"mouse\", \"mouse\", \"mouse\", \"mouse\", \"mud\", \"mud\", \"mud\", \"mud\", \"mud\", \"muhammad\", \"muhammad\", \"muhammad\", \"muhammad\", \"muhammad\", \"municipality\", \"municipality\", \"municipality\", \"municipality\", \"musk\", \"need\", \"need\", \"need\", \"need\", \"need\", \"negras\", \"negras\", \"negras\", \"negras\", \"neville\", \"neville\", \"new\", \"new\", \"new\", \"new\", \"new\", \"newark\", \"newark\", \"nomination\", \"nomination\", \"nomination\", \"nomination\", \"nomination\", \"nowacek\", \"nubbin\", \"nytimes\", \"nytimes\", \"nytimes\", \"nytimes\", \"nytimes\", \"oceania\", \"oceania\", \"officer\", \"officer\", \"officer\", \"officer\", \"officer\", \"official\", \"official\", \"official\", \"official\", \"official\", \"offshore\", \"offshore\", \"offshore\", \"offshore\", \"oleg\", \"oligarch\", \"oligarch\", \"oligarch\", \"oligarch\", \"oliver\", \"oliver\", \"oliver\", \"oliver\", \"oliver\", \"opioid\", \"opioid\", \"opioid\", \"overdose\", \"overdose\", \"overdose\", \"pain\", \"pain\", \"pain\", \"pain\", \"pain\", \"pakistani\", \"pakistani\", \"palestinian\", \"palestinian\", \"palestinian\", \"palestinian\", \"palestinian\", \"panther\", \"panther\", \"panther\", \"panther\", \"panther\", \"papua\", \"papua\", \"papua\", \"papua\", \"papuan\", \"pawn\", \"pawn\", \"pelosi\", \"pelosi\", \"pelosi\", \"pelosi\", \"pelosi\", \"people\", \"people\", \"people\", \"people\", \"people\", \"petrous\", \"phillips\", \"phillips\", \"phillips\", \"phillips\", \"phillips\", \"physic\", \"physic\", \"piedras\", \"piedras\", \"piedras\", \"piedras\", \"pinhasi\", \"playback\", \"playback\", \"playback\", \"playback\", \"playback\", \"pliskova\", \"pliskova\", \"police\", \"police\", \"police\", \"police\", \"police\", \"posthumously\", \"prehistory\", \"preordain\", \"preordain\", \"president\", \"president\", \"president\", \"president\", \"president\", \"pressurize\", \"procedural\", \"prune\", \"prune\", \"prune\", \"rashida\", \"rashida\", \"rashida\", \"rashida\", \"rbg\", \"rbg\", \"rbg\", \"ream\", \"ream\", \"ream\", \"record\", \"record\", \"record\", \"record\", \"record\", \"reddish\", \"reddish\", \"reddish\", \"reich\", \"reich\", \"reich\", \"report\", \"report\", \"report\", \"report\", \"report\", \"representative\", \"representative\", \"representative\", \"representative\", \"representative\", \"retract\", \"right\", \"right\", \"right\", \"right\", \"right\", \"rio\", \"rio\", \"rio\", \"rio\", \"rio\", \"rourke\", \"rourke\", \"rourke\", \"rourke\", \"rourke\", \"rub\", \"rub\", \"school\", \"school\", \"school\", \"school\", \"school\", \"seaboard\", \"see\", \"see\", \"see\", \"see\", \"see\", \"segregate\", \"segregate\", \"seismic\", \"seismic\", \"seismic\", \"seismic\", \"seizure\", \"seizure\", \"seizure\", \"seizure\", \"seizure\", \"senate\", \"senate\", \"senate\", \"senate\", \"senate\", \"service\", \"service\", \"service\", \"service\", \"service\", \"sexual\", \"sexual\", \"sexual\", \"sexual\", \"sexual\", \"shallot\", \"shiitake\", \"shiitake\", \"shoot\", \"shoot\", \"shoot\", \"shoot\", \"shoot\", \"shorthand\", \"shorthand\", \"shorthand\", \"shorthand\", \"show\", \"show\", \"show\", \"show\", \"show\", \"shutdown\", \"shutdown\", \"shutdown\", \"shutdown\", \"shutdown\", \"silt\", \"silt\", \"silt\", \"silt\", \"silt\", \"since\", \"since\", \"since\", \"since\", \"since\", \"skull\", \"skull\", \"skull\", \"skull\", \"skull\", \"snarl\", \"snub\", \"snub\", \"snub\", \"snub\", \"snub\", \"socialite\", \"southwest\", \"southwest\", \"southwest\", \"southwest\", \"southwest\", \"spend\", \"spend\", \"spend\", \"spend\", \"spend\", \"start\", \"start\", \"start\", \"start\", \"start\", \"state\", \"state\", \"state\", \"state\", \"state\", \"stuart\", \"stuart\", \"stuart\", \"stuart\", \"stuart\", \"student\", \"student\", \"student\", \"student\", \"student\", \"study\", \"study\", \"study\", \"study\", \"study\", \"superhero\", \"superhero\", \"superhero\", \"superhero\", \"system\", \"system\", \"system\", \"system\", \"system\", \"tail\", \"tail\", \"tail\", \"tail\", \"tail\", \"taitano\", \"taitano\", \"take\", \"take\", \"take\", \"take\", \"take\", \"takeoff\", \"takeoff\", \"tanker\", \"tax\", \"tax\", \"tax\", \"tax\", \"tax\", \"techno\", \"tell\", \"tell\", \"tell\", \"tell\", \"tell\", \"teouma\", \"teouma\", \"tesla\", \"tesla\", \"tesla\", \"texas\", \"texas\", \"texas\", \"texas\", \"texas\", \"thematic\", \"think\", \"think\", \"think\", \"think\", \"think\", \"tijuana\", \"tijuana\", \"tijuana\", \"tijuana\", \"time\", \"time\", \"time\", \"time\", \"time\", \"tlaib\", \"tlaib\", \"tlaib\", \"tlaib\", \"tlaib\", \"tonga\", \"tonga\", \"tonga\", \"total\", \"total\", \"total\", \"total\", \"total\", \"transplant\", \"transplant\", \"transplant\", \"treaty\", \"treaty\", \"treaty\", \"treaty\", \"treaty\", \"trepidation\", \"tricky\", \"tricky\", \"troll\", \"troll\", \"tropic\", \"tropic\", \"trump\", \"trump\", \"trump\", \"trump\", \"trump\", \"tucson\", \"tuesday\", \"tuesday\", \"tuesday\", \"tuesday\", \"tuesday\", \"umair\", \"umair\", \"unaccompanied\", \"unaccompanied\", \"undecided\", \"undecided\", \"union\", \"union\", \"union\", \"union\", \"union\", \"unite\", \"unite\", \"unite\", \"unite\", \"unite\", \"upgrade\", \"upgrade\", \"upgrade\", \"upgrade\", \"use\", \"use\", \"use\", \"use\", \"use\", \"utopian\", \"van\", \"van\", \"van\", \"van\", \"van\", \"vanuatu\", \"vanuatu\", \"vote\", \"vote\", \"vote\", \"vote\", \"vote\", \"vudu\", \"wakanda\", \"wall\", \"wall\", \"wall\", \"wall\", \"wall\", \"want\", \"want\", \"want\", \"want\", \"want\", \"way\", \"way\", \"way\", \"way\", \"way\", \"week\", \"week\", \"week\", \"week\", \"week\", \"weinstein\", \"weinstein\", \"weinstein\", \"weinstein\", \"whale\", \"whale\", \"whale\", \"whale\", \"white\", \"white\", \"white\", \"white\", \"white\", \"win\", \"win\", \"win\", \"win\", \"win\", \"wolf\", \"wolf\", \"wolf\", \"wolf\", \"wolf\", \"woman\", \"woman\", \"woman\", \"woman\", \"woman\", \"woodard\", \"woodard\", \"woodard\", \"work\", \"work\", \"work\", \"work\", \"work\", \"world\", \"world\", \"world\", \"world\", \"world\", \"writer\", \"writer\", \"writer\", \"writer\", \"writer\", \"yalitza\", \"york\", \"york\", \"york\", \"york\", \"york\", \"young\", \"young\", \"young\", \"young\", \"young\", \"yuma\", \"zealand\", \"zealand\", \"zealand\", \"zealand\", \"zealand\", \"\\u00e9migr\\u00e9\"]}, \"R\": 30, \"lambda.step\": 0.01, \"plot.opts\": {\"xlab\": \"PC1\", \"ylab\": \"PC2\"}, \"topic.order\": [5, 3, 1, 4, 2]};\n",
       "\n",
       "function LDAvis_load_lib(url, callback){\n",
       "  var s = document.createElement('script');\n",
       "  s.src = url;\n",
       "  s.async = true;\n",
       "  s.onreadystatechange = s.onload = callback;\n",
       "  s.onerror = function(){console.warn(\"failed to load library \" + url);};\n",
       "  document.getElementsByTagName(\"head\")[0].appendChild(s);\n",
       "}\n",
       "\n",
       "if(typeof(LDAvis) !== \"undefined\"){\n",
       "   // already loaded: just create the visualization\n",
       "   !function(LDAvis){\n",
       "       new LDAvis(\"#\" + \"ldavis_el25100112818073416250107552\", ldavis_el25100112818073416250107552_data);\n",
       "   }(LDAvis);\n",
       "}else if(typeof define === \"function\" && define.amd){\n",
       "   // require.js is available: use it to load d3/LDAvis\n",
       "   require.config({paths: {d3: \"https://cdnjs.cloudflare.com/ajax/libs/d3/3.5.5/d3.min\"}});\n",
       "   require([\"d3\"], function(d3){\n",
       "      window.d3 = d3;\n",
       "      LDAvis_load_lib(\"https://cdn.rawgit.com/bmabey/pyLDAvis/files/ldavis.v1.0.0.js\", function(){\n",
       "        new LDAvis(\"#\" + \"ldavis_el25100112818073416250107552\", ldavis_el25100112818073416250107552_data);\n",
       "      });\n",
       "    });\n",
       "}else{\n",
       "    // require.js not available: dynamically load d3 & LDAvis\n",
       "    LDAvis_load_lib(\"https://cdnjs.cloudflare.com/ajax/libs/d3/3.5.5/d3.min.js\", function(){\n",
       "         LDAvis_load_lib(\"https://cdn.rawgit.com/bmabey/pyLDAvis/files/ldavis.v1.0.0.js\", function(){\n",
       "                 new LDAvis(\"#\" + \"ldavis_el25100112818073416250107552\", ldavis_el25100112818073416250107552_data);\n",
       "            })\n",
       "         });\n",
       "}\n",
       "</script>"
      ],
      "text/plain": [
       "PreparedData(topic_coordinates=              x         y  topics  cluster       Freq\n",
       "topic                                                \n",
       "4      0.027367 -0.030381       1        1  26.641569\n",
       "2     -0.052177 -0.025864       2        1  21.053938\n",
       "0      0.028188  0.021551       3        1  18.699400\n",
       "3      0.017487 -0.010472       4        1  17.144545\n",
       "1     -0.020865  0.045167       5        1  16.460552, topic_info=      Category         Freq            Term        Total  loglift  logprob\n",
       "term                                                                      \n",
       "2695   Default   758.000000          border   758.000000  30.0000  30.0000\n",
       "346    Default  1043.000000           woman  1043.000000  29.0000  29.0000\n",
       "1826   Default  1871.000000           trump  1871.000000  28.0000  28.0000\n",
       "2784   Default   642.000000             dam   642.000000  27.0000  27.0000\n",
       "9745   Default   321.000000         rashida   321.000000  26.0000  26.0000\n",
       "9746   Default   312.000000           tlaib   312.000000  25.0000  25.0000\n",
       "3134   Default   444.000000          mexico   444.000000  24.0000  24.0000\n",
       "3282   Default   551.000000        shutdown   551.000000  23.0000  23.0000\n",
       "74     Default   620.000000          school   620.000000  22.0000  22.0000\n",
       "14152  Default   157.000000         eclipse   157.000000  21.0000  21.0000\n",
       "1786   Default   301.000000       elizabeth   301.000000  20.0000  20.0000\n",
       "1976   Default   181.000000            moon   181.000000  19.0000  19.0000\n",
       "3382   Default   195.000000           texas   195.000000  18.0000  18.0000\n",
       "639    Default   787.000000            life   787.000000  17.0000  17.0000\n",
       "18284  Default    84.000000          lapita    84.000000  16.0000  16.0000\n",
       "1108   Default   454.000000          police   454.000000  15.0000  15.0000\n",
       "1254   Default   248.000000        catholic   248.000000  14.0000  14.0000\n",
       "85     Default   203.000000             tax   203.000000  13.0000  13.0000\n",
       "667    Default  1870.000000            time  1870.000000  12.0000  12.0000\n",
       "1542   Default  1499.000000       president  1499.000000  11.0000  11.0000\n",
       "6543   Default   235.000000          pelosi   235.000000  10.0000  10.0000\n",
       "3342   Default   132.000000          asylum   132.000000   9.0000   9.0000\n",
       "9919   Default   137.000000        phillips   137.000000   8.0000   8.0000\n",
       "3841   Default    64.000000           skull    64.000000   7.0000   7.0000\n",
       "2325   Default   199.000000           brief   199.000000   6.0000   6.0000\n",
       "201    Default   332.000000              dr   332.000000   5.0000   5.0000\n",
       "3361   Default   219.000000         migrant   219.000000   4.0000   4.0000\n",
       "2688   Default   593.000000            wall   593.000000   3.0000   3.0000\n",
       "234    Default   823.000000           house   823.000000   2.0000   2.0000\n",
       "303    Default   398.000000  representative   398.000000   1.0000   1.0000\n",
       "...        ...          ...             ...          ...      ...      ...\n",
       "604     Topic5    65.717049           total   160.542145   0.9110  -6.9454\n",
       "667     Topic5   336.837006            time  1870.089111   0.0901  -5.3112\n",
       "26      Topic5   201.052994            find   862.751038   0.3476  -5.8272\n",
       "1684    Topic5    71.998360         earlier   186.327179   0.8533  -6.8541\n",
       "460     Topic5   189.292343           start   835.053345   0.3200  -5.8875\n",
       "110     Topic5   256.149170             get  1386.449341   0.1155  -5.5850\n",
       "739     Topic5   233.104050            know  1282.425171   0.0992  -5.6793\n",
       "116     Topic5   155.895447            look   688.304871   0.3192  -6.0816\n",
       "55      Topic5   289.813263             new  2019.298584  -0.1371  -5.4615\n",
       "181     Topic5   121.765099           child   453.032532   0.4903  -6.3287\n",
       "450     Topic5   173.906921           right   865.784912   0.1991  -5.9722\n",
       "174     Topic5   179.242950            call   923.863037   0.1644  -5.9420\n",
       "96      Topic5   176.301849            back   898.553101   0.1756  -5.9586\n",
       "475     Topic5   206.048325            work  1203.832520   0.0390  -5.8026\n",
       "15      Topic5   189.322021           could  1036.946655   0.1036  -5.8873\n",
       "1407    Topic5   159.112427            city   782.306824   0.2116  -6.0611\n",
       "633     Topic5   132.160767            home   560.447693   0.3595  -6.2467\n",
       "212     Topic5   193.153214           first  1208.287476  -0.0293  -5.8673\n",
       "503     Topic5   159.238846         company   835.374634   0.1467  -6.0603\n",
       "309     Topic5   163.776459             see   909.001343   0.0904  -6.0323\n",
       "670     Topic5   164.830750             way   922.623169   0.0819  -6.0258\n",
       "282     Topic5   212.824554          people  1935.469238  -0.4034  -5.7703\n",
       "448     Topic5   143.196426          record   785.462036   0.1021  -6.1665\n",
       "802     Topic5   135.922577           world   687.630859   0.1830  -6.2187\n",
       "1435    Topic5   135.452728            york   691.387451   0.1741  -6.2221\n",
       "316     Topic5   169.377319           state  1558.447876  -0.4151  -5.9986\n",
       "527     Topic5   143.250687            even   941.210022  -0.0784  -6.1662\n",
       "146     Topic5   144.494781            take  1214.302002  -0.3245  -6.1575\n",
       "337     Topic5   132.938095            want   850.663818  -0.0519  -6.2409\n",
       "1826    Topic5   139.194824           trump  1871.806396  -0.7946  -6.1949\n",
       "\n",
       "[468 rows x 6 columns], token_table=       Topic      Freq      Term\n",
       "term                            \n",
       "18656      1  0.817848  absentee\n",
       "12143      3  0.744519      abut\n",
       "12671      5  0.884433  acoustic\n",
       "804        1  0.446618       add\n",
       "804        2  0.182116       add\n",
       "804        3  0.186452       add\n",
       "804        4  0.071546       add\n",
       "804        5  0.110571       add\n",
       "1336       1  0.571103    agency\n",
       "1336       2  0.126274    agency\n",
       "1336       3  0.134884    agency\n",
       "1336       4  0.103315    agency\n",
       "1336       5  0.066007    agency\n",
       "18262      4  0.889773     alben\n",
       "13042      1  0.866809       amc\n",
       "351        1  0.126900    amelia\n",
       "351        5  0.888301    amelia\n",
       "156        1  0.277460  american\n",
       "156        2  0.302215  american\n",
       "156        3  0.160906  american\n",
       "156        4  0.123774  american\n",
       "156        5  0.135120  american\n",
       "1928       1  0.069003   ancient\n",
       "1928       2  0.055202   ancient\n",
       "1928       3  0.027601   ancient\n",
       "1928       4  0.745230   ancient\n",
       "1928       5  0.096604   ancient\n",
       "4988       1  0.720915      andy\n",
       "4988       2  0.131999      andy\n",
       "4988       3  0.020307      andy\n",
       "...      ...       ...       ...\n",
       "475        4  0.224284      work\n",
       "475        5  0.171120      work\n",
       "802        1  0.235592     world\n",
       "802        2  0.221049     world\n",
       "802        3  0.158515     world\n",
       "802        4  0.186146     world\n",
       "802        5  0.197781     world\n",
       "803        1  0.116717    writer\n",
       "803        2  0.562986    writer\n",
       "803        3  0.061791    writer\n",
       "803        4  0.109851    writer\n",
       "803        5  0.151045    writer\n",
       "18390      1  0.804931   yalitza\n",
       "1435       1  0.295059      york\n",
       "1435       2  0.234311      york\n",
       "1435       3  0.144637      york\n",
       "1435       4  0.130173      york\n",
       "1435       5  0.195260      york\n",
       "1008       1  0.207306     young\n",
       "1008       2  0.408772     young\n",
       "1008       3  0.093434     young\n",
       "1008       4  0.160589     young\n",
       "1008       5  0.131391     young\n",
       "19897      3  0.797303      yuma\n",
       "6930       1  0.749734   zealand\n",
       "6930       2  0.099964   zealand\n",
       "6930       3  0.074973   zealand\n",
       "6930       4  0.024991   zealand\n",
       "6930       5  0.024991   zealand\n",
       "4502       5  0.820408    émigré\n",
       "\n",
       "[1267 rows x 3 columns], R=30, lambda_step=0.01, plot_opts={'xlab': 'PC1', 'ylab': 'PC2'}, topic_order=[5, 3, 1, 4, 2])"
      ]
     },
     "execution_count": 135,
     "metadata": {},
     "output_type": "execute_result"
    }
   ],
   "source": [
    "pyLDAvis.enable_notebook()\n",
    "vis = pyLDAvis.gensim.prepare(lda_model, corpus, dictionary)\n",
    "vis"
   ]
  },
  {
   "cell_type": "code",
   "execution_count": 139,
   "metadata": {},
   "outputs": [],
   "source": [
    "pyLDAvis.save_html(vis, 'topics.html')"
   ]
  },
  {
   "cell_type": "code",
   "execution_count": 140,
   "metadata": {},
   "outputs": [],
   "source": [
    "lda_topics = lda_model.show_topics(num_topics)\n",
    "lda_topics_words = [\"\".join([c if c.isalpha() else \" \" for c in topic[1]]).split() for topic in lda_topics]\n",
    "lda_topics_disp = [(\"topic \"+str(i)+\": \")+\" \".join(topic) for i,topic in enumerate(lda_topics_words)]\n",
    "lda_topics_disp\n",
    "pickle.dump(lda_topics_disp,open('pub_lda_bow_topics.pkl','wb'))"
   ]
  },
  {
   "cell_type": "code",
   "execution_count": 141,
   "metadata": {},
   "outputs": [
    {
     "data": {
      "text/plain": [
       "2434"
      ]
     },
     "execution_count": 141,
     "metadata": {},
     "output_type": "execute_result"
    }
   ],
   "source": [
    "len(corpus)"
   ]
  },
  {
   "cell_type": "code",
   "execution_count": 142,
   "metadata": {},
   "outputs": [
    {
     "name": "stdout",
     "output_type": "stream",
     "text": [
      "2434 2434\n"
     ]
    },
    {
     "data": {
      "text/plain": [
       "[[(1, 0.44804087), (2, 0.5470154)],\n",
       " [(3, 0.5804074), (4, 0.41045392)],\n",
       " [(0, 0.34920666), (1, 0.029351428), (2, 0.23813823), (4, 0.38269305)],\n",
       " [(0, 0.01712639), (1, 0.835523), (2, 0.12352091), (3, 0.022716986)],\n",
       " [(2, 0.1943974), (4, 0.8026157)],\n",
       " [(0, 0.30985105), (1, 0.09895173), (2, 0.35787174), (3, 0.22902173)],\n",
       " [(1, 0.01872882), (2, 0.9444361), (3, 0.035068505)],\n",
       " [(0, 0.9497779), (1, 0.04082474)],\n",
       " [(1, 0.99301815)],\n",
       " [(1, 0.35039237), (3, 0.06428124), (4, 0.581815)]]"
      ]
     },
     "execution_count": 142,
     "metadata": {},
     "output_type": "execute_result"
    }
   ],
   "source": [
    "# the corpus lists for each article a list of tuples, where the first element is a topic and the second is the \n",
    "# the  probability of that article falling in that topic\n",
    "\n",
    "#checking the number of articles \n",
    "print(len(list(lda_model[corpus])), a.shape[0])\n",
    "\n",
    "#Looking at the corpus\n",
    "list(lda_model[corpus])[:10]"
   ]
  },
  {
   "cell_type": "code",
   "execution_count": 143,
   "metadata": {},
   "outputs": [],
   "source": [
    "# For each article  pick the topic with the highest probabiliy\n",
    "\n",
    "topic = []\n",
    "count = []\n",
    "for i, r in enumerate(lda_model[corpus]):\n",
    "    sorted_by_second = sorted(r, key=lambda tup: tup[1], reverse = True)\n",
    "    count.append(len(r))\n",
    "    topic.append(r[0][0])\n",
    "   "
   ]
  },
  {
   "cell_type": "code",
   "execution_count": 144,
   "metadata": {},
   "outputs": [
    {
     "data": {
      "text/plain": [
       "[1, 3, 0, 0, 2, 0, 1]"
      ]
     },
     "execution_count": 144,
     "metadata": {},
     "output_type": "execute_result"
    }
   ],
   "source": [
    "topic[:7]"
   ]
  },
  {
   "cell_type": "code",
   "execution_count": 145,
   "metadata": {},
   "outputs": [],
   "source": [
    "#adding the topic and the count columns\n",
    "\n",
    "a['topic'] = topic\n",
    "a['count'] = count"
   ]
  },
  {
   "cell_type": "code",
   "execution_count": 146,
   "metadata": {
    "scrolled": true
   },
   "outputs": [
    {
     "data": {
      "text/plain": [
       "array([1, 3, 0, 2, 4])"
      ]
     },
     "execution_count": 146,
     "metadata": {},
     "output_type": "execute_result"
    }
   ],
   "source": [
    "a.topic.unique()"
   ]
  },
  {
   "cell_type": "code",
   "execution_count": 154,
   "metadata": {},
   "outputs": [
    {
     "data": {
      "text/plain": [
       "(2434, 10)"
      ]
     },
     "execution_count": 154,
     "metadata": {},
     "output_type": "execute_result"
    }
   ],
   "source": [
    "a.shape"
   ]
  },
  {
   "cell_type": "code",
   "execution_count": 152,
   "metadata": {},
   "outputs": [
    {
     "data": {
      "text/html": [
       "<div>\n",
       "<style scoped>\n",
       "    .dataframe tbody tr th:only-of-type {\n",
       "        vertical-align: middle;\n",
       "    }\n",
       "\n",
       "    .dataframe tbody tr th {\n",
       "        vertical-align: top;\n",
       "    }\n",
       "\n",
       "    .dataframe thead th {\n",
       "        text-align: right;\n",
       "    }\n",
       "</style>\n",
       "<table border=\"1\" class=\"dataframe\">\n",
       "  <thead>\n",
       "    <tr style=\"text-align: right;\">\n",
       "      <th></th>\n",
       "      <th>tweet_id</th>\n",
       "      <th>text</th>\n",
       "      <th>top_image</th>\n",
       "      <th>title</th>\n",
       "      <th>authors</th>\n",
       "      <th>summary</th>\n",
       "      <th>keywords</th>\n",
       "      <th>cleaned_text</th>\n",
       "      <th>topic</th>\n",
       "      <th>count</th>\n",
       "    </tr>\n",
       "  </thead>\n",
       "  <tbody>\n",
       "    <tr>\n",
       "      <th>0</th>\n",
       "      <td>1097372619848986625</td>\n",
       "      <td>A kindergarten boy’s behavior could predict hi...</td>\n",
       "      <td>https://static01.nyt.com/images/2016/09/14/wel...</td>\n",
       "      <td>Behavior at Age 6 May Predict Adult Income</td>\n",
       "      <td>['Nicholas Bakalar']</td>\n",
       "      <td>A kindergarten boy’s behavior could predict hi...</td>\n",
       "      <td>['boys', 'income', 'inattention', 'age', 'beha...</td>\n",
       "      <td>[kindergarten, boy, behavior, could, predict, ...</td>\n",
       "      <td>1</td>\n",
       "      <td>2</td>\n",
       "    </tr>\n",
       "    <tr>\n",
       "      <th>1</th>\n",
       "      <td>1097368941842837506</td>\n",
       "      <td>In more than 14 years of roaming Mars, NASA’s ...</td>\n",
       "      <td>https://static01.nyt.com/images/2019/02/15/sci...</td>\n",
       "      <td>Photos From the Opportunity Rover’s Mission on...</td>\n",
       "      <td>['Kenneth Chang']</td>\n",
       "      <td>In more than 14 years of roaming Mars, NASA’s ...</td>\n",
       "      <td>['mission', 'rovers', 'mars', 'opportunity', '...</td>\n",
       "      <td>[roam, mar, nasa, opportunity, rover, take, pi...</td>\n",
       "      <td>3</td>\n",
       "      <td>2</td>\n",
       "    </tr>\n",
       "    <tr>\n",
       "      <th>2</th>\n",
       "      <td>1097364848890007552</td>\n",
       "      <td>Studies show that at a normal body weight — ge...</td>\n",
       "      <td>https://static01.nyt.com/images/2019/02/19/wel...</td>\n",
       "      <td>Why Do South Asians Have Such High Rates of He...</td>\n",
       "      <td>['Anahad O Connor']</td>\n",
       "      <td>Heart risks tended to be greatest in South Asi...</td>\n",
       "      <td>['masala', 'disease', 'rates', 'high', 'health...</td>\n",
       "      <td>[study, show, normal, body, weight, generally,...</td>\n",
       "      <td>0</td>\n",
       "      <td>4</td>\n",
       "    </tr>\n",
       "    <tr>\n",
       "      <th>3</th>\n",
       "      <td>1097359831034486785</td>\n",
       "      <td>For Elisa, interviewing Hays has been a frustr...</td>\n",
       "      <td>https://static01.nyt.com/images/2019/02/18/art...</td>\n",
       "      <td>‘True Detective’ Season 3, Episode 7: Missing ...</td>\n",
       "      <td>['Scott Tobias']</td>\n",
       "      <td>The one-eyed man whom they had originally ques...</td>\n",
       "      <td>['true', 'discover', 'missing', 'lucy', '1990'...</td>\n",
       "      <td>[elisa, interview, hay, frustrate, act, excava...</td>\n",
       "      <td>0</td>\n",
       "      <td>4</td>\n",
       "    </tr>\n",
       "    <tr>\n",
       "      <th>4</th>\n",
       "      <td>1097355297138581507</td>\n",
       "      <td>The hiring went off like a sonic boom in Holly...</td>\n",
       "      <td>https://static01.nyt.com/images/2019/02/18/bus...</td>\n",
       "      <td>In Bid to Conquer Oscars, Netflix Mobilizes Sa...</td>\n",
       "      <td>['Brooks Barnes']</td>\n",
       "      <td>“Awards Landscape Rocked as Netflix Poaches Le...</td>\n",
       "      <td>['savvy', 'studios', 'conquer', 'roma', 'holly...</td>\n",
       "      <td>[hire, sonic, boom, hollywood, reverberate, hi...</td>\n",
       "      <td>2</td>\n",
       "      <td>2</td>\n",
       "    </tr>\n",
       "  </tbody>\n",
       "</table>\n",
       "</div>"
      ],
      "text/plain": [
       "              tweet_id                                               text  \\\n",
       "0  1097372619848986625  A kindergarten boy’s behavior could predict hi...   \n",
       "1  1097368941842837506  In more than 14 years of roaming Mars, NASA’s ...   \n",
       "2  1097364848890007552  Studies show that at a normal body weight — ge...   \n",
       "3  1097359831034486785  For Elisa, interviewing Hays has been a frustr...   \n",
       "4  1097355297138581507  The hiring went off like a sonic boom in Holly...   \n",
       "\n",
       "                                           top_image  \\\n",
       "0  https://static01.nyt.com/images/2016/09/14/wel...   \n",
       "1  https://static01.nyt.com/images/2019/02/15/sci...   \n",
       "2  https://static01.nyt.com/images/2019/02/19/wel...   \n",
       "3  https://static01.nyt.com/images/2019/02/18/art...   \n",
       "4  https://static01.nyt.com/images/2019/02/18/bus...   \n",
       "\n",
       "                                               title               authors  \\\n",
       "0         Behavior at Age 6 May Predict Adult Income  ['Nicholas Bakalar']   \n",
       "1  Photos From the Opportunity Rover’s Mission on...     ['Kenneth Chang']   \n",
       "2  Why Do South Asians Have Such High Rates of He...   ['Anahad O Connor']   \n",
       "3  ‘True Detective’ Season 3, Episode 7: Missing ...      ['Scott Tobias']   \n",
       "4  In Bid to Conquer Oscars, Netflix Mobilizes Sa...     ['Brooks Barnes']   \n",
       "\n",
       "                                             summary  \\\n",
       "0  A kindergarten boy’s behavior could predict hi...   \n",
       "1  In more than 14 years of roaming Mars, NASA’s ...   \n",
       "2  Heart risks tended to be greatest in South Asi...   \n",
       "3  The one-eyed man whom they had originally ques...   \n",
       "4  “Awards Landscape Rocked as Netflix Poaches Le...   \n",
       "\n",
       "                                            keywords  \\\n",
       "0  ['boys', 'income', 'inattention', 'age', 'beha...   \n",
       "1  ['mission', 'rovers', 'mars', 'opportunity', '...   \n",
       "2  ['masala', 'disease', 'rates', 'high', 'health...   \n",
       "3  ['true', 'discover', 'missing', 'lucy', '1990'...   \n",
       "4  ['savvy', 'studios', 'conquer', 'roma', 'holly...   \n",
       "\n",
       "                                        cleaned_text  topic  count  \n",
       "0  [kindergarten, boy, behavior, could, predict, ...      1      2  \n",
       "1  [roam, mar, nasa, opportunity, rover, take, pi...      3      2  \n",
       "2  [study, show, normal, body, weight, generally,...      0      4  \n",
       "3  [elisa, interview, hay, frustrate, act, excava...      0      4  \n",
       "4  [hire, sonic, boom, hollywood, reverberate, hi...      2      2  "
      ]
     },
     "execution_count": 152,
     "metadata": {},
     "output_type": "execute_result"
    }
   ],
   "source": [
    "a.head()"
   ]
  },
  {
   "cell_type": "code",
   "execution_count": 112,
   "metadata": {
    "scrolled": false
   },
   "outputs": [
    {
     "name": "stdout",
     "output_type": "stream",
     "text": [
      "(2434, 9)\n"
     ]
    },
    {
     "data": {
      "text/html": [
       "<div>\n",
       "<style scoped>\n",
       "    .dataframe tbody tr th:only-of-type {\n",
       "        vertical-align: middle;\n",
       "    }\n",
       "\n",
       "    .dataframe tbody tr th {\n",
       "        vertical-align: top;\n",
       "    }\n",
       "\n",
       "    .dataframe thead th {\n",
       "        text-align: right;\n",
       "    }\n",
       "</style>\n",
       "<table border=\"1\" class=\"dataframe\">\n",
       "  <thead>\n",
       "    <tr style=\"text-align: right;\">\n",
       "      <th></th>\n",
       "      <th>tweet_id</th>\n",
       "      <th>text</th>\n",
       "      <th>top_image</th>\n",
       "      <th>title</th>\n",
       "      <th>authors</th>\n",
       "      <th>summary</th>\n",
       "      <th>keywords</th>\n",
       "      <th>cleaned_text</th>\n",
       "      <th>topic</th>\n",
       "    </tr>\n",
       "  </thead>\n",
       "  <tbody>\n",
       "    <tr>\n",
       "      <th>0</th>\n",
       "      <td>1097372619848986625</td>\n",
       "      <td>A kindergarten boy’s behavior could predict hi...</td>\n",
       "      <td>https://static01.nyt.com/images/2016/09/14/wel...</td>\n",
       "      <td>Behavior at Age 6 May Predict Adult Income</td>\n",
       "      <td>['Nicholas Bakalar']</td>\n",
       "      <td>A kindergarten boy’s behavior could predict hi...</td>\n",
       "      <td>['boys', 'income', 'inattention', 'age', 'beha...</td>\n",
       "      <td>[kindergarten, boy, behavior, could, predict, ...</td>\n",
       "      <td>0</td>\n",
       "    </tr>\n",
       "    <tr>\n",
       "      <th>1</th>\n",
       "      <td>1097368941842837506</td>\n",
       "      <td>In more than 14 years of roaming Mars, NASA’s ...</td>\n",
       "      <td>https://static01.nyt.com/images/2019/02/15/sci...</td>\n",
       "      <td>Photos From the Opportunity Rover’s Mission on...</td>\n",
       "      <td>['Kenneth Chang']</td>\n",
       "      <td>In more than 14 years of roaming Mars, NASA’s ...</td>\n",
       "      <td>['mission', 'rovers', 'mars', 'opportunity', '...</td>\n",
       "      <td>[roam, mar, nasa, opportunity, rover, take, pi...</td>\n",
       "      <td>0</td>\n",
       "    </tr>\n",
       "    <tr>\n",
       "      <th>2</th>\n",
       "      <td>1097364848890007552</td>\n",
       "      <td>Studies show that at a normal body weight — ge...</td>\n",
       "      <td>https://static01.nyt.com/images/2019/02/19/wel...</td>\n",
       "      <td>Why Do South Asians Have Such High Rates of He...</td>\n",
       "      <td>['Anahad O Connor']</td>\n",
       "      <td>Heart risks tended to be greatest in South Asi...</td>\n",
       "      <td>['masala', 'disease', 'rates', 'high', 'health...</td>\n",
       "      <td>[study, show, normal, body, weight, generally,...</td>\n",
       "      <td>0</td>\n",
       "    </tr>\n",
       "    <tr>\n",
       "      <th>3</th>\n",
       "      <td>1097359831034486785</td>\n",
       "      <td>For Elisa, interviewing Hays has been a frustr...</td>\n",
       "      <td>https://static01.nyt.com/images/2019/02/18/art...</td>\n",
       "      <td>‘True Detective’ Season 3, Episode 7: Missing ...</td>\n",
       "      <td>['Scott Tobias']</td>\n",
       "      <td>The one-eyed man whom they had originally ques...</td>\n",
       "      <td>['true', 'discover', 'missing', 'lucy', '1990'...</td>\n",
       "      <td>[elisa, interview, hay, frustrate, act, excava...</td>\n",
       "      <td>0</td>\n",
       "    </tr>\n",
       "    <tr>\n",
       "      <th>4</th>\n",
       "      <td>1097355297138581507</td>\n",
       "      <td>The hiring went off like a sonic boom in Holly...</td>\n",
       "      <td>https://static01.nyt.com/images/2019/02/18/bus...</td>\n",
       "      <td>In Bid to Conquer Oscars, Netflix Mobilizes Sa...</td>\n",
       "      <td>['Brooks Barnes']</td>\n",
       "      <td>“Awards Landscape Rocked as Netflix Poaches Le...</td>\n",
       "      <td>['savvy', 'studios', 'conquer', 'roma', 'holly...</td>\n",
       "      <td>[hire, sonic, boom, hollywood, reverberate, hi...</td>\n",
       "      <td>1</td>\n",
       "    </tr>\n",
       "  </tbody>\n",
       "</table>\n",
       "</div>"
      ],
      "text/plain": [
       "              tweet_id                                               text  \\\n",
       "0  1097372619848986625  A kindergarten boy’s behavior could predict hi...   \n",
       "1  1097368941842837506  In more than 14 years of roaming Mars, NASA’s ...   \n",
       "2  1097364848890007552  Studies show that at a normal body weight — ge...   \n",
       "3  1097359831034486785  For Elisa, interviewing Hays has been a frustr...   \n",
       "4  1097355297138581507  The hiring went off like a sonic boom in Holly...   \n",
       "\n",
       "                                           top_image  \\\n",
       "0  https://static01.nyt.com/images/2016/09/14/wel...   \n",
       "1  https://static01.nyt.com/images/2019/02/15/sci...   \n",
       "2  https://static01.nyt.com/images/2019/02/19/wel...   \n",
       "3  https://static01.nyt.com/images/2019/02/18/art...   \n",
       "4  https://static01.nyt.com/images/2019/02/18/bus...   \n",
       "\n",
       "                                               title               authors  \\\n",
       "0         Behavior at Age 6 May Predict Adult Income  ['Nicholas Bakalar']   \n",
       "1  Photos From the Opportunity Rover’s Mission on...     ['Kenneth Chang']   \n",
       "2  Why Do South Asians Have Such High Rates of He...   ['Anahad O Connor']   \n",
       "3  ‘True Detective’ Season 3, Episode 7: Missing ...      ['Scott Tobias']   \n",
       "4  In Bid to Conquer Oscars, Netflix Mobilizes Sa...     ['Brooks Barnes']   \n",
       "\n",
       "                                             summary  \\\n",
       "0  A kindergarten boy’s behavior could predict hi...   \n",
       "1  In more than 14 years of roaming Mars, NASA’s ...   \n",
       "2  Heart risks tended to be greatest in South Asi...   \n",
       "3  The one-eyed man whom they had originally ques...   \n",
       "4  “Awards Landscape Rocked as Netflix Poaches Le...   \n",
       "\n",
       "                                            keywords  \\\n",
       "0  ['boys', 'income', 'inattention', 'age', 'beha...   \n",
       "1  ['mission', 'rovers', 'mars', 'opportunity', '...   \n",
       "2  ['masala', 'disease', 'rates', 'high', 'health...   \n",
       "3  ['true', 'discover', 'missing', 'lucy', '1990'...   \n",
       "4  ['savvy', 'studios', 'conquer', 'roma', 'holly...   \n",
       "\n",
       "                                        cleaned_text  topic  \n",
       "0  [kindergarten, boy, behavior, could, predict, ...      0  \n",
       "1  [roam, mar, nasa, opportunity, rover, take, pi...      0  \n",
       "2  [study, show, normal, body, weight, generally,...      0  \n",
       "3  [elisa, interview, hay, frustrate, act, excava...      0  \n",
       "4  [hire, sonic, boom, hollywood, reverberate, hi...      1  "
      ]
     },
     "execution_count": 112,
     "metadata": {},
     "output_type": "execute_result"
    }
   ],
   "source": [
    "a = pd.merge(a, art, how = 'outer', on = ['tweet_id'])\n",
    "print(a1.shape)\n",
    "a.head()"
   ]
  },
  {
   "cell_type": "code",
   "execution_count": 153,
   "metadata": {},
   "outputs": [],
   "source": [
    "a.to_csv('../data_collection/data/art_info_w_topic.csv')"
   ]
  },
  {
   "cell_type": "code",
   "execution_count": 155,
   "metadata": {
    "scrolled": false
   },
   "outputs": [
    {
     "data": {
      "text/plain": [
       "Text(0.5,1,'Articles in Topic')"
      ]
     },
     "execution_count": 155,
     "metadata": {},
     "output_type": "execute_result"
    },
    {
     "data": {
      "image/png": "[encoded data removed]",
      "text/plain": [
       "<Figure size 360x360 with 1 Axes>"
      ]
     },
     "metadata": {
      "needs_background": "light"
     },
     "output_type": "display_data"
    }
   ],
   "source": [
    "import seaborn as sns\n",
    "import matplotlib.pyplot as plt\n",
    "figure = plt.figure(figsize = (5, 5))\n",
    "sns.set(style=\"darkgrid\")\n",
    "\n",
    "ax = sns.countplot(x='topic', data=a)\n",
    "plt.title('Articles in Topic')"
   ]
  },
  {
   "cell_type": "code",
   "execution_count": 156,
   "metadata": {},
   "outputs": [],
   "source": [
    "figure.savefig('../media/art_in_topic.png')"
   ]
  },
  {
   "cell_type": "code",
   "execution_count": 157,
   "metadata": {
    "scrolled": true
   },
   "outputs": [
    {
     "data": {
      "text/plain": [
       "['for_exploration.ipynb',\n",
       " 'art_topic_distribution.csv',\n",
       " 'user_tweet_pair.csv',\n",
       " '.DS_Store',\n",
       " 'user_tweet_topic.csv',\n",
       " 'art_info_w_topic.csv',\n",
       " 'art_info1.csv',\n",
       " 'unique_user_topic_distribution.csv',\n",
       " 'user_tweet.gexf',\n",
       " 'nytposts_readyforarticle.csv',\n",
       " '.ipynb_checkpoints',\n",
       " 'user_topic.gexf',\n",
       " 'unique_users.csv',\n",
       " 'user_topic100.gexf']"
      ]
     },
     "execution_count": 157,
     "metadata": {},
     "output_type": "execute_result"
    }
   ],
   "source": [
    "os.listdir('../data_collection/data')"
   ]
  },
  {
   "cell_type": "code",
   "execution_count": null,
   "metadata": {},
   "outputs": [],
   "source": []
  },
  {
   "cell_type": "code",
   "execution_count": 158,
   "metadata": {
    "scrolled": false
   },
   "outputs": [
    {
     "name": "stdout",
     "output_type": "stream",
     "text": [
      "(157747, 5)\n"
     ]
    },
    {
     "data": {
      "text/html": [
       "<div>\n",
       "<style scoped>\n",
       "    .dataframe tbody tr th:only-of-type {\n",
       "        vertical-align: middle;\n",
       "    }\n",
       "\n",
       "    .dataframe tbody tr th {\n",
       "        vertical-align: top;\n",
       "    }\n",
       "\n",
       "    .dataframe thead th {\n",
       "        text-align: right;\n",
       "    }\n",
       "</style>\n",
       "<table border=\"1\" class=\"dataframe\">\n",
       "  <thead>\n",
       "    <tr style=\"text-align: right;\">\n",
       "      <th></th>\n",
       "      <th>Unnamed: 0</th>\n",
       "      <th>user_id</th>\n",
       "      <th>screen_name</th>\n",
       "      <th>location</th>\n",
       "      <th>tweet_id</th>\n",
       "    </tr>\n",
       "  </thead>\n",
       "  <tbody>\n",
       "    <tr>\n",
       "      <th>0</th>\n",
       "      <td>0</td>\n",
       "      <td>55651793</td>\n",
       "      <td>JSullivanIII</td>\n",
       "      <td>Queens, NYC</td>\n",
       "      <td>1097372619848986625</td>\n",
       "    </tr>\n",
       "    <tr>\n",
       "      <th>1</th>\n",
       "      <td>1</td>\n",
       "      <td>191972027</td>\n",
       "      <td>ojessen</td>\n",
       "      <td>Kiel</td>\n",
       "      <td>1097372619848986625</td>\n",
       "    </tr>\n",
       "    <tr>\n",
       "      <th>2</th>\n",
       "      <td>2</td>\n",
       "      <td>22681390</td>\n",
       "      <td>leehlawrence</td>\n",
       "      <td>NaN</td>\n",
       "      <td>1097372619848986625</td>\n",
       "    </tr>\n",
       "    <tr>\n",
       "      <th>3</th>\n",
       "      <td>3</td>\n",
       "      <td>897359310308622336</td>\n",
       "      <td>enaliyuddin</td>\n",
       "      <td>Yogyakarta, Indonesia</td>\n",
       "      <td>1097372619848986625</td>\n",
       "    </tr>\n",
       "    <tr>\n",
       "      <th>4</th>\n",
       "      <td>4</td>\n",
       "      <td>4141824748</td>\n",
       "      <td>eleftheria20464</td>\n",
       "      <td>NaN</td>\n",
       "      <td>1097372619848986625</td>\n",
       "    </tr>\n",
       "  </tbody>\n",
       "</table>\n",
       "</div>"
      ],
      "text/plain": [
       "   Unnamed: 0             user_id      screen_name               location  \\\n",
       "0           0            55651793     JSullivanIII            Queens, NYC   \n",
       "1           1           191972027          ojessen                   Kiel   \n",
       "2           2            22681390     leehlawrence                    NaN   \n",
       "3           3  897359310308622336      enaliyuddin  Yogyakarta, Indonesia   \n",
       "4           4          4141824748  eleftheria20464                    NaN   \n",
       "\n",
       "              tweet_id  \n",
       "0  1097372619848986625  \n",
       "1  1097372619848986625  \n",
       "2  1097372619848986625  \n",
       "3  1097372619848986625  \n",
       "4  1097372619848986625  "
      ]
     },
     "execution_count": 158,
     "metadata": {},
     "output_type": "execute_result"
    }
   ],
   "source": [
    "r = pd.read_csv('../data_collection/data/user_tweet_pair.csv')\n",
    "print(r.shape)\n",
    "r.head()"
   ]
  },
  {
   "cell_type": "code",
   "execution_count": 159,
   "metadata": {},
   "outputs": [],
   "source": [
    "r = r.drop(['Unnamed: 0'], axis=1)\n"
   ]
  },
  {
   "cell_type": "code",
   "execution_count": 160,
   "metadata": {},
   "outputs": [
    {
     "data": {
      "text/html": [
       "<div>\n",
       "<style scoped>\n",
       "    .dataframe tbody tr th:only-of-type {\n",
       "        vertical-align: middle;\n",
       "    }\n",
       "\n",
       "    .dataframe tbody tr th {\n",
       "        vertical-align: top;\n",
       "    }\n",
       "\n",
       "    .dataframe thead th {\n",
       "        text-align: right;\n",
       "    }\n",
       "</style>\n",
       "<table border=\"1\" class=\"dataframe\">\n",
       "  <thead>\n",
       "    <tr style=\"text-align: right;\">\n",
       "      <th></th>\n",
       "      <th>tweet_id</th>\n",
       "      <th>topic</th>\n",
       "    </tr>\n",
       "  </thead>\n",
       "  <tbody>\n",
       "  </tbody>\n",
       "</table>\n",
       "</div>"
      ],
      "text/plain": [
       "Empty DataFrame\n",
       "Columns: [tweet_id, topic]\n",
       "Index: []"
      ]
     },
     "execution_count": 160,
     "metadata": {},
     "output_type": "execute_result"
    }
   ],
   "source": [
    "#creating a topic and tweet_id dataframe\n",
    "art = pd.DataFrame(columns = ['tweet_id', 'topic'])\n",
    "art.head()"
   ]
  },
  {
   "cell_type": "code",
   "execution_count": 161,
   "metadata": {
    "scrolled": false
   },
   "outputs": [
    {
     "data": {
      "text/html": [
       "<div>\n",
       "<style scoped>\n",
       "    .dataframe tbody tr th:only-of-type {\n",
       "        vertical-align: middle;\n",
       "    }\n",
       "\n",
       "    .dataframe tbody tr th {\n",
       "        vertical-align: top;\n",
       "    }\n",
       "\n",
       "    .dataframe thead th {\n",
       "        text-align: right;\n",
       "    }\n",
       "</style>\n",
       "<table border=\"1\" class=\"dataframe\">\n",
       "  <thead>\n",
       "    <tr style=\"text-align: right;\">\n",
       "      <th></th>\n",
       "      <th>tweet_id</th>\n",
       "      <th>topic</th>\n",
       "    </tr>\n",
       "  </thead>\n",
       "  <tbody>\n",
       "    <tr>\n",
       "      <th>0</th>\n",
       "      <td>1097372619848986625</td>\n",
       "      <td>1</td>\n",
       "    </tr>\n",
       "    <tr>\n",
       "      <th>1</th>\n",
       "      <td>1097368941842837506</td>\n",
       "      <td>3</td>\n",
       "    </tr>\n",
       "    <tr>\n",
       "      <th>2</th>\n",
       "      <td>1097364848890007552</td>\n",
       "      <td>0</td>\n",
       "    </tr>\n",
       "    <tr>\n",
       "      <th>3</th>\n",
       "      <td>1097359831034486785</td>\n",
       "      <td>0</td>\n",
       "    </tr>\n",
       "    <tr>\n",
       "      <th>4</th>\n",
       "      <td>1097355297138581507</td>\n",
       "      <td>2</td>\n",
       "    </tr>\n",
       "  </tbody>\n",
       "</table>\n",
       "</div>"
      ],
      "text/plain": [
       "              tweet_id  topic\n",
       "0  1097372619848986625      1\n",
       "1  1097368941842837506      3\n",
       "2  1097364848890007552      0\n",
       "3  1097359831034486785      0\n",
       "4  1097355297138581507      2"
      ]
     },
     "execution_count": 161,
     "metadata": {},
     "output_type": "execute_result"
    }
   ],
   "source": [
    "art['tweet_id'] = a.tweet_id\n",
    "art['topic'] = a.topic\n",
    "art.head()"
   ]
  },
  {
   "cell_type": "code",
   "execution_count": 162,
   "metadata": {
    "scrolled": true
   },
   "outputs": [
    {
     "name": "stdout",
     "output_type": "stream",
     "text": [
      "(157747, 5)\n"
     ]
    },
    {
     "data": {
      "text/html": [
       "<div>\n",
       "<style scoped>\n",
       "    .dataframe tbody tr th:only-of-type {\n",
       "        vertical-align: middle;\n",
       "    }\n",
       "\n",
       "    .dataframe tbody tr th {\n",
       "        vertical-align: top;\n",
       "    }\n",
       "\n",
       "    .dataframe thead th {\n",
       "        text-align: right;\n",
       "    }\n",
       "</style>\n",
       "<table border=\"1\" class=\"dataframe\">\n",
       "  <thead>\n",
       "    <tr style=\"text-align: right;\">\n",
       "      <th></th>\n",
       "      <th>user_id</th>\n",
       "      <th>screen_name</th>\n",
       "      <th>location</th>\n",
       "      <th>tweet_id</th>\n",
       "      <th>topic</th>\n",
       "    </tr>\n",
       "  </thead>\n",
       "  <tbody>\n",
       "    <tr>\n",
       "      <th>0</th>\n",
       "      <td>55651793</td>\n",
       "      <td>JSullivanIII</td>\n",
       "      <td>Queens, NYC</td>\n",
       "      <td>1097372619848986625</td>\n",
       "      <td>1</td>\n",
       "    </tr>\n",
       "    <tr>\n",
       "      <th>1</th>\n",
       "      <td>191972027</td>\n",
       "      <td>ojessen</td>\n",
       "      <td>Kiel</td>\n",
       "      <td>1097372619848986625</td>\n",
       "      <td>1</td>\n",
       "    </tr>\n",
       "    <tr>\n",
       "      <th>2</th>\n",
       "      <td>22681390</td>\n",
       "      <td>leehlawrence</td>\n",
       "      <td>NaN</td>\n",
       "      <td>1097372619848986625</td>\n",
       "      <td>1</td>\n",
       "    </tr>\n",
       "    <tr>\n",
       "      <th>3</th>\n",
       "      <td>897359310308622336</td>\n",
       "      <td>enaliyuddin</td>\n",
       "      <td>Yogyakarta, Indonesia</td>\n",
       "      <td>1097372619848986625</td>\n",
       "      <td>1</td>\n",
       "    </tr>\n",
       "    <tr>\n",
       "      <th>4</th>\n",
       "      <td>4141824748</td>\n",
       "      <td>eleftheria20464</td>\n",
       "      <td>NaN</td>\n",
       "      <td>1097372619848986625</td>\n",
       "      <td>1</td>\n",
       "    </tr>\n",
       "  </tbody>\n",
       "</table>\n",
       "</div>"
      ],
      "text/plain": [
       "              user_id      screen_name               location  \\\n",
       "0            55651793     JSullivanIII            Queens, NYC   \n",
       "1           191972027          ojessen                   Kiel   \n",
       "2            22681390     leehlawrence                    NaN   \n",
       "3  897359310308622336      enaliyuddin  Yogyakarta, Indonesia   \n",
       "4          4141824748  eleftheria20464                    NaN   \n",
       "\n",
       "              tweet_id  topic  \n",
       "0  1097372619848986625      1  \n",
       "1  1097372619848986625      1  \n",
       "2  1097372619848986625      1  \n",
       "3  1097372619848986625      1  \n",
       "4  1097372619848986625      1  "
      ]
     },
     "execution_count": 162,
     "metadata": {},
     "output_type": "execute_result"
    }
   ],
   "source": [
    "r2= pd.merge(r, art, how = 'outer', on = ['tweet_id'] )\n",
    "print(r2.shape)\n",
    "r2.head()"
   ]
  },
  {
   "cell_type": "code",
   "execution_count": 164,
   "metadata": {},
   "outputs": [
    {
     "data": {
      "text/html": [
       "<div>\n",
       "<style scoped>\n",
       "    .dataframe tbody tr th:only-of-type {\n",
       "        vertical-align: middle;\n",
       "    }\n",
       "\n",
       "    .dataframe tbody tr th {\n",
       "        vertical-align: top;\n",
       "    }\n",
       "\n",
       "    .dataframe thead th {\n",
       "        text-align: right;\n",
       "    }\n",
       "</style>\n",
       "<table border=\"1\" class=\"dataframe\">\n",
       "  <thead>\n",
       "    <tr style=\"text-align: right;\">\n",
       "      <th></th>\n",
       "      <th>user_id</th>\n",
       "      <th>screen_name</th>\n",
       "      <th>location</th>\n",
       "      <th>tweet_id</th>\n",
       "      <th>topic</th>\n",
       "      <th>rating</th>\n",
       "    </tr>\n",
       "  </thead>\n",
       "  <tbody>\n",
       "    <tr>\n",
       "      <th>0</th>\n",
       "      <td>55651793</td>\n",
       "      <td>JSullivanIII</td>\n",
       "      <td>Queens, NYC</td>\n",
       "      <td>1097372619848986625</td>\n",
       "      <td>1</td>\n",
       "      <td>1.0</td>\n",
       "    </tr>\n",
       "    <tr>\n",
       "      <th>1</th>\n",
       "      <td>191972027</td>\n",
       "      <td>ojessen</td>\n",
       "      <td>Kiel</td>\n",
       "      <td>1097372619848986625</td>\n",
       "      <td>1</td>\n",
       "      <td>1.0</td>\n",
       "    </tr>\n",
       "    <tr>\n",
       "      <th>2</th>\n",
       "      <td>22681390</td>\n",
       "      <td>leehlawrence</td>\n",
       "      <td>NaN</td>\n",
       "      <td>1097372619848986625</td>\n",
       "      <td>1</td>\n",
       "      <td>1.0</td>\n",
       "    </tr>\n",
       "    <tr>\n",
       "      <th>3</th>\n",
       "      <td>897359310308622336</td>\n",
       "      <td>enaliyuddin</td>\n",
       "      <td>Yogyakarta, Indonesia</td>\n",
       "      <td>1097372619848986625</td>\n",
       "      <td>1</td>\n",
       "      <td>1.0</td>\n",
       "    </tr>\n",
       "    <tr>\n",
       "      <th>4</th>\n",
       "      <td>4141824748</td>\n",
       "      <td>eleftheria20464</td>\n",
       "      <td>NaN</td>\n",
       "      <td>1097372619848986625</td>\n",
       "      <td>1</td>\n",
       "      <td>1.0</td>\n",
       "    </tr>\n",
       "  </tbody>\n",
       "</table>\n",
       "</div>"
      ],
      "text/plain": [
       "              user_id      screen_name               location  \\\n",
       "0            55651793     JSullivanIII            Queens, NYC   \n",
       "1           191972027          ojessen                   Kiel   \n",
       "2            22681390     leehlawrence                    NaN   \n",
       "3  897359310308622336      enaliyuddin  Yogyakarta, Indonesia   \n",
       "4          4141824748  eleftheria20464                    NaN   \n",
       "\n",
       "              tweet_id  topic  rating  \n",
       "0  1097372619848986625      1     1.0  \n",
       "1  1097372619848986625      1     1.0  \n",
       "2  1097372619848986625      1     1.0  \n",
       "3  1097372619848986625      1     1.0  \n",
       "4  1097372619848986625      1     1.0  "
      ]
     },
     "execution_count": 164,
     "metadata": {},
     "output_type": "execute_result"
    }
   ],
   "source": [
    "r2['rating'] = np.ones(r2.shape[0])\n",
    "# r2.drop(['Unnamed: 0'], axis=1, inplace =True)\n",
    "r2.head()"
   ]
  },
  {
   "cell_type": "code",
   "execution_count": 165,
   "metadata": {},
   "outputs": [
    {
     "name": "stdout",
     "output_type": "stream",
     "text": [
      "(157747, 6)\n"
     ]
    },
    {
     "data": {
      "text/html": [
       "<div>\n",
       "<style scoped>\n",
       "    .dataframe tbody tr th:only-of-type {\n",
       "        vertical-align: middle;\n",
       "    }\n",
       "\n",
       "    .dataframe tbody tr th {\n",
       "        vertical-align: top;\n",
       "    }\n",
       "\n",
       "    .dataframe thead th {\n",
       "        text-align: right;\n",
       "    }\n",
       "</style>\n",
       "<table border=\"1\" class=\"dataframe\">\n",
       "  <thead>\n",
       "    <tr style=\"text-align: right;\">\n",
       "      <th></th>\n",
       "      <th>user_id</th>\n",
       "      <th>screen_name</th>\n",
       "      <th>location</th>\n",
       "      <th>tweet_id</th>\n",
       "      <th>topic</th>\n",
       "      <th>rating</th>\n",
       "    </tr>\n",
       "  </thead>\n",
       "  <tbody>\n",
       "    <tr>\n",
       "      <th>0</th>\n",
       "      <td>55651793</td>\n",
       "      <td>JSullivanIII</td>\n",
       "      <td>Queens, NYC</td>\n",
       "      <td>1097372619848986625</td>\n",
       "      <td>1</td>\n",
       "      <td>1.0</td>\n",
       "    </tr>\n",
       "    <tr>\n",
       "      <th>1</th>\n",
       "      <td>191972027</td>\n",
       "      <td>ojessen</td>\n",
       "      <td>Kiel</td>\n",
       "      <td>1097372619848986625</td>\n",
       "      <td>1</td>\n",
       "      <td>1.0</td>\n",
       "    </tr>\n",
       "  </tbody>\n",
       "</table>\n",
       "</div>"
      ],
      "text/plain": [
       "     user_id   screen_name     location             tweet_id  topic  rating\n",
       "0   55651793  JSullivanIII  Queens, NYC  1097372619848986625      1     1.0\n",
       "1  191972027       ojessen         Kiel  1097372619848986625      1     1.0"
      ]
     },
     "execution_count": 165,
     "metadata": {},
     "output_type": "execute_result"
    }
   ],
   "source": [
    "print(r2.shape)\n",
    "r2.head(2)"
   ]
  },
  {
   "cell_type": "code",
   "execution_count": 166,
   "metadata": {},
   "outputs": [
    {
     "data": {
      "text/plain": [
       "Text(0.5,1,'Aggregate retweets in Topic')"
      ]
     },
     "execution_count": 166,
     "metadata": {},
     "output_type": "execute_result"
    },
    {
     "data": {
      "image/png": "[encoded data removed]",
      "text/plain": [
       "<Figure size 360x360 with 1 Axes>"
      ]
     },
     "metadata": {},
     "output_type": "display_data"
    }
   ],
   "source": [
    "\n",
    "import seaborn as sns\n",
    "import matplotlib.pyplot as plt\n",
    "figure = plt.figure(figsize = (5, 5))\n",
    "sns.set(style=\"darkgrid\")\n",
    "\n",
    "ax = sns.countplot(x='topic', data=r2)\n",
    "plt.title('Aggregate retweets in Topic')"
   ]
  },
  {
   "cell_type": "code",
   "execution_count": 167,
   "metadata": {},
   "outputs": [],
   "source": [
    "figure.savefig('../media/agg_retweet_topic.png')"
   ]
  },
  {
   "cell_type": "code",
   "execution_count": 168,
   "metadata": {},
   "outputs": [],
   "source": [
    "r2.to_csv('../data_collection/data/user_tweet_topic.csv')"
   ]
  },
  {
   "cell_type": "code",
   "execution_count": 170,
   "metadata": {},
   "outputs": [],
   "source": [
    "#counting the number of articles a user has retweeted under each topic\n",
    "D = {}\n",
    "for i in range(r2.shape[0]): \n",
    "    topic = r2.topic[i]\n",
    "    user = r2.user_id[i]\n",
    "    \n",
    "    if not user in D: \n",
    "        D[user] = {0:0, 1:0, 2:0, 3:0, 4:0} \n",
    "        D[user][topic] += 1\n",
    "    else: \n",
    "        D[user][topic] += 1\n",
    "        "
   ]
  },
  {
   "cell_type": "code",
   "execution_count": 171,
   "metadata": {
    "scrolled": true
   },
   "outputs": [
    {
     "data": {
      "text/html": [
       "<div>\n",
       "<style scoped>\n",
       "    .dataframe tbody tr th:only-of-type {\n",
       "        vertical-align: middle;\n",
       "    }\n",
       "\n",
       "    .dataframe tbody tr th {\n",
       "        vertical-align: top;\n",
       "    }\n",
       "\n",
       "    .dataframe thead th {\n",
       "        text-align: right;\n",
       "    }\n",
       "</style>\n",
       "<table border=\"1\" class=\"dataframe\">\n",
       "  <thead>\n",
       "    <tr style=\"text-align: right;\">\n",
       "      <th></th>\n",
       "      <th>index</th>\n",
       "      <th>0</th>\n",
       "      <th>1</th>\n",
       "      <th>2</th>\n",
       "      <th>3</th>\n",
       "      <th>4</th>\n",
       "    </tr>\n",
       "  </thead>\n",
       "  <tbody>\n",
       "    <tr>\n",
       "      <th>0</th>\n",
       "      <td>55651793</td>\n",
       "      <td>7</td>\n",
       "      <td>5</td>\n",
       "      <td>2</td>\n",
       "      <td>3</td>\n",
       "      <td>1</td>\n",
       "    </tr>\n",
       "    <tr>\n",
       "      <th>1</th>\n",
       "      <td>191972027</td>\n",
       "      <td>4</td>\n",
       "      <td>2</td>\n",
       "      <td>1</td>\n",
       "      <td>0</td>\n",
       "      <td>1</td>\n",
       "    </tr>\n",
       "    <tr>\n",
       "      <th>2</th>\n",
       "      <td>22681390</td>\n",
       "      <td>1</td>\n",
       "      <td>1</td>\n",
       "      <td>1</td>\n",
       "      <td>1</td>\n",
       "      <td>0</td>\n",
       "    </tr>\n",
       "    <tr>\n",
       "      <th>3</th>\n",
       "      <td>897359310308622336</td>\n",
       "      <td>1</td>\n",
       "      <td>1</td>\n",
       "      <td>0</td>\n",
       "      <td>0</td>\n",
       "      <td>0</td>\n",
       "    </tr>\n",
       "    <tr>\n",
       "      <th>4</th>\n",
       "      <td>4141824748</td>\n",
       "      <td>35</td>\n",
       "      <td>17</td>\n",
       "      <td>9</td>\n",
       "      <td>7</td>\n",
       "      <td>4</td>\n",
       "    </tr>\n",
       "  </tbody>\n",
       "</table>\n",
       "</div>"
      ],
      "text/plain": [
       "                index   0   1  2  3  4\n",
       "0            55651793   7   5  2  3  1\n",
       "1           191972027   4   2  1  0  1\n",
       "2            22681390   1   1  1  1  0\n",
       "3  897359310308622336   1   1  0  0  0\n",
       "4          4141824748  35  17  9  7  4"
      ]
     },
     "execution_count": 171,
     "metadata": {},
     "output_type": "execute_result"
    }
   ],
   "source": [
    "#creating the data frame for the topic count for each user\n",
    "r3 = pd.DataFrame(D).T\n",
    "r3.reset_index(inplace = True)\n",
    "r3.head()"
   ]
  },
  {
   "cell_type": "code",
   "execution_count": 172,
   "metadata": {},
   "outputs": [
    {
     "data": {
      "text/html": [
       "<div>\n",
       "<style scoped>\n",
       "    .dataframe tbody tr th:only-of-type {\n",
       "        vertical-align: middle;\n",
       "    }\n",
       "\n",
       "    .dataframe tbody tr th {\n",
       "        vertical-align: top;\n",
       "    }\n",
       "\n",
       "    .dataframe thead th {\n",
       "        text-align: right;\n",
       "    }\n",
       "</style>\n",
       "<table border=\"1\" class=\"dataframe\">\n",
       "  <thead>\n",
       "    <tr style=\"text-align: right;\">\n",
       "      <th></th>\n",
       "      <th>user_id</th>\n",
       "      <th>0</th>\n",
       "      <th>1</th>\n",
       "      <th>2</th>\n",
       "      <th>3</th>\n",
       "      <th>4</th>\n",
       "    </tr>\n",
       "  </thead>\n",
       "  <tbody>\n",
       "    <tr>\n",
       "      <th>0</th>\n",
       "      <td>55651793</td>\n",
       "      <td>7</td>\n",
       "      <td>5</td>\n",
       "      <td>2</td>\n",
       "      <td>3</td>\n",
       "      <td>1</td>\n",
       "    </tr>\n",
       "    <tr>\n",
       "      <th>1</th>\n",
       "      <td>191972027</td>\n",
       "      <td>4</td>\n",
       "      <td>2</td>\n",
       "      <td>1</td>\n",
       "      <td>0</td>\n",
       "      <td>1</td>\n",
       "    </tr>\n",
       "  </tbody>\n",
       "</table>\n",
       "</div>"
      ],
      "text/plain": [
       "     user_id  0  1  2  3  4\n",
       "0   55651793  7  5  2  3  1\n",
       "1  191972027  4  2  1  0  1"
      ]
     },
     "execution_count": 172,
     "metadata": {},
     "output_type": "execute_result"
    }
   ],
   "source": [
    "r3.rename(columns={'index': 'user_id'}, inplace = True)\n",
    "r3.head(2)"
   ]
  },
  {
   "cell_type": "code",
   "execution_count": 173,
   "metadata": {
    "scrolled": true
   },
   "outputs": [
    {
     "data": {
      "text/html": [
       "<div>\n",
       "<style scoped>\n",
       "    .dataframe tbody tr th:only-of-type {\n",
       "        vertical-align: middle;\n",
       "    }\n",
       "\n",
       "    .dataframe tbody tr th {\n",
       "        vertical-align: top;\n",
       "    }\n",
       "\n",
       "    .dataframe thead th {\n",
       "        text-align: right;\n",
       "    }\n",
       "</style>\n",
       "<table border=\"1\" class=\"dataframe\">\n",
       "  <thead>\n",
       "    <tr style=\"text-align: right;\">\n",
       "      <th></th>\n",
       "      <th>user_id</th>\n",
       "      <th>screen_name</th>\n",
       "      <th>location</th>\n",
       "      <th>retweet_list</th>\n",
       "      <th>retweet_count</th>\n",
       "    </tr>\n",
       "  </thead>\n",
       "  <tbody>\n",
       "    <tr>\n",
       "      <th>0</th>\n",
       "      <td>55651793</td>\n",
       "      <td>['JSullivanIII']</td>\n",
       "      <td>['Queens, NYC']</td>\n",
       "      <td>[1097372619848986625, 1096157615225212933, 109...</td>\n",
       "      <td>18</td>\n",
       "    </tr>\n",
       "    <tr>\n",
       "      <th>1</th>\n",
       "      <td>191972027</td>\n",
       "      <td>['ojessen']</td>\n",
       "      <td>['Kiel']</td>\n",
       "      <td>[1097372619848986625, 1096696739128578048, 109...</td>\n",
       "      <td>8</td>\n",
       "    </tr>\n",
       "  </tbody>\n",
       "</table>\n",
       "</div>"
      ],
      "text/plain": [
       "     user_id       screen_name         location  \\\n",
       "0   55651793  ['JSullivanIII']  ['Queens, NYC']   \n",
       "1  191972027       ['ojessen']         ['Kiel']   \n",
       "\n",
       "                                        retweet_list  retweet_count  \n",
       "0  [1097372619848986625, 1096157615225212933, 109...             18  \n",
       "1  [1097372619848986625, 1096696739128578048, 109...              8  "
      ]
     },
     "execution_count": 173,
     "metadata": {},
     "output_type": "execute_result"
    }
   ],
   "source": [
    "unique_users =  pd.read_csv('../data_collection/data/unique_users.csv')\n",
    "unique_users.drop('Unnamed: 0', axis =1 , inplace =True)\n",
    "unique_users.head(2)"
   ]
  },
  {
   "cell_type": "code",
   "execution_count": 174,
   "metadata": {
    "scrolled": true
   },
   "outputs": [
    {
     "data": {
      "text/plain": [
       "((76913, 6), (76913, 5))"
      ]
     },
     "execution_count": 174,
     "metadata": {},
     "output_type": "execute_result"
    }
   ],
   "source": [
    "r3.shape, unique_users.shape"
   ]
  },
  {
   "cell_type": "code",
   "execution_count": 175,
   "metadata": {},
   "outputs": [
    {
     "name": "stdout",
     "output_type": "stream",
     "text": [
      "(76913, 10)\n"
     ]
    },
    {
     "data": {
      "text/html": [
       "<div>\n",
       "<style scoped>\n",
       "    .dataframe tbody tr th:only-of-type {\n",
       "        vertical-align: middle;\n",
       "    }\n",
       "\n",
       "    .dataframe tbody tr th {\n",
       "        vertical-align: top;\n",
       "    }\n",
       "\n",
       "    .dataframe thead th {\n",
       "        text-align: right;\n",
       "    }\n",
       "</style>\n",
       "<table border=\"1\" class=\"dataframe\">\n",
       "  <thead>\n",
       "    <tr style=\"text-align: right;\">\n",
       "      <th></th>\n",
       "      <th>user_id</th>\n",
       "      <th>screen_name</th>\n",
       "      <th>location</th>\n",
       "      <th>retweet_list</th>\n",
       "      <th>retweet_count</th>\n",
       "      <th>0</th>\n",
       "      <th>1</th>\n",
       "      <th>2</th>\n",
       "      <th>3</th>\n",
       "      <th>4</th>\n",
       "    </tr>\n",
       "  </thead>\n",
       "  <tbody>\n",
       "    <tr>\n",
       "      <th>0</th>\n",
       "      <td>55651793</td>\n",
       "      <td>['JSullivanIII']</td>\n",
       "      <td>['Queens, NYC']</td>\n",
       "      <td>[1097372619848986625, 1096157615225212933, 109...</td>\n",
       "      <td>18</td>\n",
       "      <td>7</td>\n",
       "      <td>5</td>\n",
       "      <td>2</td>\n",
       "      <td>3</td>\n",
       "      <td>1</td>\n",
       "    </tr>\n",
       "    <tr>\n",
       "      <th>1</th>\n",
       "      <td>191972027</td>\n",
       "      <td>['ojessen']</td>\n",
       "      <td>['Kiel']</td>\n",
       "      <td>[1097372619848986625, 1096696739128578048, 109...</td>\n",
       "      <td>8</td>\n",
       "      <td>4</td>\n",
       "      <td>2</td>\n",
       "      <td>1</td>\n",
       "      <td>0</td>\n",
       "      <td>1</td>\n",
       "    </tr>\n",
       "  </tbody>\n",
       "</table>\n",
       "</div>"
      ],
      "text/plain": [
       "     user_id       screen_name         location  \\\n",
       "0   55651793  ['JSullivanIII']  ['Queens, NYC']   \n",
       "1  191972027       ['ojessen']         ['Kiel']   \n",
       "\n",
       "                                        retweet_list  retweet_count  0  1  2  \\\n",
       "0  [1097372619848986625, 1096157615225212933, 109...             18  7  5  2   \n",
       "1  [1097372619848986625, 1096696739128578048, 109...              8  4  2  1   \n",
       "\n",
       "   3  4  \n",
       "0  3  1  \n",
       "1  0  1  "
      ]
     },
     "execution_count": 175,
     "metadata": {},
     "output_type": "execute_result"
    }
   ],
   "source": [
    "#Merging the topic distribution for each user with the unique users dataframe\n",
    "r4 = pd.merge(unique_users, r3, how = 'inner', on = ['user_id'] )\n",
    "print(r4.shape)\n",
    "r4.head(2)"
   ]
  },
  {
   "cell_type": "code",
   "execution_count": 176,
   "metadata": {},
   "outputs": [],
   "source": [
    "# r4.to_csv('../data_collection/data/unique_user_topic_distribution.csv')"
   ]
  },
  {
   "cell_type": "code",
   "execution_count": 177,
   "metadata": {
    "scrolled": true
   },
   "outputs": [
    {
     "data": {
      "text/html": [
       "<div>\n",
       "<style scoped>\n",
       "    .dataframe tbody tr th:only-of-type {\n",
       "        vertical-align: middle;\n",
       "    }\n",
       "\n",
       "    .dataframe tbody tr th {\n",
       "        vertical-align: top;\n",
       "    }\n",
       "\n",
       "    .dataframe thead th {\n",
       "        text-align: right;\n",
       "    }\n",
       "</style>\n",
       "<table border=\"1\" class=\"dataframe\">\n",
       "  <thead>\n",
       "    <tr style=\"text-align: right;\">\n",
       "      <th></th>\n",
       "      <th>user_id</th>\n",
       "      <th>screen_name</th>\n",
       "      <th>location</th>\n",
       "      <th>tweet_id</th>\n",
       "      <th>topic</th>\n",
       "      <th>rating</th>\n",
       "    </tr>\n",
       "  </thead>\n",
       "  <tbody>\n",
       "    <tr>\n",
       "      <th>0</th>\n",
       "      <td>55651793</td>\n",
       "      <td>JSullivanIII</td>\n",
       "      <td>Queens, NYC</td>\n",
       "      <td>1097372619848986625</td>\n",
       "      <td>1</td>\n",
       "      <td>1.0</td>\n",
       "    </tr>\n",
       "    <tr>\n",
       "      <th>1</th>\n",
       "      <td>191972027</td>\n",
       "      <td>ojessen</td>\n",
       "      <td>Kiel</td>\n",
       "      <td>1097372619848986625</td>\n",
       "      <td>1</td>\n",
       "      <td>1.0</td>\n",
       "    </tr>\n",
       "  </tbody>\n",
       "</table>\n",
       "</div>"
      ],
      "text/plain": [
       "     user_id   screen_name     location             tweet_id  topic  rating\n",
       "0   55651793  JSullivanIII  Queens, NYC  1097372619848986625      1     1.0\n",
       "1  191972027       ojessen         Kiel  1097372619848986625      1     1.0"
      ]
     },
     "execution_count": 177,
     "metadata": {},
     "output_type": "execute_result"
    }
   ],
   "source": [
    "r2.head(2)"
   ]
  },
  {
   "cell_type": "code",
   "execution_count": 178,
   "metadata": {},
   "outputs": [
    {
     "data": {
      "text/html": [
       "<div>\n",
       "<style scoped>\n",
       "    .dataframe tbody tr th:only-of-type {\n",
       "        vertical-align: middle;\n",
       "    }\n",
       "\n",
       "    .dataframe tbody tr th {\n",
       "        vertical-align: top;\n",
       "    }\n",
       "\n",
       "    .dataframe thead th {\n",
       "        text-align: right;\n",
       "    }\n",
       "</style>\n",
       "<table border=\"1\" class=\"dataframe\">\n",
       "  <thead>\n",
       "    <tr style=\"text-align: right;\">\n",
       "      <th></th>\n",
       "      <th>tweet_id</th>\n",
       "      <th>text</th>\n",
       "      <th>top_image</th>\n",
       "      <th>title</th>\n",
       "      <th>authors</th>\n",
       "      <th>summary</th>\n",
       "      <th>keywords</th>\n",
       "      <th>cleaned_text</th>\n",
       "      <th>topic</th>\n",
       "      <th>count</th>\n",
       "    </tr>\n",
       "  </thead>\n",
       "  <tbody>\n",
       "    <tr>\n",
       "      <th>0</th>\n",
       "      <td>1097372619848986625</td>\n",
       "      <td>A kindergarten boy’s behavior could predict hi...</td>\n",
       "      <td>https://static01.nyt.com/images/2016/09/14/wel...</td>\n",
       "      <td>Behavior at Age 6 May Predict Adult Income</td>\n",
       "      <td>['Nicholas Bakalar']</td>\n",
       "      <td>A kindergarten boy’s behavior could predict hi...</td>\n",
       "      <td>['boys', 'income', 'inattention', 'age', 'beha...</td>\n",
       "      <td>[kindergarten, boy, behavior, could, predict, ...</td>\n",
       "      <td>1</td>\n",
       "      <td>2</td>\n",
       "    </tr>\n",
       "    <tr>\n",
       "      <th>1</th>\n",
       "      <td>1097368941842837506</td>\n",
       "      <td>In more than 14 years of roaming Mars, NASA’s ...</td>\n",
       "      <td>https://static01.nyt.com/images/2019/02/15/sci...</td>\n",
       "      <td>Photos From the Opportunity Rover’s Mission on...</td>\n",
       "      <td>['Kenneth Chang']</td>\n",
       "      <td>In more than 14 years of roaming Mars, NASA’s ...</td>\n",
       "      <td>['mission', 'rovers', 'mars', 'opportunity', '...</td>\n",
       "      <td>[roam, mar, nasa, opportunity, rover, take, pi...</td>\n",
       "      <td>3</td>\n",
       "      <td>2</td>\n",
       "    </tr>\n",
       "  </tbody>\n",
       "</table>\n",
       "</div>"
      ],
      "text/plain": [
       "              tweet_id                                               text  \\\n",
       "0  1097372619848986625  A kindergarten boy’s behavior could predict hi...   \n",
       "1  1097368941842837506  In more than 14 years of roaming Mars, NASA’s ...   \n",
       "\n",
       "                                           top_image  \\\n",
       "0  https://static01.nyt.com/images/2016/09/14/wel...   \n",
       "1  https://static01.nyt.com/images/2019/02/15/sci...   \n",
       "\n",
       "                                               title               authors  \\\n",
       "0         Behavior at Age 6 May Predict Adult Income  ['Nicholas Bakalar']   \n",
       "1  Photos From the Opportunity Rover’s Mission on...     ['Kenneth Chang']   \n",
       "\n",
       "                                             summary  \\\n",
       "0  A kindergarten boy’s behavior could predict hi...   \n",
       "1  In more than 14 years of roaming Mars, NASA’s ...   \n",
       "\n",
       "                                            keywords  \\\n",
       "0  ['boys', 'income', 'inattention', 'age', 'beha...   \n",
       "1  ['mission', 'rovers', 'mars', 'opportunity', '...   \n",
       "\n",
       "                                        cleaned_text  topic  count  \n",
       "0  [kindergarten, boy, behavior, could, predict, ...      1      2  \n",
       "1  [roam, mar, nasa, opportunity, rover, take, pi...      3      2  "
      ]
     },
     "execution_count": 178,
     "metadata": {},
     "output_type": "execute_result"
    }
   ],
   "source": [
    "a.head(2)"
   ]
  },
  {
   "cell_type": "code",
   "execution_count": 179,
   "metadata": {},
   "outputs": [
    {
     "data": {
      "text/html": [
       "<div>\n",
       "<style scoped>\n",
       "    .dataframe tbody tr th:only-of-type {\n",
       "        vertical-align: middle;\n",
       "    }\n",
       "\n",
       "    .dataframe tbody tr th {\n",
       "        vertical-align: top;\n",
       "    }\n",
       "\n",
       "    .dataframe thead th {\n",
       "        text-align: right;\n",
       "    }\n",
       "</style>\n",
       "<table border=\"1\" class=\"dataframe\">\n",
       "  <thead>\n",
       "    <tr style=\"text-align: right;\">\n",
       "      <th></th>\n",
       "      <th>tweet_id</th>\n",
       "      <th>retweet_count</th>\n",
       "    </tr>\n",
       "  </thead>\n",
       "  <tbody>\n",
       "    <tr>\n",
       "      <th>0</th>\n",
       "      <td>1086277077685301249</td>\n",
       "      <td>89</td>\n",
       "    </tr>\n",
       "    <tr>\n",
       "      <th>1</th>\n",
       "      <td>1086284595207778305</td>\n",
       "      <td>92</td>\n",
       "    </tr>\n",
       "    <tr>\n",
       "      <th>2</th>\n",
       "      <td>1086292173996339200</td>\n",
       "      <td>75</td>\n",
       "    </tr>\n",
       "    <tr>\n",
       "      <th>3</th>\n",
       "      <td>1086295933300674562</td>\n",
       "      <td>86</td>\n",
       "    </tr>\n",
       "    <tr>\n",
       "      <th>4</th>\n",
       "      <td>1086299729565270016</td>\n",
       "      <td>91</td>\n",
       "    </tr>\n",
       "  </tbody>\n",
       "</table>\n",
       "</div>"
      ],
      "text/plain": [
       "              tweet_id  retweet_count\n",
       "0  1086277077685301249             89\n",
       "1  1086284595207778305             92\n",
       "2  1086292173996339200             75\n",
       "3  1086295933300674562             86\n",
       "4  1086299729565270016             91"
      ]
     },
     "execution_count": 179,
     "metadata": {},
     "output_type": "execute_result"
    }
   ],
   "source": [
    "#creating a data frame for the number of retweeters for each article\n",
    "topic_count = r2.groupby('tweet_id').count()\n",
    "topic_count.drop(['user_id', 'screen_name', 'rating', 'location'], axis=1, inplace = True)\n",
    "topic_count.reset_index(inplace = True)\n",
    "topic_count.rename(columns = {'topic': 'retweet_count'}, inplace = True)\n",
    "topic_count.head()"
   ]
  },
  {
   "cell_type": "code",
   "execution_count": 180,
   "metadata": {
    "scrolled": true
   },
   "outputs": [
    {
     "name": "stdout",
     "output_type": "stream",
     "text": [
      "(2434, 11)\n"
     ]
    },
    {
     "data": {
      "text/html": [
       "<div>\n",
       "<style scoped>\n",
       "    .dataframe tbody tr th:only-of-type {\n",
       "        vertical-align: middle;\n",
       "    }\n",
       "\n",
       "    .dataframe tbody tr th {\n",
       "        vertical-align: top;\n",
       "    }\n",
       "\n",
       "    .dataframe thead th {\n",
       "        text-align: right;\n",
       "    }\n",
       "</style>\n",
       "<table border=\"1\" class=\"dataframe\">\n",
       "  <thead>\n",
       "    <tr style=\"text-align: right;\">\n",
       "      <th></th>\n",
       "      <th>tweet_id</th>\n",
       "      <th>text</th>\n",
       "      <th>top_image</th>\n",
       "      <th>title</th>\n",
       "      <th>authors</th>\n",
       "      <th>summary</th>\n",
       "      <th>keywords</th>\n",
       "      <th>cleaned_text</th>\n",
       "      <th>topic</th>\n",
       "      <th>count</th>\n",
       "      <th>retweet_count</th>\n",
       "    </tr>\n",
       "  </thead>\n",
       "  <tbody>\n",
       "    <tr>\n",
       "      <th>0</th>\n",
       "      <td>1097372619848986625</td>\n",
       "      <td>A kindergarten boy’s behavior could predict hi...</td>\n",
       "      <td>https://static01.nyt.com/images/2016/09/14/wel...</td>\n",
       "      <td>Behavior at Age 6 May Predict Adult Income</td>\n",
       "      <td>['Nicholas Bakalar']</td>\n",
       "      <td>A kindergarten boy’s behavior could predict hi...</td>\n",
       "      <td>['boys', 'income', 'inattention', 'age', 'beha...</td>\n",
       "      <td>[kindergarten, boy, behavior, could, predict, ...</td>\n",
       "      <td>1</td>\n",
       "      <td>2</td>\n",
       "      <td>37</td>\n",
       "    </tr>\n",
       "    <tr>\n",
       "      <th>1</th>\n",
       "      <td>1097368941842837506</td>\n",
       "      <td>In more than 14 years of roaming Mars, NASA’s ...</td>\n",
       "      <td>https://static01.nyt.com/images/2019/02/15/sci...</td>\n",
       "      <td>Photos From the Opportunity Rover’s Mission on...</td>\n",
       "      <td>['Kenneth Chang']</td>\n",
       "      <td>In more than 14 years of roaming Mars, NASA’s ...</td>\n",
       "      <td>['mission', 'rovers', 'mars', 'opportunity', '...</td>\n",
       "      <td>[roam, mar, nasa, opportunity, rover, take, pi...</td>\n",
       "      <td>3</td>\n",
       "      <td>2</td>\n",
       "      <td>89</td>\n",
       "    </tr>\n",
       "    <tr>\n",
       "      <th>2</th>\n",
       "      <td>1097364848890007552</td>\n",
       "      <td>Studies show that at a normal body weight — ge...</td>\n",
       "      <td>https://static01.nyt.com/images/2019/02/19/wel...</td>\n",
       "      <td>Why Do South Asians Have Such High Rates of He...</td>\n",
       "      <td>['Anahad O Connor']</td>\n",
       "      <td>Heart risks tended to be greatest in South Asi...</td>\n",
       "      <td>['masala', 'disease', 'rates', 'high', 'health...</td>\n",
       "      <td>[study, show, normal, body, weight, generally,...</td>\n",
       "      <td>0</td>\n",
       "      <td>4</td>\n",
       "      <td>82</td>\n",
       "    </tr>\n",
       "    <tr>\n",
       "      <th>3</th>\n",
       "      <td>1097359831034486785</td>\n",
       "      <td>For Elisa, interviewing Hays has been a frustr...</td>\n",
       "      <td>https://static01.nyt.com/images/2019/02/18/art...</td>\n",
       "      <td>‘True Detective’ Season 3, Episode 7: Missing ...</td>\n",
       "      <td>['Scott Tobias']</td>\n",
       "      <td>The one-eyed man whom they had originally ques...</td>\n",
       "      <td>['true', 'discover', 'missing', 'lucy', '1990'...</td>\n",
       "      <td>[elisa, interview, hay, frustrate, act, excava...</td>\n",
       "      <td>0</td>\n",
       "      <td>4</td>\n",
       "      <td>31</td>\n",
       "    </tr>\n",
       "    <tr>\n",
       "      <th>4</th>\n",
       "      <td>1097355297138581507</td>\n",
       "      <td>The hiring went off like a sonic boom in Holly...</td>\n",
       "      <td>https://static01.nyt.com/images/2019/02/18/bus...</td>\n",
       "      <td>In Bid to Conquer Oscars, Netflix Mobilizes Sa...</td>\n",
       "      <td>['Brooks Barnes']</td>\n",
       "      <td>“Awards Landscape Rocked as Netflix Poaches Le...</td>\n",
       "      <td>['savvy', 'studios', 'conquer', 'roma', 'holly...</td>\n",
       "      <td>[hire, sonic, boom, hollywood, reverberate, hi...</td>\n",
       "      <td>2</td>\n",
       "      <td>2</td>\n",
       "      <td>53</td>\n",
       "    </tr>\n",
       "  </tbody>\n",
       "</table>\n",
       "</div>"
      ],
      "text/plain": [
       "              tweet_id                                               text  \\\n",
       "0  1097372619848986625  A kindergarten boy’s behavior could predict hi...   \n",
       "1  1097368941842837506  In more than 14 years of roaming Mars, NASA’s ...   \n",
       "2  1097364848890007552  Studies show that at a normal body weight — ge...   \n",
       "3  1097359831034486785  For Elisa, interviewing Hays has been a frustr...   \n",
       "4  1097355297138581507  The hiring went off like a sonic boom in Holly...   \n",
       "\n",
       "                                           top_image  \\\n",
       "0  https://static01.nyt.com/images/2016/09/14/wel...   \n",
       "1  https://static01.nyt.com/images/2019/02/15/sci...   \n",
       "2  https://static01.nyt.com/images/2019/02/19/wel...   \n",
       "3  https://static01.nyt.com/images/2019/02/18/art...   \n",
       "4  https://static01.nyt.com/images/2019/02/18/bus...   \n",
       "\n",
       "                                               title               authors  \\\n",
       "0         Behavior at Age 6 May Predict Adult Income  ['Nicholas Bakalar']   \n",
       "1  Photos From the Opportunity Rover’s Mission on...     ['Kenneth Chang']   \n",
       "2  Why Do South Asians Have Such High Rates of He...   ['Anahad O Connor']   \n",
       "3  ‘True Detective’ Season 3, Episode 7: Missing ...      ['Scott Tobias']   \n",
       "4  In Bid to Conquer Oscars, Netflix Mobilizes Sa...     ['Brooks Barnes']   \n",
       "\n",
       "                                             summary  \\\n",
       "0  A kindergarten boy’s behavior could predict hi...   \n",
       "1  In more than 14 years of roaming Mars, NASA’s ...   \n",
       "2  Heart risks tended to be greatest in South Asi...   \n",
       "3  The one-eyed man whom they had originally ques...   \n",
       "4  “Awards Landscape Rocked as Netflix Poaches Le...   \n",
       "\n",
       "                                            keywords  \\\n",
       "0  ['boys', 'income', 'inattention', 'age', 'beha...   \n",
       "1  ['mission', 'rovers', 'mars', 'opportunity', '...   \n",
       "2  ['masala', 'disease', 'rates', 'high', 'health...   \n",
       "3  ['true', 'discover', 'missing', 'lucy', '1990'...   \n",
       "4  ['savvy', 'studios', 'conquer', 'roma', 'holly...   \n",
       "\n",
       "                                        cleaned_text  topic  count  \\\n",
       "0  [kindergarten, boy, behavior, could, predict, ...      1      2   \n",
       "1  [roam, mar, nasa, opportunity, rover, take, pi...      3      2   \n",
       "2  [study, show, normal, body, weight, generally,...      0      4   \n",
       "3  [elisa, interview, hay, frustrate, act, excava...      0      4   \n",
       "4  [hire, sonic, boom, hollywood, reverberate, hi...      2      2   \n",
       "\n",
       "   retweet_count  \n",
       "0             37  \n",
       "1             89  \n",
       "2             82  \n",
       "3             31  \n",
       "4             53  "
      ]
     },
     "execution_count": 180,
     "metadata": {},
     "output_type": "execute_result"
    }
   ],
   "source": [
    "#adding the above information to our over all data frame\n",
    "a = pd.merge(a, topic_count, how = 'inner', on = ['tweet_id'])\n",
    "print(a.shape)\n",
    "a.head()"
   ]
  },
  {
   "cell_type": "code",
   "execution_count": 181,
   "metadata": {},
   "outputs": [],
   "source": [
    "# a.to_csv('../data_collection/data/art_info_w_topic.csv')"
   ]
  },
  {
   "cell_type": "code",
   "execution_count": 183,
   "metadata": {},
   "outputs": [],
   "source": [
    "\n",
    "#extracting the topic probability distribution for each article \n",
    "num_topics = 5\n",
    "article_topics = {}\n",
    "retweet_count = {}\n",
    "\n",
    "for i in range(len(a)):\n",
    "    doc = a[\"cleaned_text\"][i]\n",
    "    #doc_dict = gensim.corpora.Dictionary([doc])\n",
    "    doc_corp = doc_dict.doc2bow(doc)\n",
    "\n",
    "    doc_prob = lda_model[doc_corp]\n",
    "    \n",
    "    topic_prob = [0 for i in range(num_topics)]\n",
    "    for prob in doc_prob:\n",
    "        topic_prob[prob[0]] = prob[1] \n",
    "        \n",
    "    article_topics[a[\"tweet_id\"][i]] = topic_prob\n",
    "    retweet_count[a[\"tweet_id\"][i]] = a['retweet_count'][i]\n",
    "    \n",
    "    \n"
   ]
  },
  {
   "cell_type": "code",
   "execution_count": 184,
   "metadata": {},
   "outputs": [
    {
     "data": {
      "text/plain": [
       "[0, 0.4480056, 0.5470507, 0, 0]"
      ]
     },
     "execution_count": 184,
     "metadata": {},
     "output_type": "execute_result"
    }
   ],
   "source": [
    "article_topics[1097372619848986625]"
   ]
  },
  {
   "cell_type": "code",
   "execution_count": 185,
   "metadata": {},
   "outputs": [
    {
     "data": {
      "text/plain": [
       "37"
      ]
     },
     "execution_count": 185,
     "metadata": {},
     "output_type": "execute_result"
    }
   ],
   "source": [
    "retweet_count[1097372619848986625]"
   ]
  },
  {
   "cell_type": "code",
   "execution_count": 186,
   "metadata": {},
   "outputs": [
    {
     "name": "stdout",
     "output_type": "stream",
     "text": [
      "(2434, 6)\n"
     ]
    },
    {
     "data": {
      "text/html": [
       "<div>\n",
       "<style scoped>\n",
       "    .dataframe tbody tr th:only-of-type {\n",
       "        vertical-align: middle;\n",
       "    }\n",
       "\n",
       "    .dataframe tbody tr th {\n",
       "        vertical-align: top;\n",
       "    }\n",
       "\n",
       "    .dataframe thead th {\n",
       "        text-align: right;\n",
       "    }\n",
       "</style>\n",
       "<table border=\"1\" class=\"dataframe\">\n",
       "  <thead>\n",
       "    <tr style=\"text-align: right;\">\n",
       "      <th></th>\n",
       "      <th>tweet_id</th>\n",
       "      <th>topic_0</th>\n",
       "      <th>topic_1</th>\n",
       "      <th>topic_2</th>\n",
       "      <th>topic_3</th>\n",
       "      <th>topic_4</th>\n",
       "    </tr>\n",
       "  </thead>\n",
       "  <tbody>\n",
       "    <tr>\n",
       "      <th>0</th>\n",
       "      <td>1097372619848986625</td>\n",
       "      <td>0.000000</td>\n",
       "      <td>0.448006</td>\n",
       "      <td>0.547051</td>\n",
       "      <td>0.000000</td>\n",
       "      <td>0.000000</td>\n",
       "    </tr>\n",
       "    <tr>\n",
       "      <th>1</th>\n",
       "      <td>1097368941842837506</td>\n",
       "      <td>0.000000</td>\n",
       "      <td>0.000000</td>\n",
       "      <td>0.000000</td>\n",
       "      <td>0.580206</td>\n",
       "      <td>0.410655</td>\n",
       "    </tr>\n",
       "    <tr>\n",
       "      <th>2</th>\n",
       "      <td>1097364848890007552</td>\n",
       "      <td>0.349411</td>\n",
       "      <td>0.027401</td>\n",
       "      <td>0.238046</td>\n",
       "      <td>0.000000</td>\n",
       "      <td>0.384532</td>\n",
       "    </tr>\n",
       "    <tr>\n",
       "      <th>3</th>\n",
       "      <td>1097359831034486785</td>\n",
       "      <td>0.016955</td>\n",
       "      <td>0.835108</td>\n",
       "      <td>0.124532</td>\n",
       "      <td>0.022292</td>\n",
       "      <td>0.000000</td>\n",
       "    </tr>\n",
       "    <tr>\n",
       "      <th>4</th>\n",
       "      <td>1097355297138581507</td>\n",
       "      <td>0.000000</td>\n",
       "      <td>0.000000</td>\n",
       "      <td>0.194885</td>\n",
       "      <td>0.000000</td>\n",
       "      <td>0.802128</td>\n",
       "    </tr>\n",
       "  </tbody>\n",
       "</table>\n",
       "</div>"
      ],
      "text/plain": [
       "              tweet_id   topic_0   topic_1   topic_2   topic_3   topic_4\n",
       "0  1097372619848986625  0.000000  0.448006  0.547051  0.000000  0.000000\n",
       "1  1097368941842837506  0.000000  0.000000  0.000000  0.580206  0.410655\n",
       "2  1097364848890007552  0.349411  0.027401  0.238046  0.000000  0.384532\n",
       "3  1097359831034486785  0.016955  0.835108  0.124532  0.022292  0.000000\n",
       "4  1097355297138581507  0.000000  0.000000  0.194885  0.000000  0.802128"
      ]
     },
     "execution_count": 186,
     "metadata": {},
     "output_type": "execute_result"
    }
   ],
   "source": [
    "top_dist = pd.DataFrame()\n",
    "top_dist['tweet_id'] = a.tweet_id\n",
    "top_dist['topic_0'] = [article_topics[i][0] for i in a.tweet_id]\n",
    "top_dist['topic_1'] = [article_topics[i][1] for i in a.tweet_id]\n",
    "top_dist['topic_2'] = [article_topics[i][2] for i in a.tweet_id]\n",
    "top_dist['topic_3'] = [article_topics[i][3] for i in a.tweet_id]\n",
    "top_dist['topic_4'] = [article_topics[i][4] for i in a.tweet_id]\n",
    "print(top_dist.shape)\n",
    "top_dist.head()"
   ]
  },
  {
   "cell_type": "code",
   "execution_count": 187,
   "metadata": {},
   "outputs": [],
   "source": [
    "# top_dist.to_csv('../data_collection/data/art_topic_distribution.csv')"
   ]
  },
  {
   "cell_type": "code",
   "execution_count": null,
   "metadata": {},
   "outputs": [],
   "source": []
  }
 ],
 "metadata": {
  "kernelspec": {
   "display_name": "Python 3",
   "language": "python",
   "name": "python3"
  },
  "language_info": {
   "codemirror_mode": {
    "name": "ipython",
    "version": 3
   },
   "file_extension": ".py",
   "mimetype": "text/x-python",
   "name": "python",
   "nbconvert_exporter": "python",
   "pygments_lexer": "ipython3",
   "version": "3.7.2"
  }
 },
 "nbformat": 4,
 "nbformat_minor": 2
}
